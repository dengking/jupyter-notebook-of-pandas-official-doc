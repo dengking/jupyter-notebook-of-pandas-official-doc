{
 "cells": [
  {
   "cell_type": "markdown",
   "metadata": {},
   "source": [
    "# 16.1 Splitting an object into groups"
   ]
  },
  {
   "cell_type": "code",
   "execution_count": 2,
   "metadata": {
    "collapsed": false
   },
   "outputs": [
    {
     "name": "stderr",
     "output_type": "stream",
     "text": [
      "D:\\Program Files\\Anaconda3\\lib\\importlib\\_bootstrap.py:222: RuntimeWarning: numpy.dtype size changed, may indicate binary incompatibility. Expected 96, got 88\n",
      "  return f(*args, **kwds)\n"
     ]
    }
   ],
   "source": [
    "%matplotlib inline\n",
    "import pandas as pd\n",
    "import numpy as np"
   ]
  },
  {
   "cell_type": "code",
   "execution_count": 58,
   "metadata": {
    "collapsed": false
   },
   "outputs": [
    {
     "data": {
      "text/html": [
       "<div>\n",
       "<style scoped>\n",
       "    .dataframe tbody tr th:only-of-type {\n",
       "        vertical-align: middle;\n",
       "    }\n",
       "\n",
       "    .dataframe tbody tr th {\n",
       "        vertical-align: top;\n",
       "    }\n",
       "\n",
       "    .dataframe thead th {\n",
       "        text-align: right;\n",
       "    }\n",
       "</style>\n",
       "<table border=\"1\" class=\"dataframe\">\n",
       "  <thead>\n",
       "    <tr style=\"text-align: right;\">\n",
       "      <th></th>\n",
       "      <th>A</th>\n",
       "      <th>B</th>\n",
       "      <th>C</th>\n",
       "      <th>D</th>\n",
       "    </tr>\n",
       "  </thead>\n",
       "  <tbody>\n",
       "    <tr>\n",
       "      <th>0</th>\n",
       "      <td>foo</td>\n",
       "      <td>one</td>\n",
       "      <td>-1.124461</td>\n",
       "      <td>0.677408</td>\n",
       "    </tr>\n",
       "    <tr>\n",
       "      <th>1</th>\n",
       "      <td>bar</td>\n",
       "      <td>one</td>\n",
       "      <td>-0.830092</td>\n",
       "      <td>-0.756952</td>\n",
       "    </tr>\n",
       "    <tr>\n",
       "      <th>2</th>\n",
       "      <td>foo</td>\n",
       "      <td>two</td>\n",
       "      <td>1.085252</td>\n",
       "      <td>-0.811569</td>\n",
       "    </tr>\n",
       "    <tr>\n",
       "      <th>3</th>\n",
       "      <td>bar</td>\n",
       "      <td>three</td>\n",
       "      <td>-0.865654</td>\n",
       "      <td>-0.788776</td>\n",
       "    </tr>\n",
       "    <tr>\n",
       "      <th>4</th>\n",
       "      <td>foo</td>\n",
       "      <td>two</td>\n",
       "      <td>0.486710</td>\n",
       "      <td>-0.106797</td>\n",
       "    </tr>\n",
       "    <tr>\n",
       "      <th>5</th>\n",
       "      <td>bar</td>\n",
       "      <td>two</td>\n",
       "      <td>0.099086</td>\n",
       "      <td>-0.978453</td>\n",
       "    </tr>\n",
       "    <tr>\n",
       "      <th>6</th>\n",
       "      <td>foo</td>\n",
       "      <td>one</td>\n",
       "      <td>0.391403</td>\n",
       "      <td>-0.301258</td>\n",
       "    </tr>\n",
       "    <tr>\n",
       "      <th>7</th>\n",
       "      <td>foo</td>\n",
       "      <td>three</td>\n",
       "      <td>-1.171082</td>\n",
       "      <td>-0.545103</td>\n",
       "    </tr>\n",
       "  </tbody>\n",
       "</table>\n",
       "</div>"
      ],
      "text/plain": [
       "     A      B         C         D\n",
       "0  foo    one -1.124461  0.677408\n",
       "1  bar    one -0.830092 -0.756952\n",
       "2  foo    two  1.085252 -0.811569\n",
       "3  bar  three -0.865654 -0.788776\n",
       "4  foo    two  0.486710 -0.106797\n",
       "5  bar    two  0.099086 -0.978453\n",
       "6  foo    one  0.391403 -0.301258\n",
       "7  foo  three -1.171082 -0.545103"
      ]
     },
     "execution_count": 58,
     "metadata": {},
     "output_type": "execute_result"
    }
   ],
   "source": [
    "df = pd.DataFrame({'A' : ['foo', 'bar', 'foo', 'bar','foo', 'bar', 'foo', 'foo'],\n",
    "                   'B' : ['one', 'one', 'two', 'three','two', 'two', 'one', 'three'],\n",
    "                   'C' : np.random.randn(8),\n",
    "                   'D' : np.random.randn(8)})\n",
    "df"
   ]
  },
  {
   "cell_type": "code",
   "execution_count": 5,
   "metadata": {
    "collapsed": true
   },
   "outputs": [],
   "source": [
    "grouped = df.groupby('A')\n",
    "grouped = df.groupby(['A', 'B'])"
   ]
  },
  {
   "cell_type": "code",
   "execution_count": 6,
   "metadata": {
    "collapsed": true
   },
   "outputs": [],
   "source": [
    " def get_letter_type(letter):\n",
    "        if letter.lower() in 'aeiou':\n",
    "            return 'vowel'\n",
    "        else:\n",
    "            return 'consonant'\n",
    "        "
   ]
  },
  {
   "cell_type": "code",
   "execution_count": 7,
   "metadata": {
    "collapsed": true
   },
   "outputs": [],
   "source": [
    " grouped = df.groupby(get_letter_type, axis=1)"
   ]
  },
  {
   "cell_type": "markdown",
   "metadata": {},
   "source": [
    "显然，get_letter_type函数的返回值就是group name，显然这个函数定义了a mapping of lable to group name"
   ]
  },
  {
   "cell_type": "code",
   "execution_count": 8,
   "metadata": {
    "collapsed": false
   },
   "outputs": [
    {
     "data": {
      "text/plain": [
       "1     1\n",
       "2     2\n",
       "3     3\n",
       "1    10\n",
       "2    20\n",
       "3    30\n",
       "dtype: int64"
      ]
     },
     "execution_count": 8,
     "metadata": {},
     "output_type": "execute_result"
    }
   ],
   "source": [
    "lst = [1, 2, 3, 1, 2, 3]\n",
    "s = pd.Series([1, 2, 3, 10, 20, 30], lst)\n",
    "s"
   ]
  },
  {
   "cell_type": "code",
   "execution_count": 9,
   "metadata": {
    "collapsed": true
   },
   "outputs": [],
   "source": [
    "grouped = s.groupby(level=0)"
   ]
  },
  {
   "cell_type": "markdown",
   "metadata": {},
   "source": [
    "注意：看完了multiindex，应该需要对level敏感了，显然，当groupby函数的参数level被指定的情况下，也就表明要使用index来进行分组"
   ]
  },
  {
   "cell_type": "code",
   "execution_count": 11,
   "metadata": {
    "collapsed": false
   },
   "outputs": [
    {
     "data": {
      "text/plain": [
       "1    1\n",
       "2    2\n",
       "3    3\n",
       "dtype: int64"
      ]
     },
     "execution_count": 11,
     "metadata": {},
     "output_type": "execute_result"
    }
   ],
   "source": [
    "grouped.first()"
   ]
  },
  {
   "cell_type": "code",
   "execution_count": 12,
   "metadata": {
    "collapsed": false
   },
   "outputs": [
    {
     "data": {
      "text/plain": [
       "1    10\n",
       "2    20\n",
       "3    30\n",
       "dtype: int64"
      ]
     },
     "execution_count": 12,
     "metadata": {},
     "output_type": "execute_result"
    }
   ],
   "source": [
    "grouped.last()"
   ]
  },
  {
   "cell_type": "code",
   "execution_count": 13,
   "metadata": {
    "collapsed": false
   },
   "outputs": [
    {
     "data": {
      "text/plain": [
       "1    11\n",
       "2    22\n",
       "3    33\n",
       "dtype: int64"
      ]
     },
     "execution_count": 13,
     "metadata": {},
     "output_type": "execute_result"
    }
   ],
   "source": [
    "grouped.sum()"
   ]
  },
  {
   "cell_type": "markdown",
   "metadata": {},
   "source": [
    "## 16.1.1 GroupBy sorting"
   ]
  },
  {
   "cell_type": "code",
   "execution_count": 14,
   "metadata": {
    "collapsed": false
   },
   "outputs": [
    {
     "data": {
      "text/html": [
       "<div>\n",
       "<style scoped>\n",
       "    .dataframe tbody tr th:only-of-type {\n",
       "        vertical-align: middle;\n",
       "    }\n",
       "\n",
       "    .dataframe tbody tr th {\n",
       "        vertical-align: top;\n",
       "    }\n",
       "\n",
       "    .dataframe thead th {\n",
       "        text-align: right;\n",
       "    }\n",
       "</style>\n",
       "<table border=\"1\" class=\"dataframe\">\n",
       "  <thead>\n",
       "    <tr style=\"text-align: right;\">\n",
       "      <th></th>\n",
       "      <th>X</th>\n",
       "      <th>Y</th>\n",
       "    </tr>\n",
       "  </thead>\n",
       "  <tbody>\n",
       "    <tr>\n",
       "      <th>0</th>\n",
       "      <td>B</td>\n",
       "      <td>1</td>\n",
       "    </tr>\n",
       "    <tr>\n",
       "      <th>1</th>\n",
       "      <td>B</td>\n",
       "      <td>2</td>\n",
       "    </tr>\n",
       "    <tr>\n",
       "      <th>2</th>\n",
       "      <td>A</td>\n",
       "      <td>3</td>\n",
       "    </tr>\n",
       "    <tr>\n",
       "      <th>3</th>\n",
       "      <td>A</td>\n",
       "      <td>4</td>\n",
       "    </tr>\n",
       "  </tbody>\n",
       "</table>\n",
       "</div>"
      ],
      "text/plain": [
       "   X  Y\n",
       "0  B  1\n",
       "1  B  2\n",
       "2  A  3\n",
       "3  A  4"
      ]
     },
     "execution_count": 14,
     "metadata": {},
     "output_type": "execute_result"
    }
   ],
   "source": [
    "df2 = pd.DataFrame({'X' : ['B', 'B', 'A', 'A'], 'Y' : [1, 2, 3, 4]})\n",
    "df2"
   ]
  },
  {
   "cell_type": "code",
   "execution_count": 15,
   "metadata": {
    "collapsed": false
   },
   "outputs": [
    {
     "data": {
      "text/html": [
       "<div>\n",
       "<style scoped>\n",
       "    .dataframe tbody tr th:only-of-type {\n",
       "        vertical-align: middle;\n",
       "    }\n",
       "\n",
       "    .dataframe tbody tr th {\n",
       "        vertical-align: top;\n",
       "    }\n",
       "\n",
       "    .dataframe thead th {\n",
       "        text-align: right;\n",
       "    }\n",
       "</style>\n",
       "<table border=\"1\" class=\"dataframe\">\n",
       "  <thead>\n",
       "    <tr style=\"text-align: right;\">\n",
       "      <th></th>\n",
       "      <th>Y</th>\n",
       "    </tr>\n",
       "    <tr>\n",
       "      <th>X</th>\n",
       "      <th></th>\n",
       "    </tr>\n",
       "  </thead>\n",
       "  <tbody>\n",
       "    <tr>\n",
       "      <th>A</th>\n",
       "      <td>7</td>\n",
       "    </tr>\n",
       "    <tr>\n",
       "      <th>B</th>\n",
       "      <td>3</td>\n",
       "    </tr>\n",
       "  </tbody>\n",
       "</table>\n",
       "</div>"
      ],
      "text/plain": [
       "   Y\n",
       "X   \n",
       "A  7\n",
       "B  3"
      ]
     },
     "execution_count": 15,
     "metadata": {},
     "output_type": "execute_result"
    }
   ],
   "source": [
    "df2.groupby(['X']).sum()"
   ]
  },
  {
   "cell_type": "code",
   "execution_count": 16,
   "metadata": {
    "collapsed": false
   },
   "outputs": [
    {
     "data": {
      "text/html": [
       "<div>\n",
       "<style scoped>\n",
       "    .dataframe tbody tr th:only-of-type {\n",
       "        vertical-align: middle;\n",
       "    }\n",
       "\n",
       "    .dataframe tbody tr th {\n",
       "        vertical-align: top;\n",
       "    }\n",
       "\n",
       "    .dataframe thead th {\n",
       "        text-align: right;\n",
       "    }\n",
       "</style>\n",
       "<table border=\"1\" class=\"dataframe\">\n",
       "  <thead>\n",
       "    <tr style=\"text-align: right;\">\n",
       "      <th></th>\n",
       "      <th>Y</th>\n",
       "    </tr>\n",
       "    <tr>\n",
       "      <th>X</th>\n",
       "      <th></th>\n",
       "    </tr>\n",
       "  </thead>\n",
       "  <tbody>\n",
       "    <tr>\n",
       "      <th>B</th>\n",
       "      <td>3</td>\n",
       "    </tr>\n",
       "    <tr>\n",
       "      <th>A</th>\n",
       "      <td>7</td>\n",
       "    </tr>\n",
       "  </tbody>\n",
       "</table>\n",
       "</div>"
      ],
      "text/plain": [
       "   Y\n",
       "X   \n",
       "B  3\n",
       "A  7"
      ]
     },
     "execution_count": 16,
     "metadata": {},
     "output_type": "execute_result"
    }
   ],
   "source": [
    "df2.groupby(['X'], sort=False).sum()"
   ]
  },
  {
   "cell_type": "code",
   "execution_count": 18,
   "metadata": {
    "collapsed": false
   },
   "outputs": [
    {
     "data": {
      "text/html": [
       "<div>\n",
       "<style scoped>\n",
       "    .dataframe tbody tr th:only-of-type {\n",
       "        vertical-align: middle;\n",
       "    }\n",
       "\n",
       "    .dataframe tbody tr th {\n",
       "        vertical-align: top;\n",
       "    }\n",
       "\n",
       "    .dataframe thead th {\n",
       "        text-align: right;\n",
       "    }\n",
       "</style>\n",
       "<table border=\"1\" class=\"dataframe\">\n",
       "  <thead>\n",
       "    <tr style=\"text-align: right;\">\n",
       "      <th></th>\n",
       "      <th>X</th>\n",
       "      <th>Y</th>\n",
       "    </tr>\n",
       "  </thead>\n",
       "  <tbody>\n",
       "    <tr>\n",
       "      <th>0</th>\n",
       "      <td>A</td>\n",
       "      <td>1</td>\n",
       "    </tr>\n",
       "    <tr>\n",
       "      <th>1</th>\n",
       "      <td>B</td>\n",
       "      <td>4</td>\n",
       "    </tr>\n",
       "    <tr>\n",
       "      <th>2</th>\n",
       "      <td>A</td>\n",
       "      <td>3</td>\n",
       "    </tr>\n",
       "    <tr>\n",
       "      <th>3</th>\n",
       "      <td>B</td>\n",
       "      <td>2</td>\n",
       "    </tr>\n",
       "  </tbody>\n",
       "</table>\n",
       "</div>"
      ],
      "text/plain": [
       "   X  Y\n",
       "0  A  1\n",
       "1  B  4\n",
       "2  A  3\n",
       "3  B  2"
      ]
     },
     "execution_count": 18,
     "metadata": {},
     "output_type": "execute_result"
    }
   ],
   "source": [
    "df3 = pd.DataFrame({'X' : ['A', 'B', 'A', 'B'], 'Y' : [1, 4, 3, 2]})\n",
    "df3"
   ]
  },
  {
   "cell_type": "code",
   "execution_count": 19,
   "metadata": {
    "collapsed": false
   },
   "outputs": [
    {
     "data": {
      "text/html": [
       "<div>\n",
       "<style scoped>\n",
       "    .dataframe tbody tr th:only-of-type {\n",
       "        vertical-align: middle;\n",
       "    }\n",
       "\n",
       "    .dataframe tbody tr th {\n",
       "        vertical-align: top;\n",
       "    }\n",
       "\n",
       "    .dataframe thead th {\n",
       "        text-align: right;\n",
       "    }\n",
       "</style>\n",
       "<table border=\"1\" class=\"dataframe\">\n",
       "  <thead>\n",
       "    <tr style=\"text-align: right;\">\n",
       "      <th></th>\n",
       "      <th>X</th>\n",
       "      <th>Y</th>\n",
       "    </tr>\n",
       "  </thead>\n",
       "  <tbody>\n",
       "    <tr>\n",
       "      <th>0</th>\n",
       "      <td>A</td>\n",
       "      <td>1</td>\n",
       "    </tr>\n",
       "    <tr>\n",
       "      <th>2</th>\n",
       "      <td>A</td>\n",
       "      <td>3</td>\n",
       "    </tr>\n",
       "  </tbody>\n",
       "</table>\n",
       "</div>"
      ],
      "text/plain": [
       "   X  Y\n",
       "0  A  1\n",
       "2  A  3"
      ]
     },
     "execution_count": 19,
     "metadata": {},
     "output_type": "execute_result"
    }
   ],
   "source": [
    "df3.groupby(['X']).get_group('A')"
   ]
  },
  {
   "cell_type": "code",
   "execution_count": 20,
   "metadata": {
    "collapsed": false
   },
   "outputs": [
    {
     "data": {
      "text/html": [
       "<div>\n",
       "<style scoped>\n",
       "    .dataframe tbody tr th:only-of-type {\n",
       "        vertical-align: middle;\n",
       "    }\n",
       "\n",
       "    .dataframe tbody tr th {\n",
       "        vertical-align: top;\n",
       "    }\n",
       "\n",
       "    .dataframe thead th {\n",
       "        text-align: right;\n",
       "    }\n",
       "</style>\n",
       "<table border=\"1\" class=\"dataframe\">\n",
       "  <thead>\n",
       "    <tr style=\"text-align: right;\">\n",
       "      <th></th>\n",
       "      <th>X</th>\n",
       "      <th>Y</th>\n",
       "    </tr>\n",
       "  </thead>\n",
       "  <tbody>\n",
       "    <tr>\n",
       "      <th>1</th>\n",
       "      <td>B</td>\n",
       "      <td>4</td>\n",
       "    </tr>\n",
       "    <tr>\n",
       "      <th>3</th>\n",
       "      <td>B</td>\n",
       "      <td>2</td>\n",
       "    </tr>\n",
       "  </tbody>\n",
       "</table>\n",
       "</div>"
      ],
      "text/plain": [
       "   X  Y\n",
       "1  B  4\n",
       "3  B  2"
      ]
     },
     "execution_count": 20,
     "metadata": {},
     "output_type": "execute_result"
    }
   ],
   "source": [
    "df3.groupby(['X']).get_group('B')"
   ]
  },
  {
   "cell_type": "markdown",
   "metadata": {},
   "source": [
    "## 16.1.2 GroupBy object attributes"
   ]
  },
  {
   "cell_type": "code",
   "execution_count": 24,
   "metadata": {
    "collapsed": false
   },
   "outputs": [
    {
     "data": {
      "text/html": [
       "<div>\n",
       "<style scoped>\n",
       "    .dataframe tbody tr th:only-of-type {\n",
       "        vertical-align: middle;\n",
       "    }\n",
       "\n",
       "    .dataframe tbody tr th {\n",
       "        vertical-align: top;\n",
       "    }\n",
       "\n",
       "    .dataframe thead th {\n",
       "        text-align: right;\n",
       "    }\n",
       "</style>\n",
       "<table border=\"1\" class=\"dataframe\">\n",
       "  <thead>\n",
       "    <tr style=\"text-align: right;\">\n",
       "      <th></th>\n",
       "      <th>A</th>\n",
       "      <th>B</th>\n",
       "      <th>C</th>\n",
       "      <th>D</th>\n",
       "    </tr>\n",
       "  </thead>\n",
       "  <tbody>\n",
       "    <tr>\n",
       "      <th>0</th>\n",
       "      <td>foo</td>\n",
       "      <td>one</td>\n",
       "      <td>2.699105</td>\n",
       "      <td>0.301294</td>\n",
       "    </tr>\n",
       "    <tr>\n",
       "      <th>1</th>\n",
       "      <td>bar</td>\n",
       "      <td>one</td>\n",
       "      <td>-1.417945</td>\n",
       "      <td>-2.317604</td>\n",
       "    </tr>\n",
       "    <tr>\n",
       "      <th>2</th>\n",
       "      <td>foo</td>\n",
       "      <td>two</td>\n",
       "      <td>-0.227279</td>\n",
       "      <td>1.471652</td>\n",
       "    </tr>\n",
       "    <tr>\n",
       "      <th>3</th>\n",
       "      <td>bar</td>\n",
       "      <td>three</td>\n",
       "      <td>0.476644</td>\n",
       "      <td>-1.325698</td>\n",
       "    </tr>\n",
       "    <tr>\n",
       "      <th>4</th>\n",
       "      <td>foo</td>\n",
       "      <td>two</td>\n",
       "      <td>0.705054</td>\n",
       "      <td>-1.371071</td>\n",
       "    </tr>\n",
       "    <tr>\n",
       "      <th>5</th>\n",
       "      <td>bar</td>\n",
       "      <td>two</td>\n",
       "      <td>-0.476645</td>\n",
       "      <td>1.102865</td>\n",
       "    </tr>\n",
       "    <tr>\n",
       "      <th>6</th>\n",
       "      <td>foo</td>\n",
       "      <td>one</td>\n",
       "      <td>0.505329</td>\n",
       "      <td>-1.346775</td>\n",
       "    </tr>\n",
       "    <tr>\n",
       "      <th>7</th>\n",
       "      <td>foo</td>\n",
       "      <td>three</td>\n",
       "      <td>0.333910</td>\n",
       "      <td>0.422853</td>\n",
       "    </tr>\n",
       "  </tbody>\n",
       "</table>\n",
       "</div>"
      ],
      "text/plain": [
       "     A      B         C         D\n",
       "0  foo    one  2.699105  0.301294\n",
       "1  bar    one -1.417945 -2.317604\n",
       "2  foo    two -0.227279  1.471652\n",
       "3  bar  three  0.476644 -1.325698\n",
       "4  foo    two  0.705054 -1.371071\n",
       "5  bar    two -0.476645  1.102865\n",
       "6  foo    one  0.505329 -1.346775\n",
       "7  foo  three  0.333910  0.422853"
      ]
     },
     "execution_count": 24,
     "metadata": {},
     "output_type": "execute_result"
    }
   ],
   "source": [
    "df"
   ]
  },
  {
   "cell_type": "code",
   "execution_count": 23,
   "metadata": {
    "collapsed": false
   },
   "outputs": [
    {
     "data": {
      "text/plain": [
       "{'bar': Int64Index([1, 3, 5], dtype='int64'),\n",
       " 'foo': Int64Index([0, 2, 4, 6, 7], dtype='int64')}"
      ]
     },
     "execution_count": 23,
     "metadata": {},
     "output_type": "execute_result"
    }
   ],
   "source": [
    "df.groupby('A').groups"
   ]
  },
  {
   "cell_type": "code",
   "execution_count": 25,
   "metadata": {
    "collapsed": false
   },
   "outputs": [
    {
     "data": {
      "text/plain": [
       "{'consonant': Index(['B', 'C', 'D'], dtype='object'),\n",
       " 'vowel': Index(['A'], dtype='object')}"
      ]
     },
     "execution_count": 25,
     "metadata": {},
     "output_type": "execute_result"
    }
   ],
   "source": [
    "df.groupby(get_letter_type, axis=1).groups"
   ]
  },
  {
   "cell_type": "code",
   "execution_count": 26,
   "metadata": {
    "collapsed": false
   },
   "outputs": [
    {
     "data": {
      "text/plain": [
       "{('bar', 'one'): Int64Index([1], dtype='int64'),\n",
       " ('bar', 'three'): Int64Index([3], dtype='int64'),\n",
       " ('bar', 'two'): Int64Index([5], dtype='int64'),\n",
       " ('foo', 'one'): Int64Index([0, 6], dtype='int64'),\n",
       " ('foo', 'three'): Int64Index([7], dtype='int64'),\n",
       " ('foo', 'two'): Int64Index([2, 4], dtype='int64')}"
      ]
     },
     "execution_count": 26,
     "metadata": {},
     "output_type": "execute_result"
    }
   ],
   "source": [
    "grouped = df.groupby(['A', 'B'])\n",
    "grouped.groups"
   ]
  },
  {
   "cell_type": "code",
   "execution_count": 27,
   "metadata": {
    "collapsed": false
   },
   "outputs": [
    {
     "data": {
      "text/plain": [
       "6"
      ]
     },
     "execution_count": 27,
     "metadata": {},
     "output_type": "execute_result"
    }
   ],
   "source": [
    "len(grouped)"
   ]
  },
  {
   "cell_type": "markdown",
   "metadata": {},
   "source": [
    "## 16.1.3 GroupBy with MultiIndex"
   ]
  },
  {
   "cell_type": "code",
   "execution_count": 30,
   "metadata": {
    "collapsed": false
   },
   "outputs": [
    {
     "data": {
      "text/plain": [
       "first  second\n",
       "bar    one      -0.737608\n",
       "       two       1.061706\n",
       "baz    one      -1.026070\n",
       "       two       1.164503\n",
       "foo    one       1.469209\n",
       "       two       0.288029\n",
       "qux    one       0.904783\n",
       "       two       0.050478\n",
       "dtype: float64"
      ]
     },
     "execution_count": 30,
     "metadata": {},
     "output_type": "execute_result"
    }
   ],
   "source": [
    "arrays = [['bar', 'bar', 'baz', 'baz', 'foo', 'foo', 'qux', 'qux'],\n",
    "           ['one', 'two', 'one', 'two', 'one', 'two', 'one', 'two']]\n",
    "index = pd.MultiIndex.from_arrays(arrays, names=['first', 'second'])\n",
    "s = pd.Series(np.random.randn(8), index=index)\n",
    "s"
   ]
  },
  {
   "cell_type": "code",
   "execution_count": 33,
   "metadata": {
    "collapsed": false
   },
   "outputs": [
    {
     "data": {
      "text/plain": [
       "first\n",
       "bar    0.324098\n",
       "baz    0.138433\n",
       "foo    1.757238\n",
       "qux    0.955260\n",
       "dtype: float64"
      ]
     },
     "execution_count": 33,
     "metadata": {},
     "output_type": "execute_result"
    }
   ],
   "source": [
    "grouped = s.groupby(level=0)\n",
    "grouped.sum()"
   ]
  },
  {
   "cell_type": "code",
   "execution_count": 34,
   "metadata": {
    "collapsed": false
   },
   "outputs": [
    {
     "data": {
      "text/plain": [
       "second\n",
       "one    0.610312\n",
       "two    2.564717\n",
       "dtype: float64"
      ]
     },
     "execution_count": 34,
     "metadata": {},
     "output_type": "execute_result"
    }
   ],
   "source": [
    "s.groupby(level='second').sum()"
   ]
  },
  {
   "cell_type": "code",
   "execution_count": 35,
   "metadata": {
    "collapsed": false
   },
   "outputs": [
    {
     "data": {
      "text/plain": [
       "second\n",
       "one    0.610312\n",
       "two    2.564717\n",
       "dtype: float64"
      ]
     },
     "execution_count": 35,
     "metadata": {},
     "output_type": "execute_result"
    }
   ],
   "source": [
    "s.sum(level='second')"
   ]
  },
  {
   "cell_type": "markdown",
   "metadata": {},
   "source": [
    "## 16.1.4 Grouping DataFrame with Index Levels and Columns"
   ]
  },
  {
   "cell_type": "code",
   "execution_count": 37,
   "metadata": {
    "collapsed": false
   },
   "outputs": [
    {
     "data": {
      "text/html": [
       "<div>\n",
       "<style scoped>\n",
       "    .dataframe tbody tr th:only-of-type {\n",
       "        vertical-align: middle;\n",
       "    }\n",
       "\n",
       "    .dataframe tbody tr th {\n",
       "        vertical-align: top;\n",
       "    }\n",
       "\n",
       "    .dataframe thead th {\n",
       "        text-align: right;\n",
       "    }\n",
       "</style>\n",
       "<table border=\"1\" class=\"dataframe\">\n",
       "  <thead>\n",
       "    <tr style=\"text-align: right;\">\n",
       "      <th></th>\n",
       "      <th></th>\n",
       "      <th>A</th>\n",
       "      <th>B</th>\n",
       "    </tr>\n",
       "    <tr>\n",
       "      <th>first</th>\n",
       "      <th>second</th>\n",
       "      <th></th>\n",
       "      <th></th>\n",
       "    </tr>\n",
       "  </thead>\n",
       "  <tbody>\n",
       "    <tr>\n",
       "      <th rowspan=\"2\" valign=\"top\">bar</th>\n",
       "      <th>one</th>\n",
       "      <td>1</td>\n",
       "      <td>0</td>\n",
       "    </tr>\n",
       "    <tr>\n",
       "      <th>two</th>\n",
       "      <td>1</td>\n",
       "      <td>1</td>\n",
       "    </tr>\n",
       "    <tr>\n",
       "      <th rowspan=\"2\" valign=\"top\">baz</th>\n",
       "      <th>one</th>\n",
       "      <td>1</td>\n",
       "      <td>2</td>\n",
       "    </tr>\n",
       "    <tr>\n",
       "      <th>two</th>\n",
       "      <td>1</td>\n",
       "      <td>3</td>\n",
       "    </tr>\n",
       "    <tr>\n",
       "      <th rowspan=\"2\" valign=\"top\">foo</th>\n",
       "      <th>one</th>\n",
       "      <td>2</td>\n",
       "      <td>4</td>\n",
       "    </tr>\n",
       "    <tr>\n",
       "      <th>two</th>\n",
       "      <td>2</td>\n",
       "      <td>5</td>\n",
       "    </tr>\n",
       "    <tr>\n",
       "      <th rowspan=\"2\" valign=\"top\">qux</th>\n",
       "      <th>one</th>\n",
       "      <td>3</td>\n",
       "      <td>6</td>\n",
       "    </tr>\n",
       "    <tr>\n",
       "      <th>two</th>\n",
       "      <td>3</td>\n",
       "      <td>7</td>\n",
       "    </tr>\n",
       "  </tbody>\n",
       "</table>\n",
       "</div>"
      ],
      "text/plain": [
       "              A  B\n",
       "first second      \n",
       "bar   one     1  0\n",
       "      two     1  1\n",
       "baz   one     1  2\n",
       "      two     1  3\n",
       "foo   one     2  4\n",
       "      two     2  5\n",
       "qux   one     3  6\n",
       "      two     3  7"
      ]
     },
     "execution_count": 37,
     "metadata": {},
     "output_type": "execute_result"
    }
   ],
   "source": [
    "arrays = [['bar', 'bar', 'baz', 'baz', 'foo', 'foo', 'qux', 'qux'],['one', 'two', 'one', 'two', 'one', 'two', 'one', 'two']]\n",
    "index = pd.MultiIndex.from_arrays(arrays, names=['first', 'second'])\n",
    "df = pd.DataFrame({'A': [1, 1, 1, 1, 2, 2, 3, 3],'B': np.arange(8)},index=index)\n",
    "df"
   ]
  },
  {
   "cell_type": "code",
   "execution_count": 38,
   "metadata": {
    "collapsed": false
   },
   "outputs": [
    {
     "data": {
      "text/html": [
       "<div>\n",
       "<style scoped>\n",
       "    .dataframe tbody tr th:only-of-type {\n",
       "        vertical-align: middle;\n",
       "    }\n",
       "\n",
       "    .dataframe tbody tr th {\n",
       "        vertical-align: top;\n",
       "    }\n",
       "\n",
       "    .dataframe thead th {\n",
       "        text-align: right;\n",
       "    }\n",
       "</style>\n",
       "<table border=\"1\" class=\"dataframe\">\n",
       "  <thead>\n",
       "    <tr style=\"text-align: right;\">\n",
       "      <th></th>\n",
       "      <th></th>\n",
       "      <th>B</th>\n",
       "    </tr>\n",
       "    <tr>\n",
       "      <th>second</th>\n",
       "      <th>A</th>\n",
       "      <th></th>\n",
       "    </tr>\n",
       "  </thead>\n",
       "  <tbody>\n",
       "    <tr>\n",
       "      <th rowspan=\"3\" valign=\"top\">one</th>\n",
       "      <th>1</th>\n",
       "      <td>2</td>\n",
       "    </tr>\n",
       "    <tr>\n",
       "      <th>2</th>\n",
       "      <td>4</td>\n",
       "    </tr>\n",
       "    <tr>\n",
       "      <th>3</th>\n",
       "      <td>6</td>\n",
       "    </tr>\n",
       "    <tr>\n",
       "      <th rowspan=\"3\" valign=\"top\">two</th>\n",
       "      <th>1</th>\n",
       "      <td>4</td>\n",
       "    </tr>\n",
       "    <tr>\n",
       "      <th>2</th>\n",
       "      <td>5</td>\n",
       "    </tr>\n",
       "    <tr>\n",
       "      <th>3</th>\n",
       "      <td>7</td>\n",
       "    </tr>\n",
       "  </tbody>\n",
       "</table>\n",
       "</div>"
      ],
      "text/plain": [
       "          B\n",
       "second A   \n",
       "one    1  2\n",
       "       2  4\n",
       "       3  6\n",
       "two    1  4\n",
       "       2  5\n",
       "       3  7"
      ]
     },
     "execution_count": 38,
     "metadata": {},
     "output_type": "execute_result"
    }
   ],
   "source": [
    "df.groupby([pd.Grouper(level=1), 'A']).sum()"
   ]
  },
  {
   "cell_type": "code",
   "execution_count": 39,
   "metadata": {
    "collapsed": false
   },
   "outputs": [
    {
     "data": {
      "text/html": [
       "<div>\n",
       "<style scoped>\n",
       "    .dataframe tbody tr th:only-of-type {\n",
       "        vertical-align: middle;\n",
       "    }\n",
       "\n",
       "    .dataframe tbody tr th {\n",
       "        vertical-align: top;\n",
       "    }\n",
       "\n",
       "    .dataframe thead th {\n",
       "        text-align: right;\n",
       "    }\n",
       "</style>\n",
       "<table border=\"1\" class=\"dataframe\">\n",
       "  <thead>\n",
       "    <tr style=\"text-align: right;\">\n",
       "      <th></th>\n",
       "      <th></th>\n",
       "      <th>B</th>\n",
       "    </tr>\n",
       "    <tr>\n",
       "      <th>second</th>\n",
       "      <th>A</th>\n",
       "      <th></th>\n",
       "    </tr>\n",
       "  </thead>\n",
       "  <tbody>\n",
       "    <tr>\n",
       "      <th rowspan=\"3\" valign=\"top\">one</th>\n",
       "      <th>1</th>\n",
       "      <td>2</td>\n",
       "    </tr>\n",
       "    <tr>\n",
       "      <th>2</th>\n",
       "      <td>4</td>\n",
       "    </tr>\n",
       "    <tr>\n",
       "      <th>3</th>\n",
       "      <td>6</td>\n",
       "    </tr>\n",
       "    <tr>\n",
       "      <th rowspan=\"3\" valign=\"top\">two</th>\n",
       "      <th>1</th>\n",
       "      <td>4</td>\n",
       "    </tr>\n",
       "    <tr>\n",
       "      <th>2</th>\n",
       "      <td>5</td>\n",
       "    </tr>\n",
       "    <tr>\n",
       "      <th>3</th>\n",
       "      <td>7</td>\n",
       "    </tr>\n",
       "  </tbody>\n",
       "</table>\n",
       "</div>"
      ],
      "text/plain": [
       "          B\n",
       "second A   \n",
       "one    1  2\n",
       "       2  4\n",
       "       3  6\n",
       "two    1  4\n",
       "       2  5\n",
       "       3  7"
      ]
     },
     "execution_count": 39,
     "metadata": {},
     "output_type": "execute_result"
    }
   ],
   "source": [
    "df.groupby([pd.Grouper(level='second'), 'A']).sum()"
   ]
  },
  {
   "cell_type": "code",
   "execution_count": 40,
   "metadata": {
    "collapsed": false
   },
   "outputs": [
    {
     "data": {
      "text/html": [
       "<div>\n",
       "<style scoped>\n",
       "    .dataframe tbody tr th:only-of-type {\n",
       "        vertical-align: middle;\n",
       "    }\n",
       "\n",
       "    .dataframe tbody tr th {\n",
       "        vertical-align: top;\n",
       "    }\n",
       "\n",
       "    .dataframe thead th {\n",
       "        text-align: right;\n",
       "    }\n",
       "</style>\n",
       "<table border=\"1\" class=\"dataframe\">\n",
       "  <thead>\n",
       "    <tr style=\"text-align: right;\">\n",
       "      <th></th>\n",
       "      <th></th>\n",
       "      <th>B</th>\n",
       "    </tr>\n",
       "    <tr>\n",
       "      <th>second</th>\n",
       "      <th>A</th>\n",
       "      <th></th>\n",
       "    </tr>\n",
       "  </thead>\n",
       "  <tbody>\n",
       "    <tr>\n",
       "      <th rowspan=\"3\" valign=\"top\">one</th>\n",
       "      <th>1</th>\n",
       "      <td>2</td>\n",
       "    </tr>\n",
       "    <tr>\n",
       "      <th>2</th>\n",
       "      <td>4</td>\n",
       "    </tr>\n",
       "    <tr>\n",
       "      <th>3</th>\n",
       "      <td>6</td>\n",
       "    </tr>\n",
       "    <tr>\n",
       "      <th rowspan=\"3\" valign=\"top\">two</th>\n",
       "      <th>1</th>\n",
       "      <td>4</td>\n",
       "    </tr>\n",
       "    <tr>\n",
       "      <th>2</th>\n",
       "      <td>5</td>\n",
       "    </tr>\n",
       "    <tr>\n",
       "      <th>3</th>\n",
       "      <td>7</td>\n",
       "    </tr>\n",
       "  </tbody>\n",
       "</table>\n",
       "</div>"
      ],
      "text/plain": [
       "          B\n",
       "second A   \n",
       "one    1  2\n",
       "       2  4\n",
       "       3  6\n",
       "two    1  4\n",
       "       2  5\n",
       "       3  7"
      ]
     },
     "execution_count": 40,
     "metadata": {},
     "output_type": "execute_result"
    }
   ],
   "source": [
    "df.groupby(['second', 'A']).sum()"
   ]
  },
  {
   "cell_type": "markdown",
   "metadata": {},
   "source": [
    "## 16.1.5 DataFrame column selection in GroupBy"
   ]
  },
  {
   "cell_type": "code",
   "execution_count": 42,
   "metadata": {
    "collapsed": true
   },
   "outputs": [],
   "source": [
    "grouped = df.groupby(['A'])"
   ]
  },
  {
   "cell_type": "code",
   "execution_count": 43,
   "metadata": {
    "collapsed": false
   },
   "outputs": [
    {
     "ename": "KeyError",
     "evalue": "'Column not found: C'",
     "output_type": "error",
     "traceback": [
      "\u001b[0;31m---------------------------------------------------------------------------\u001b[0m",
      "\u001b[0;31mKeyError\u001b[0m                                  Traceback (most recent call last)",
      "\u001b[0;32m<ipython-input-43-0c08a12bda5b>\u001b[0m in \u001b[0;36m<module>\u001b[0;34m()\u001b[0m\n\u001b[0;32m----> 1\u001b[0;31m \u001b[0mgrouped_C\u001b[0m \u001b[1;33m=\u001b[0m \u001b[0mgrouped\u001b[0m\u001b[1;33m[\u001b[0m\u001b[1;34m'C'\u001b[0m\u001b[1;33m]\u001b[0m\u001b[1;33m\u001b[0m\u001b[0m\n\u001b[0m",
      "\u001b[0;32mD:\\Program Files\\Anaconda3\\lib\\site-packages\\pandas\\core\\base.py\u001b[0m in \u001b[0;36m__getitem__\u001b[0;34m(self, key)\u001b[0m\n\u001b[1;32m    265\u001b[0m         \u001b[1;32melse\u001b[0m\u001b[1;33m:\u001b[0m\u001b[1;33m\u001b[0m\u001b[0m\n\u001b[1;32m    266\u001b[0m             \u001b[1;32mif\u001b[0m \u001b[0mkey\u001b[0m \u001b[1;32mnot\u001b[0m \u001b[1;32min\u001b[0m \u001b[0mself\u001b[0m\u001b[1;33m.\u001b[0m\u001b[0mobj\u001b[0m\u001b[1;33m:\u001b[0m\u001b[1;33m\u001b[0m\u001b[0m\n\u001b[0;32m--> 267\u001b[0;31m                 \u001b[1;32mraise\u001b[0m \u001b[0mKeyError\u001b[0m\u001b[1;33m(\u001b[0m\u001b[1;34m\"Column not found: {key}\"\u001b[0m\u001b[1;33m.\u001b[0m\u001b[0mformat\u001b[0m\u001b[1;33m(\u001b[0m\u001b[0mkey\u001b[0m\u001b[1;33m=\u001b[0m\u001b[0mkey\u001b[0m\u001b[1;33m)\u001b[0m\u001b[1;33m)\u001b[0m\u001b[1;33m\u001b[0m\u001b[0m\n\u001b[0m\u001b[1;32m    268\u001b[0m             \u001b[1;32mreturn\u001b[0m \u001b[0mself\u001b[0m\u001b[1;33m.\u001b[0m\u001b[0m_gotitem\u001b[0m\u001b[1;33m(\u001b[0m\u001b[0mkey\u001b[0m\u001b[1;33m,\u001b[0m \u001b[0mndim\u001b[0m\u001b[1;33m=\u001b[0m\u001b[1;36m1\u001b[0m\u001b[1;33m)\u001b[0m\u001b[1;33m\u001b[0m\u001b[0m\n\u001b[1;32m    269\u001b[0m \u001b[1;33m\u001b[0m\u001b[0m\n",
      "\u001b[0;31mKeyError\u001b[0m: 'Column not found: C'"
     ]
    }
   ],
   "source": [
    "grouped_C = grouped['C']"
   ]
  },
  {
   "cell_type": "code",
   "execution_count": 44,
   "metadata": {
    "collapsed": false
   },
   "outputs": [
    {
     "ename": "KeyError",
     "evalue": "'Column not found: D'",
     "output_type": "error",
     "traceback": [
      "\u001b[0;31m---------------------------------------------------------------------------\u001b[0m",
      "\u001b[0;31mKeyError\u001b[0m                                  Traceback (most recent call last)",
      "\u001b[0;32m<ipython-input-44-de261d4a7dc6>\u001b[0m in \u001b[0;36m<module>\u001b[0;34m()\u001b[0m\n\u001b[0;32m----> 1\u001b[0;31m \u001b[0mgrouped_D\u001b[0m \u001b[1;33m=\u001b[0m \u001b[0mgrouped\u001b[0m\u001b[1;33m[\u001b[0m\u001b[1;34m'D'\u001b[0m\u001b[1;33m]\u001b[0m\u001b[1;33m\u001b[0m\u001b[0m\n\u001b[0m",
      "\u001b[0;32mD:\\Program Files\\Anaconda3\\lib\\site-packages\\pandas\\core\\base.py\u001b[0m in \u001b[0;36m__getitem__\u001b[0;34m(self, key)\u001b[0m\n\u001b[1;32m    265\u001b[0m         \u001b[1;32melse\u001b[0m\u001b[1;33m:\u001b[0m\u001b[1;33m\u001b[0m\u001b[0m\n\u001b[1;32m    266\u001b[0m             \u001b[1;32mif\u001b[0m \u001b[0mkey\u001b[0m \u001b[1;32mnot\u001b[0m \u001b[1;32min\u001b[0m \u001b[0mself\u001b[0m\u001b[1;33m.\u001b[0m\u001b[0mobj\u001b[0m\u001b[1;33m:\u001b[0m\u001b[1;33m\u001b[0m\u001b[0m\n\u001b[0;32m--> 267\u001b[0;31m                 \u001b[1;32mraise\u001b[0m \u001b[0mKeyError\u001b[0m\u001b[1;33m(\u001b[0m\u001b[1;34m\"Column not found: {key}\"\u001b[0m\u001b[1;33m.\u001b[0m\u001b[0mformat\u001b[0m\u001b[1;33m(\u001b[0m\u001b[0mkey\u001b[0m\u001b[1;33m=\u001b[0m\u001b[0mkey\u001b[0m\u001b[1;33m)\u001b[0m\u001b[1;33m)\u001b[0m\u001b[1;33m\u001b[0m\u001b[0m\n\u001b[0m\u001b[1;32m    268\u001b[0m             \u001b[1;32mreturn\u001b[0m \u001b[0mself\u001b[0m\u001b[1;33m.\u001b[0m\u001b[0m_gotitem\u001b[0m\u001b[1;33m(\u001b[0m\u001b[0mkey\u001b[0m\u001b[1;33m,\u001b[0m \u001b[0mndim\u001b[0m\u001b[1;33m=\u001b[0m\u001b[1;36m1\u001b[0m\u001b[1;33m)\u001b[0m\u001b[1;33m\u001b[0m\u001b[0m\n\u001b[1;32m    269\u001b[0m \u001b[1;33m\u001b[0m\u001b[0m\n",
      "\u001b[0;31mKeyError\u001b[0m: 'Column not found: D'"
     ]
    }
   ],
   "source": [
    "grouped_D = grouped['D']"
   ]
  },
  {
   "cell_type": "code",
   "execution_count": 45,
   "metadata": {
    "collapsed": false
   },
   "outputs": [
    {
     "ename": "KeyError",
     "evalue": "'C'",
     "output_type": "error",
     "traceback": [
      "\u001b[0;31m---------------------------------------------------------------------------\u001b[0m",
      "\u001b[0;31mKeyError\u001b[0m                                  Traceback (most recent call last)",
      "\u001b[0;32mD:\\Program Files\\Anaconda3\\lib\\site-packages\\pandas\\core\\indexes\\base.py\u001b[0m in \u001b[0;36mget_loc\u001b[0;34m(self, key, method, tolerance)\u001b[0m\n\u001b[1;32m   3077\u001b[0m             \u001b[1;32mtry\u001b[0m\u001b[1;33m:\u001b[0m\u001b[1;33m\u001b[0m\u001b[0m\n\u001b[0;32m-> 3078\u001b[0;31m                 \u001b[1;32mreturn\u001b[0m \u001b[0mself\u001b[0m\u001b[1;33m.\u001b[0m\u001b[0m_engine\u001b[0m\u001b[1;33m.\u001b[0m\u001b[0mget_loc\u001b[0m\u001b[1;33m(\u001b[0m\u001b[0mkey\u001b[0m\u001b[1;33m)\u001b[0m\u001b[1;33m\u001b[0m\u001b[0m\n\u001b[0m\u001b[1;32m   3079\u001b[0m             \u001b[1;32mexcept\u001b[0m \u001b[0mKeyError\u001b[0m\u001b[1;33m:\u001b[0m\u001b[1;33m\u001b[0m\u001b[0m\n",
      "\u001b[0;32mpandas\\_libs\\index.pyx\u001b[0m in \u001b[0;36mpandas._libs.index.IndexEngine.get_loc\u001b[0;34m()\u001b[0m\n",
      "\u001b[0;32mpandas\\_libs\\index.pyx\u001b[0m in \u001b[0;36mpandas._libs.index.IndexEngine.get_loc\u001b[0;34m()\u001b[0m\n",
      "\u001b[0;32mpandas\\_libs\\hashtable_class_helper.pxi\u001b[0m in \u001b[0;36mpandas._libs.hashtable.PyObjectHashTable.get_item\u001b[0;34m()\u001b[0m\n",
      "\u001b[0;32mpandas\\_libs\\hashtable_class_helper.pxi\u001b[0m in \u001b[0;36mpandas._libs.hashtable.PyObjectHashTable.get_item\u001b[0;34m()\u001b[0m\n",
      "\u001b[0;31mKeyError\u001b[0m: 'C'",
      "\nDuring handling of the above exception, another exception occurred:\n",
      "\u001b[0;31mKeyError\u001b[0m                                  Traceback (most recent call last)",
      "\u001b[0;32m<ipython-input-45-3c09182074cc>\u001b[0m in \u001b[0;36m<module>\u001b[0;34m()\u001b[0m\n\u001b[0;32m----> 1\u001b[0;31m \u001b[0mdf\u001b[0m\u001b[1;33m[\u001b[0m\u001b[1;34m'C'\u001b[0m\u001b[1;33m]\u001b[0m\u001b[1;33m.\u001b[0m\u001b[0mgroupby\u001b[0m\u001b[1;33m(\u001b[0m\u001b[0mdf\u001b[0m\u001b[1;33m[\u001b[0m\u001b[1;34m'A'\u001b[0m\u001b[1;33m]\u001b[0m\u001b[1;33m)\u001b[0m\u001b[1;33m\u001b[0m\u001b[0m\n\u001b[0m",
      "\u001b[0;32mD:\\Program Files\\Anaconda3\\lib\\site-packages\\pandas\\core\\frame.py\u001b[0m in \u001b[0;36m__getitem__\u001b[0;34m(self, key)\u001b[0m\n\u001b[1;32m   2686\u001b[0m             \u001b[1;32mreturn\u001b[0m \u001b[0mself\u001b[0m\u001b[1;33m.\u001b[0m\u001b[0m_getitem_multilevel\u001b[0m\u001b[1;33m(\u001b[0m\u001b[0mkey\u001b[0m\u001b[1;33m)\u001b[0m\u001b[1;33m\u001b[0m\u001b[0m\n\u001b[1;32m   2687\u001b[0m         \u001b[1;32melse\u001b[0m\u001b[1;33m:\u001b[0m\u001b[1;33m\u001b[0m\u001b[0m\n\u001b[0;32m-> 2688\u001b[0;31m             \u001b[1;32mreturn\u001b[0m \u001b[0mself\u001b[0m\u001b[1;33m.\u001b[0m\u001b[0m_getitem_column\u001b[0m\u001b[1;33m(\u001b[0m\u001b[0mkey\u001b[0m\u001b[1;33m)\u001b[0m\u001b[1;33m\u001b[0m\u001b[0m\n\u001b[0m\u001b[1;32m   2689\u001b[0m \u001b[1;33m\u001b[0m\u001b[0m\n\u001b[1;32m   2690\u001b[0m     \u001b[1;32mdef\u001b[0m \u001b[0m_getitem_column\u001b[0m\u001b[1;33m(\u001b[0m\u001b[0mself\u001b[0m\u001b[1;33m,\u001b[0m \u001b[0mkey\u001b[0m\u001b[1;33m)\u001b[0m\u001b[1;33m:\u001b[0m\u001b[1;33m\u001b[0m\u001b[0m\n",
      "\u001b[0;32mD:\\Program Files\\Anaconda3\\lib\\site-packages\\pandas\\core\\frame.py\u001b[0m in \u001b[0;36m_getitem_column\u001b[0;34m(self, key)\u001b[0m\n\u001b[1;32m   2693\u001b[0m         \u001b[1;31m# get column\u001b[0m\u001b[1;33m\u001b[0m\u001b[1;33m\u001b[0m\u001b[0m\n\u001b[1;32m   2694\u001b[0m         \u001b[1;32mif\u001b[0m \u001b[0mself\u001b[0m\u001b[1;33m.\u001b[0m\u001b[0mcolumns\u001b[0m\u001b[1;33m.\u001b[0m\u001b[0mis_unique\u001b[0m\u001b[1;33m:\u001b[0m\u001b[1;33m\u001b[0m\u001b[0m\n\u001b[0;32m-> 2695\u001b[0;31m             \u001b[1;32mreturn\u001b[0m \u001b[0mself\u001b[0m\u001b[1;33m.\u001b[0m\u001b[0m_get_item_cache\u001b[0m\u001b[1;33m(\u001b[0m\u001b[0mkey\u001b[0m\u001b[1;33m)\u001b[0m\u001b[1;33m\u001b[0m\u001b[0m\n\u001b[0m\u001b[1;32m   2696\u001b[0m \u001b[1;33m\u001b[0m\u001b[0m\n\u001b[1;32m   2697\u001b[0m         \u001b[1;31m# duplicate columns & possible reduce dimensionality\u001b[0m\u001b[1;33m\u001b[0m\u001b[1;33m\u001b[0m\u001b[0m\n",
      "\u001b[0;32mD:\\Program Files\\Anaconda3\\lib\\site-packages\\pandas\\core\\generic.py\u001b[0m in \u001b[0;36m_get_item_cache\u001b[0;34m(self, item)\u001b[0m\n\u001b[1;32m   2487\u001b[0m         \u001b[0mres\u001b[0m \u001b[1;33m=\u001b[0m \u001b[0mcache\u001b[0m\u001b[1;33m.\u001b[0m\u001b[0mget\u001b[0m\u001b[1;33m(\u001b[0m\u001b[0mitem\u001b[0m\u001b[1;33m)\u001b[0m\u001b[1;33m\u001b[0m\u001b[0m\n\u001b[1;32m   2488\u001b[0m         \u001b[1;32mif\u001b[0m \u001b[0mres\u001b[0m \u001b[1;32mis\u001b[0m \u001b[1;32mNone\u001b[0m\u001b[1;33m:\u001b[0m\u001b[1;33m\u001b[0m\u001b[0m\n\u001b[0;32m-> 2489\u001b[0;31m             \u001b[0mvalues\u001b[0m \u001b[1;33m=\u001b[0m \u001b[0mself\u001b[0m\u001b[1;33m.\u001b[0m\u001b[0m_data\u001b[0m\u001b[1;33m.\u001b[0m\u001b[0mget\u001b[0m\u001b[1;33m(\u001b[0m\u001b[0mitem\u001b[0m\u001b[1;33m)\u001b[0m\u001b[1;33m\u001b[0m\u001b[0m\n\u001b[0m\u001b[1;32m   2490\u001b[0m             \u001b[0mres\u001b[0m \u001b[1;33m=\u001b[0m \u001b[0mself\u001b[0m\u001b[1;33m.\u001b[0m\u001b[0m_box_item_values\u001b[0m\u001b[1;33m(\u001b[0m\u001b[0mitem\u001b[0m\u001b[1;33m,\u001b[0m \u001b[0mvalues\u001b[0m\u001b[1;33m)\u001b[0m\u001b[1;33m\u001b[0m\u001b[0m\n\u001b[1;32m   2491\u001b[0m             \u001b[0mcache\u001b[0m\u001b[1;33m[\u001b[0m\u001b[0mitem\u001b[0m\u001b[1;33m]\u001b[0m \u001b[1;33m=\u001b[0m \u001b[0mres\u001b[0m\u001b[1;33m\u001b[0m\u001b[0m\n",
      "\u001b[0;32mD:\\Program Files\\Anaconda3\\lib\\site-packages\\pandas\\core\\internals.py\u001b[0m in \u001b[0;36mget\u001b[0;34m(self, item, fastpath)\u001b[0m\n\u001b[1;32m   4113\u001b[0m \u001b[1;33m\u001b[0m\u001b[0m\n\u001b[1;32m   4114\u001b[0m             \u001b[1;32mif\u001b[0m \u001b[1;32mnot\u001b[0m \u001b[0misna\u001b[0m\u001b[1;33m(\u001b[0m\u001b[0mitem\u001b[0m\u001b[1;33m)\u001b[0m\u001b[1;33m:\u001b[0m\u001b[1;33m\u001b[0m\u001b[0m\n\u001b[0;32m-> 4115\u001b[0;31m                 \u001b[0mloc\u001b[0m \u001b[1;33m=\u001b[0m \u001b[0mself\u001b[0m\u001b[1;33m.\u001b[0m\u001b[0mitems\u001b[0m\u001b[1;33m.\u001b[0m\u001b[0mget_loc\u001b[0m\u001b[1;33m(\u001b[0m\u001b[0mitem\u001b[0m\u001b[1;33m)\u001b[0m\u001b[1;33m\u001b[0m\u001b[0m\n\u001b[0m\u001b[1;32m   4116\u001b[0m             \u001b[1;32melse\u001b[0m\u001b[1;33m:\u001b[0m\u001b[1;33m\u001b[0m\u001b[0m\n\u001b[1;32m   4117\u001b[0m                 \u001b[0mindexer\u001b[0m \u001b[1;33m=\u001b[0m \u001b[0mnp\u001b[0m\u001b[1;33m.\u001b[0m\u001b[0marange\u001b[0m\u001b[1;33m(\u001b[0m\u001b[0mlen\u001b[0m\u001b[1;33m(\u001b[0m\u001b[0mself\u001b[0m\u001b[1;33m.\u001b[0m\u001b[0mitems\u001b[0m\u001b[1;33m)\u001b[0m\u001b[1;33m)\u001b[0m\u001b[1;33m[\u001b[0m\u001b[0misna\u001b[0m\u001b[1;33m(\u001b[0m\u001b[0mself\u001b[0m\u001b[1;33m.\u001b[0m\u001b[0mitems\u001b[0m\u001b[1;33m)\u001b[0m\u001b[1;33m]\u001b[0m\u001b[1;33m\u001b[0m\u001b[0m\n",
      "\u001b[0;32mD:\\Program Files\\Anaconda3\\lib\\site-packages\\pandas\\core\\indexes\\base.py\u001b[0m in \u001b[0;36mget_loc\u001b[0;34m(self, key, method, tolerance)\u001b[0m\n\u001b[1;32m   3078\u001b[0m                 \u001b[1;32mreturn\u001b[0m \u001b[0mself\u001b[0m\u001b[1;33m.\u001b[0m\u001b[0m_engine\u001b[0m\u001b[1;33m.\u001b[0m\u001b[0mget_loc\u001b[0m\u001b[1;33m(\u001b[0m\u001b[0mkey\u001b[0m\u001b[1;33m)\u001b[0m\u001b[1;33m\u001b[0m\u001b[0m\n\u001b[1;32m   3079\u001b[0m             \u001b[1;32mexcept\u001b[0m \u001b[0mKeyError\u001b[0m\u001b[1;33m:\u001b[0m\u001b[1;33m\u001b[0m\u001b[0m\n\u001b[0;32m-> 3080\u001b[0;31m                 \u001b[1;32mreturn\u001b[0m \u001b[0mself\u001b[0m\u001b[1;33m.\u001b[0m\u001b[0m_engine\u001b[0m\u001b[1;33m.\u001b[0m\u001b[0mget_loc\u001b[0m\u001b[1;33m(\u001b[0m\u001b[0mself\u001b[0m\u001b[1;33m.\u001b[0m\u001b[0m_maybe_cast_indexer\u001b[0m\u001b[1;33m(\u001b[0m\u001b[0mkey\u001b[0m\u001b[1;33m)\u001b[0m\u001b[1;33m)\u001b[0m\u001b[1;33m\u001b[0m\u001b[0m\n\u001b[0m\u001b[1;32m   3081\u001b[0m \u001b[1;33m\u001b[0m\u001b[0m\n\u001b[1;32m   3082\u001b[0m         \u001b[0mindexer\u001b[0m \u001b[1;33m=\u001b[0m \u001b[0mself\u001b[0m\u001b[1;33m.\u001b[0m\u001b[0mget_indexer\u001b[0m\u001b[1;33m(\u001b[0m\u001b[1;33m[\u001b[0m\u001b[0mkey\u001b[0m\u001b[1;33m]\u001b[0m\u001b[1;33m,\u001b[0m \u001b[0mmethod\u001b[0m\u001b[1;33m=\u001b[0m\u001b[0mmethod\u001b[0m\u001b[1;33m,\u001b[0m \u001b[0mtolerance\u001b[0m\u001b[1;33m=\u001b[0m\u001b[0mtolerance\u001b[0m\u001b[1;33m)\u001b[0m\u001b[1;33m\u001b[0m\u001b[0m\n",
      "\u001b[0;32mpandas\\_libs\\index.pyx\u001b[0m in \u001b[0;36mpandas._libs.index.IndexEngine.get_loc\u001b[0;34m()\u001b[0m\n",
      "\u001b[0;32mpandas\\_libs\\index.pyx\u001b[0m in \u001b[0;36mpandas._libs.index.IndexEngine.get_loc\u001b[0;34m()\u001b[0m\n",
      "\u001b[0;32mpandas\\_libs\\hashtable_class_helper.pxi\u001b[0m in \u001b[0;36mpandas._libs.hashtable.PyObjectHashTable.get_item\u001b[0;34m()\u001b[0m\n",
      "\u001b[0;32mpandas\\_libs\\hashtable_class_helper.pxi\u001b[0m in \u001b[0;36mpandas._libs.hashtable.PyObjectHashTable.get_item\u001b[0;34m()\u001b[0m\n",
      "\u001b[0;31mKeyError\u001b[0m: 'C'"
     ]
    }
   ],
   "source": [
    "df['C'].groupby(df['A'])"
   ]
  },
  {
   "cell_type": "markdown",
   "metadata": {},
   "source": [
    "# 16.2 Iterating through groups"
   ]
  },
  {
   "cell_type": "code",
   "execution_count": 46,
   "metadata": {
    "collapsed": true
   },
   "outputs": [],
   "source": [
    "grouped = df.groupby('A')"
   ]
  },
  {
   "cell_type": "code",
   "execution_count": 47,
   "metadata": {
    "collapsed": false
   },
   "outputs": [
    {
     "name": "stdout",
     "output_type": "stream",
     "text": [
      "1\n",
      "              A  B\n",
      "first second      \n",
      "bar   one     1  0\n",
      "      two     1  1\n",
      "baz   one     1  2\n",
      "      two     1  3\n",
      "2\n",
      "              A  B\n",
      "first second      \n",
      "foo   one     2  4\n",
      "      two     2  5\n",
      "3\n",
      "              A  B\n",
      "first second      \n",
      "qux   one     3  6\n",
      "      two     3  7\n"
     ]
    }
   ],
   "source": [
    " for name, group in grouped:\n",
    "        print(name)\n",
    "        print(group)"
   ]
  },
  {
   "cell_type": "markdown",
   "metadata": {},
   "source": [
    "# 16.3 Selecting a group"
   ]
  },
  {
   "cell_type": "code",
   "execution_count": 49,
   "metadata": {
    "collapsed": false
   },
   "outputs": [
    {
     "data": {
      "text/html": [
       "<div>\n",
       "<style scoped>\n",
       "    .dataframe tbody tr th:only-of-type {\n",
       "        vertical-align: middle;\n",
       "    }\n",
       "\n",
       "    .dataframe tbody tr th {\n",
       "        vertical-align: top;\n",
       "    }\n",
       "\n",
       "    .dataframe thead th {\n",
       "        text-align: right;\n",
       "    }\n",
       "</style>\n",
       "<table border=\"1\" class=\"dataframe\">\n",
       "  <thead>\n",
       "    <tr style=\"text-align: right;\">\n",
       "      <th></th>\n",
       "      <th></th>\n",
       "      <th>A</th>\n",
       "      <th>B</th>\n",
       "    </tr>\n",
       "    <tr>\n",
       "      <th>first</th>\n",
       "      <th>second</th>\n",
       "      <th></th>\n",
       "      <th></th>\n",
       "    </tr>\n",
       "  </thead>\n",
       "  <tbody>\n",
       "    <tr>\n",
       "      <th rowspan=\"2\" valign=\"top\">bar</th>\n",
       "      <th>one</th>\n",
       "      <td>1</td>\n",
       "      <td>0</td>\n",
       "    </tr>\n",
       "    <tr>\n",
       "      <th>two</th>\n",
       "      <td>1</td>\n",
       "      <td>1</td>\n",
       "    </tr>\n",
       "    <tr>\n",
       "      <th rowspan=\"2\" valign=\"top\">baz</th>\n",
       "      <th>one</th>\n",
       "      <td>1</td>\n",
       "      <td>2</td>\n",
       "    </tr>\n",
       "    <tr>\n",
       "      <th>two</th>\n",
       "      <td>1</td>\n",
       "      <td>3</td>\n",
       "    </tr>\n",
       "  </tbody>\n",
       "</table>\n",
       "</div>"
      ],
      "text/plain": [
       "              A  B\n",
       "first second      \n",
       "bar   one     1  0\n",
       "      two     1  1\n",
       "baz   one     1  2\n",
       "      two     1  3"
      ]
     },
     "execution_count": 49,
     "metadata": {},
     "output_type": "execute_result"
    }
   ],
   "source": [
    "grouped.get_group(1)"
   ]
  },
  {
   "cell_type": "code",
   "execution_count": 52,
   "metadata": {
    "collapsed": false
   },
   "outputs": [
    {
     "name": "stdout",
     "output_type": "stream",
     "text": [
      "(1, 0)\n",
      "              A  B\n",
      "first second      \n",
      "bar   one     1  0\n",
      "(1, 1)\n",
      "              A  B\n",
      "first second      \n",
      "bar   two     1  1\n",
      "(1, 2)\n",
      "              A  B\n",
      "first second      \n",
      "baz   one     1  2\n",
      "(1, 3)\n",
      "              A  B\n",
      "first second      \n",
      "baz   two     1  3\n",
      "(2, 4)\n",
      "              A  B\n",
      "first second      \n",
      "foo   one     2  4\n",
      "(2, 5)\n",
      "              A  B\n",
      "first second      \n",
      "foo   two     2  5\n",
      "(3, 6)\n",
      "              A  B\n",
      "first second      \n",
      "qux   one     3  6\n",
      "(3, 7)\n",
      "              A  B\n",
      "first second      \n",
      "qux   two     3  7\n"
     ]
    }
   ],
   "source": [
    "\n",
    "for name, group in df.groupby(['A', 'B']):\n",
    "    print(name)\n",
    "    print(group)"
   ]
  },
  {
   "cell_type": "code",
   "execution_count": 53,
   "metadata": {
    "collapsed": false
   },
   "outputs": [
    {
     "data": {
      "text/html": [
       "<div>\n",
       "<style scoped>\n",
       "    .dataframe tbody tr th:only-of-type {\n",
       "        vertical-align: middle;\n",
       "    }\n",
       "\n",
       "    .dataframe tbody tr th {\n",
       "        vertical-align: top;\n",
       "    }\n",
       "\n",
       "    .dataframe thead th {\n",
       "        text-align: right;\n",
       "    }\n",
       "</style>\n",
       "<table border=\"1\" class=\"dataframe\">\n",
       "  <thead>\n",
       "    <tr style=\"text-align: right;\">\n",
       "      <th></th>\n",
       "      <th></th>\n",
       "      <th>A</th>\n",
       "      <th>B</th>\n",
       "    </tr>\n",
       "    <tr>\n",
       "      <th>first</th>\n",
       "      <th>second</th>\n",
       "      <th></th>\n",
       "      <th></th>\n",
       "    </tr>\n",
       "  </thead>\n",
       "  <tbody>\n",
       "    <tr>\n",
       "      <th>bar</th>\n",
       "      <th>one</th>\n",
       "      <td>1</td>\n",
       "      <td>0</td>\n",
       "    </tr>\n",
       "  </tbody>\n",
       "</table>\n",
       "</div>"
      ],
      "text/plain": [
       "              A  B\n",
       "first second      \n",
       "bar   one     1  0"
      ]
     },
     "execution_count": 53,
     "metadata": {},
     "output_type": "execute_result"
    }
   ],
   "source": [
    "df.groupby(['A', 'B']).get_group((1, 0))"
   ]
  },
  {
   "cell_type": "markdown",
   "metadata": {},
   "source": [
    "# 16.4 Aggregation"
   ]
  },
  {
   "cell_type": "code",
   "execution_count": 59,
   "metadata": {
    "collapsed": true
   },
   "outputs": [],
   "source": [
    "grouped = df.groupby('A')"
   ]
  },
  {
   "cell_type": "code",
   "execution_count": 60,
   "metadata": {
    "collapsed": false
   },
   "outputs": [
    {
     "data": {
      "text/html": [
       "<div>\n",
       "<style scoped>\n",
       "    .dataframe tbody tr th:only-of-type {\n",
       "        vertical-align: middle;\n",
       "    }\n",
       "\n",
       "    .dataframe tbody tr th {\n",
       "        vertical-align: top;\n",
       "    }\n",
       "\n",
       "    .dataframe thead th {\n",
       "        text-align: right;\n",
       "    }\n",
       "</style>\n",
       "<table border=\"1\" class=\"dataframe\">\n",
       "  <thead>\n",
       "    <tr style=\"text-align: right;\">\n",
       "      <th></th>\n",
       "      <th>C</th>\n",
       "      <th>D</th>\n",
       "    </tr>\n",
       "    <tr>\n",
       "      <th>A</th>\n",
       "      <th></th>\n",
       "      <th></th>\n",
       "    </tr>\n",
       "  </thead>\n",
       "  <tbody>\n",
       "    <tr>\n",
       "      <th>bar</th>\n",
       "      <td>-1.596660</td>\n",
       "      <td>-2.524181</td>\n",
       "    </tr>\n",
       "    <tr>\n",
       "      <th>foo</th>\n",
       "      <td>-0.332177</td>\n",
       "      <td>-1.087319</td>\n",
       "    </tr>\n",
       "  </tbody>\n",
       "</table>\n",
       "</div>"
      ],
      "text/plain": [
       "            C         D\n",
       "A                      \n",
       "bar -1.596660 -2.524181\n",
       "foo -0.332177 -1.087319"
      ]
     },
     "execution_count": 60,
     "metadata": {},
     "output_type": "execute_result"
    }
   ],
   "source": [
    "grouped.aggregate(np.sum)"
   ]
  },
  {
   "cell_type": "code",
   "execution_count": 61,
   "metadata": {
    "collapsed": true
   },
   "outputs": [],
   "source": [
    "grouped = df.groupby(['A', 'B'])"
   ]
  },
  {
   "cell_type": "code",
   "execution_count": 62,
   "metadata": {
    "collapsed": false
   },
   "outputs": [
    {
     "data": {
      "text/html": [
       "<div>\n",
       "<style scoped>\n",
       "    .dataframe tbody tr th:only-of-type {\n",
       "        vertical-align: middle;\n",
       "    }\n",
       "\n",
       "    .dataframe tbody tr th {\n",
       "        vertical-align: top;\n",
       "    }\n",
       "\n",
       "    .dataframe thead th {\n",
       "        text-align: right;\n",
       "    }\n",
       "</style>\n",
       "<table border=\"1\" class=\"dataframe\">\n",
       "  <thead>\n",
       "    <tr style=\"text-align: right;\">\n",
       "      <th></th>\n",
       "      <th></th>\n",
       "      <th>C</th>\n",
       "      <th>D</th>\n",
       "    </tr>\n",
       "    <tr>\n",
       "      <th>A</th>\n",
       "      <th>B</th>\n",
       "      <th></th>\n",
       "      <th></th>\n",
       "    </tr>\n",
       "  </thead>\n",
       "  <tbody>\n",
       "    <tr>\n",
       "      <th rowspan=\"3\" valign=\"top\">bar</th>\n",
       "      <th>one</th>\n",
       "      <td>-0.830092</td>\n",
       "      <td>-0.756952</td>\n",
       "    </tr>\n",
       "    <tr>\n",
       "      <th>three</th>\n",
       "      <td>-0.865654</td>\n",
       "      <td>-0.788776</td>\n",
       "    </tr>\n",
       "    <tr>\n",
       "      <th>two</th>\n",
       "      <td>0.099086</td>\n",
       "      <td>-0.978453</td>\n",
       "    </tr>\n",
       "    <tr>\n",
       "      <th rowspan=\"3\" valign=\"top\">foo</th>\n",
       "      <th>one</th>\n",
       "      <td>-0.733058</td>\n",
       "      <td>0.376150</td>\n",
       "    </tr>\n",
       "    <tr>\n",
       "      <th>three</th>\n",
       "      <td>-1.171082</td>\n",
       "      <td>-0.545103</td>\n",
       "    </tr>\n",
       "    <tr>\n",
       "      <th>two</th>\n",
       "      <td>1.571963</td>\n",
       "      <td>-0.918366</td>\n",
       "    </tr>\n",
       "  </tbody>\n",
       "</table>\n",
       "</div>"
      ],
      "text/plain": [
       "                  C         D\n",
       "A   B                        \n",
       "bar one   -0.830092 -0.756952\n",
       "    three -0.865654 -0.788776\n",
       "    two    0.099086 -0.978453\n",
       "foo one   -0.733058  0.376150\n",
       "    three -1.171082 -0.545103\n",
       "    two    1.571963 -0.918366"
      ]
     },
     "execution_count": 62,
     "metadata": {},
     "output_type": "execute_result"
    }
   ],
   "source": [
    "grouped.aggregate(np.sum)"
   ]
  },
  {
   "cell_type": "code",
   "execution_count": 64,
   "metadata": {
    "collapsed": false
   },
   "outputs": [
    {
     "data": {
      "text/html": [
       "<div>\n",
       "<style scoped>\n",
       "    .dataframe tbody tr th:only-of-type {\n",
       "        vertical-align: middle;\n",
       "    }\n",
       "\n",
       "    .dataframe tbody tr th {\n",
       "        vertical-align: top;\n",
       "    }\n",
       "\n",
       "    .dataframe thead th {\n",
       "        text-align: right;\n",
       "    }\n",
       "</style>\n",
       "<table border=\"1\" class=\"dataframe\">\n",
       "  <thead>\n",
       "    <tr style=\"text-align: right;\">\n",
       "      <th></th>\n",
       "      <th>A</th>\n",
       "      <th>B</th>\n",
       "      <th>C</th>\n",
       "      <th>D</th>\n",
       "    </tr>\n",
       "  </thead>\n",
       "  <tbody>\n",
       "    <tr>\n",
       "      <th>0</th>\n",
       "      <td>bar</td>\n",
       "      <td>one</td>\n",
       "      <td>-0.830092</td>\n",
       "      <td>-0.756952</td>\n",
       "    </tr>\n",
       "    <tr>\n",
       "      <th>1</th>\n",
       "      <td>bar</td>\n",
       "      <td>three</td>\n",
       "      <td>-0.865654</td>\n",
       "      <td>-0.788776</td>\n",
       "    </tr>\n",
       "    <tr>\n",
       "      <th>2</th>\n",
       "      <td>bar</td>\n",
       "      <td>two</td>\n",
       "      <td>0.099086</td>\n",
       "      <td>-0.978453</td>\n",
       "    </tr>\n",
       "    <tr>\n",
       "      <th>3</th>\n",
       "      <td>foo</td>\n",
       "      <td>one</td>\n",
       "      <td>-0.733058</td>\n",
       "      <td>0.376150</td>\n",
       "    </tr>\n",
       "    <tr>\n",
       "      <th>4</th>\n",
       "      <td>foo</td>\n",
       "      <td>three</td>\n",
       "      <td>-1.171082</td>\n",
       "      <td>-0.545103</td>\n",
       "    </tr>\n",
       "    <tr>\n",
       "      <th>5</th>\n",
       "      <td>foo</td>\n",
       "      <td>two</td>\n",
       "      <td>1.571963</td>\n",
       "      <td>-0.918366</td>\n",
       "    </tr>\n",
       "  </tbody>\n",
       "</table>\n",
       "</div>"
      ],
      "text/plain": [
       "     A      B         C         D\n",
       "0  bar    one -0.830092 -0.756952\n",
       "1  bar  three -0.865654 -0.788776\n",
       "2  bar    two  0.099086 -0.978453\n",
       "3  foo    one -0.733058  0.376150\n",
       "4  foo  three -1.171082 -0.545103\n",
       "5  foo    two  1.571963 -0.918366"
      ]
     },
     "execution_count": 64,
     "metadata": {},
     "output_type": "execute_result"
    }
   ],
   "source": [
    "grouped = df.groupby(['A', 'B'], as_index=False)\n",
    "grouped.aggregate(np.sum)"
   ]
  },
  {
   "cell_type": "code",
   "execution_count": 65,
   "metadata": {
    "collapsed": false
   },
   "outputs": [
    {
     "data": {
      "text/html": [
       "<div>\n",
       "<style scoped>\n",
       "    .dataframe tbody tr th:only-of-type {\n",
       "        vertical-align: middle;\n",
       "    }\n",
       "\n",
       "    .dataframe tbody tr th {\n",
       "        vertical-align: top;\n",
       "    }\n",
       "\n",
       "    .dataframe thead th {\n",
       "        text-align: right;\n",
       "    }\n",
       "</style>\n",
       "<table border=\"1\" class=\"dataframe\">\n",
       "  <thead>\n",
       "    <tr style=\"text-align: right;\">\n",
       "      <th></th>\n",
       "      <th>A</th>\n",
       "      <th>C</th>\n",
       "      <th>D</th>\n",
       "    </tr>\n",
       "  </thead>\n",
       "  <tbody>\n",
       "    <tr>\n",
       "      <th>0</th>\n",
       "      <td>bar</td>\n",
       "      <td>-1.596660</td>\n",
       "      <td>-2.524181</td>\n",
       "    </tr>\n",
       "    <tr>\n",
       "      <th>1</th>\n",
       "      <td>foo</td>\n",
       "      <td>-0.332177</td>\n",
       "      <td>-1.087319</td>\n",
       "    </tr>\n",
       "  </tbody>\n",
       "</table>\n",
       "</div>"
      ],
      "text/plain": [
       "     A         C         D\n",
       "0  bar -1.596660 -2.524181\n",
       "1  foo -0.332177 -1.087319"
      ]
     },
     "execution_count": 65,
     "metadata": {},
     "output_type": "execute_result"
    }
   ],
   "source": [
    "df.groupby('A', as_index=False).sum()"
   ]
  },
  {
   "cell_type": "code",
   "execution_count": 66,
   "metadata": {
    "collapsed": false
   },
   "outputs": [
    {
     "data": {
      "text/html": [
       "<div>\n",
       "<style scoped>\n",
       "    .dataframe tbody tr th:only-of-type {\n",
       "        vertical-align: middle;\n",
       "    }\n",
       "\n",
       "    .dataframe tbody tr th {\n",
       "        vertical-align: top;\n",
       "    }\n",
       "\n",
       "    .dataframe thead th {\n",
       "        text-align: right;\n",
       "    }\n",
       "</style>\n",
       "<table border=\"1\" class=\"dataframe\">\n",
       "  <thead>\n",
       "    <tr style=\"text-align: right;\">\n",
       "      <th></th>\n",
       "      <th>A</th>\n",
       "      <th>B</th>\n",
       "      <th>C</th>\n",
       "      <th>D</th>\n",
       "    </tr>\n",
       "  </thead>\n",
       "  <tbody>\n",
       "    <tr>\n",
       "      <th>0</th>\n",
       "      <td>bar</td>\n",
       "      <td>one</td>\n",
       "      <td>-0.830092</td>\n",
       "      <td>-0.756952</td>\n",
       "    </tr>\n",
       "    <tr>\n",
       "      <th>1</th>\n",
       "      <td>bar</td>\n",
       "      <td>three</td>\n",
       "      <td>-0.865654</td>\n",
       "      <td>-0.788776</td>\n",
       "    </tr>\n",
       "    <tr>\n",
       "      <th>2</th>\n",
       "      <td>bar</td>\n",
       "      <td>two</td>\n",
       "      <td>0.099086</td>\n",
       "      <td>-0.978453</td>\n",
       "    </tr>\n",
       "    <tr>\n",
       "      <th>3</th>\n",
       "      <td>foo</td>\n",
       "      <td>one</td>\n",
       "      <td>-0.733058</td>\n",
       "      <td>0.376150</td>\n",
       "    </tr>\n",
       "    <tr>\n",
       "      <th>4</th>\n",
       "      <td>foo</td>\n",
       "      <td>three</td>\n",
       "      <td>-1.171082</td>\n",
       "      <td>-0.545103</td>\n",
       "    </tr>\n",
       "    <tr>\n",
       "      <th>5</th>\n",
       "      <td>foo</td>\n",
       "      <td>two</td>\n",
       "      <td>1.571963</td>\n",
       "      <td>-0.918366</td>\n",
       "    </tr>\n",
       "  </tbody>\n",
       "</table>\n",
       "</div>"
      ],
      "text/plain": [
       "     A      B         C         D\n",
       "0  bar    one -0.830092 -0.756952\n",
       "1  bar  three -0.865654 -0.788776\n",
       "2  bar    two  0.099086 -0.978453\n",
       "3  foo    one -0.733058  0.376150\n",
       "4  foo  three -1.171082 -0.545103\n",
       "5  foo    two  1.571963 -0.918366"
      ]
     },
     "execution_count": 66,
     "metadata": {},
     "output_type": "execute_result"
    }
   ],
   "source": [
    "df.groupby(['A', 'B']).sum().reset_index()"
   ]
  },
  {
   "cell_type": "code",
   "execution_count": 67,
   "metadata": {
    "collapsed": false
   },
   "outputs": [
    {
     "data": {
      "text/plain": [
       "A    B    \n",
       "bar  one      1\n",
       "     three    1\n",
       "     two      1\n",
       "foo  one      2\n",
       "     three    1\n",
       "     two      2\n",
       "dtype: int64"
      ]
     },
     "execution_count": 67,
     "metadata": {},
     "output_type": "execute_result"
    }
   ],
   "source": [
    "grouped.size()"
   ]
  },
  {
   "cell_type": "code",
   "execution_count": 68,
   "metadata": {
    "collapsed": false
   },
   "outputs": [
    {
     "data": {
      "text/html": [
       "<div>\n",
       "<style scoped>\n",
       "    .dataframe tbody tr th:only-of-type {\n",
       "        vertical-align: middle;\n",
       "    }\n",
       "\n",
       "    .dataframe tbody tr th {\n",
       "        vertical-align: top;\n",
       "    }\n",
       "\n",
       "    .dataframe thead tr th {\n",
       "        text-align: left;\n",
       "    }\n",
       "</style>\n",
       "<table border=\"1\" class=\"dataframe\">\n",
       "  <thead>\n",
       "    <tr>\n",
       "      <th></th>\n",
       "      <th colspan=\"8\" halign=\"left\">C</th>\n",
       "      <th colspan=\"8\" halign=\"left\">D</th>\n",
       "    </tr>\n",
       "    <tr>\n",
       "      <th></th>\n",
       "      <th>count</th>\n",
       "      <th>mean</th>\n",
       "      <th>std</th>\n",
       "      <th>min</th>\n",
       "      <th>25%</th>\n",
       "      <th>50%</th>\n",
       "      <th>75%</th>\n",
       "      <th>max</th>\n",
       "      <th>count</th>\n",
       "      <th>mean</th>\n",
       "      <th>std</th>\n",
       "      <th>min</th>\n",
       "      <th>25%</th>\n",
       "      <th>50%</th>\n",
       "      <th>75%</th>\n",
       "      <th>max</th>\n",
       "    </tr>\n",
       "  </thead>\n",
       "  <tbody>\n",
       "    <tr>\n",
       "      <th>0</th>\n",
       "      <td>1.0</td>\n",
       "      <td>-0.830092</td>\n",
       "      <td>NaN</td>\n",
       "      <td>-0.830092</td>\n",
       "      <td>-0.830092</td>\n",
       "      <td>-0.830092</td>\n",
       "      <td>-0.830092</td>\n",
       "      <td>-0.830092</td>\n",
       "      <td>1.0</td>\n",
       "      <td>-0.756952</td>\n",
       "      <td>NaN</td>\n",
       "      <td>-0.756952</td>\n",
       "      <td>-0.756952</td>\n",
       "      <td>-0.756952</td>\n",
       "      <td>-0.756952</td>\n",
       "      <td>-0.756952</td>\n",
       "    </tr>\n",
       "    <tr>\n",
       "      <th>1</th>\n",
       "      <td>1.0</td>\n",
       "      <td>-0.865654</td>\n",
       "      <td>NaN</td>\n",
       "      <td>-0.865654</td>\n",
       "      <td>-0.865654</td>\n",
       "      <td>-0.865654</td>\n",
       "      <td>-0.865654</td>\n",
       "      <td>-0.865654</td>\n",
       "      <td>1.0</td>\n",
       "      <td>-0.788776</td>\n",
       "      <td>NaN</td>\n",
       "      <td>-0.788776</td>\n",
       "      <td>-0.788776</td>\n",
       "      <td>-0.788776</td>\n",
       "      <td>-0.788776</td>\n",
       "      <td>-0.788776</td>\n",
       "    </tr>\n",
       "    <tr>\n",
       "      <th>2</th>\n",
       "      <td>1.0</td>\n",
       "      <td>0.099086</td>\n",
       "      <td>NaN</td>\n",
       "      <td>0.099086</td>\n",
       "      <td>0.099086</td>\n",
       "      <td>0.099086</td>\n",
       "      <td>0.099086</td>\n",
       "      <td>0.099086</td>\n",
       "      <td>1.0</td>\n",
       "      <td>-0.978453</td>\n",
       "      <td>NaN</td>\n",
       "      <td>-0.978453</td>\n",
       "      <td>-0.978453</td>\n",
       "      <td>-0.978453</td>\n",
       "      <td>-0.978453</td>\n",
       "      <td>-0.978453</td>\n",
       "    </tr>\n",
       "    <tr>\n",
       "      <th>3</th>\n",
       "      <td>2.0</td>\n",
       "      <td>-0.366529</td>\n",
       "      <td>1.071878</td>\n",
       "      <td>-1.124461</td>\n",
       "      <td>-0.745495</td>\n",
       "      <td>-0.366529</td>\n",
       "      <td>0.012437</td>\n",
       "      <td>0.391403</td>\n",
       "      <td>2.0</td>\n",
       "      <td>0.188075</td>\n",
       "      <td>0.692022</td>\n",
       "      <td>-0.301258</td>\n",
       "      <td>-0.056592</td>\n",
       "      <td>0.188075</td>\n",
       "      <td>0.432742</td>\n",
       "      <td>0.677408</td>\n",
       "    </tr>\n",
       "    <tr>\n",
       "      <th>4</th>\n",
       "      <td>1.0</td>\n",
       "      <td>-1.171082</td>\n",
       "      <td>NaN</td>\n",
       "      <td>-1.171082</td>\n",
       "      <td>-1.171082</td>\n",
       "      <td>-1.171082</td>\n",
       "      <td>-1.171082</td>\n",
       "      <td>-1.171082</td>\n",
       "      <td>1.0</td>\n",
       "      <td>-0.545103</td>\n",
       "      <td>NaN</td>\n",
       "      <td>-0.545103</td>\n",
       "      <td>-0.545103</td>\n",
       "      <td>-0.545103</td>\n",
       "      <td>-0.545103</td>\n",
       "      <td>-0.545103</td>\n",
       "    </tr>\n",
       "    <tr>\n",
       "      <th>5</th>\n",
       "      <td>2.0</td>\n",
       "      <td>0.785981</td>\n",
       "      <td>0.423233</td>\n",
       "      <td>0.486710</td>\n",
       "      <td>0.636346</td>\n",
       "      <td>0.785981</td>\n",
       "      <td>0.935617</td>\n",
       "      <td>1.085252</td>\n",
       "      <td>2.0</td>\n",
       "      <td>-0.459183</td>\n",
       "      <td>0.498349</td>\n",
       "      <td>-0.811569</td>\n",
       "      <td>-0.635376</td>\n",
       "      <td>-0.459183</td>\n",
       "      <td>-0.282990</td>\n",
       "      <td>-0.106797</td>\n",
       "    </tr>\n",
       "  </tbody>\n",
       "</table>\n",
       "</div>"
      ],
      "text/plain": [
       "      C                                                                        \\\n",
       "  count      mean       std       min       25%       50%       75%       max   \n",
       "0   1.0 -0.830092       NaN -0.830092 -0.830092 -0.830092 -0.830092 -0.830092   \n",
       "1   1.0 -0.865654       NaN -0.865654 -0.865654 -0.865654 -0.865654 -0.865654   \n",
       "2   1.0  0.099086       NaN  0.099086  0.099086  0.099086  0.099086  0.099086   \n",
       "3   2.0 -0.366529  1.071878 -1.124461 -0.745495 -0.366529  0.012437  0.391403   \n",
       "4   1.0 -1.171082       NaN -1.171082 -1.171082 -1.171082 -1.171082 -1.171082   \n",
       "5   2.0  0.785981  0.423233  0.486710  0.636346  0.785981  0.935617  1.085252   \n",
       "\n",
       "      D                                                                        \n",
       "  count      mean       std       min       25%       50%       75%       max  \n",
       "0   1.0 -0.756952       NaN -0.756952 -0.756952 -0.756952 -0.756952 -0.756952  \n",
       "1   1.0 -0.788776       NaN -0.788776 -0.788776 -0.788776 -0.788776 -0.788776  \n",
       "2   1.0 -0.978453       NaN -0.978453 -0.978453 -0.978453 -0.978453 -0.978453  \n",
       "3   2.0  0.188075  0.692022 -0.301258 -0.056592  0.188075  0.432742  0.677408  \n",
       "4   1.0 -0.545103       NaN -0.545103 -0.545103 -0.545103 -0.545103 -0.545103  \n",
       "5   2.0 -0.459183  0.498349 -0.811569 -0.635376 -0.459183 -0.282990 -0.106797  "
      ]
     },
     "execution_count": 68,
     "metadata": {},
     "output_type": "execute_result"
    }
   ],
   "source": [
    "grouped.describe()"
   ]
  },
  {
   "cell_type": "markdown",
   "metadata": {},
   "source": [
    "## 16.4.1 Applying multiple functions at once"
   ]
  },
  {
   "cell_type": "code",
   "execution_count": 70,
   "metadata": {
    "collapsed": false
   },
   "outputs": [
    {
     "data": {
      "text/html": [
       "<div>\n",
       "<style scoped>\n",
       "    .dataframe tbody tr th:only-of-type {\n",
       "        vertical-align: middle;\n",
       "    }\n",
       "\n",
       "    .dataframe tbody tr th {\n",
       "        vertical-align: top;\n",
       "    }\n",
       "\n",
       "    .dataframe thead th {\n",
       "        text-align: right;\n",
       "    }\n",
       "</style>\n",
       "<table border=\"1\" class=\"dataframe\">\n",
       "  <thead>\n",
       "    <tr style=\"text-align: right;\">\n",
       "      <th></th>\n",
       "      <th>sum</th>\n",
       "      <th>mean</th>\n",
       "      <th>std</th>\n",
       "    </tr>\n",
       "    <tr>\n",
       "      <th>A</th>\n",
       "      <th></th>\n",
       "      <th></th>\n",
       "      <th></th>\n",
       "    </tr>\n",
       "  </thead>\n",
       "  <tbody>\n",
       "    <tr>\n",
       "      <th>bar</th>\n",
       "      <td>-1.596660</td>\n",
       "      <td>-0.532220</td>\n",
       "      <td>0.547016</td>\n",
       "    </tr>\n",
       "    <tr>\n",
       "      <th>foo</th>\n",
       "      <td>-0.332177</td>\n",
       "      <td>-0.066435</td>\n",
       "      <td>1.022452</td>\n",
       "    </tr>\n",
       "  </tbody>\n",
       "</table>\n",
       "</div>"
      ],
      "text/plain": [
       "          sum      mean       std\n",
       "A                                \n",
       "bar -1.596660 -0.532220  0.547016\n",
       "foo -0.332177 -0.066435  1.022452"
      ]
     },
     "execution_count": 70,
     "metadata": {},
     "output_type": "execute_result"
    }
   ],
   "source": [
    "grouped = df.groupby('A')\n",
    "grouped['C'].agg([np.sum, np.mean, np.std])"
   ]
  },
  {
   "cell_type": "code",
   "execution_count": 71,
   "metadata": {
    "collapsed": false
   },
   "outputs": [
    {
     "data": {
      "text/html": [
       "<div>\n",
       "<style scoped>\n",
       "    .dataframe tbody tr th:only-of-type {\n",
       "        vertical-align: middle;\n",
       "    }\n",
       "\n",
       "    .dataframe tbody tr th {\n",
       "        vertical-align: top;\n",
       "    }\n",
       "\n",
       "    .dataframe thead tr th {\n",
       "        text-align: left;\n",
       "    }\n",
       "\n",
       "    .dataframe thead tr:last-of-type th {\n",
       "        text-align: right;\n",
       "    }\n",
       "</style>\n",
       "<table border=\"1\" class=\"dataframe\">\n",
       "  <thead>\n",
       "    <tr>\n",
       "      <th></th>\n",
       "      <th colspan=\"3\" halign=\"left\">C</th>\n",
       "      <th colspan=\"3\" halign=\"left\">D</th>\n",
       "    </tr>\n",
       "    <tr>\n",
       "      <th></th>\n",
       "      <th>sum</th>\n",
       "      <th>mean</th>\n",
       "      <th>std</th>\n",
       "      <th>sum</th>\n",
       "      <th>mean</th>\n",
       "      <th>std</th>\n",
       "    </tr>\n",
       "    <tr>\n",
       "      <th>A</th>\n",
       "      <th></th>\n",
       "      <th></th>\n",
       "      <th></th>\n",
       "      <th></th>\n",
       "      <th></th>\n",
       "      <th></th>\n",
       "    </tr>\n",
       "  </thead>\n",
       "  <tbody>\n",
       "    <tr>\n",
       "      <th>bar</th>\n",
       "      <td>-1.596660</td>\n",
       "      <td>-0.532220</td>\n",
       "      <td>0.547016</td>\n",
       "      <td>-2.524181</td>\n",
       "      <td>-0.841394</td>\n",
       "      <td>0.119759</td>\n",
       "    </tr>\n",
       "    <tr>\n",
       "      <th>foo</th>\n",
       "      <td>-0.332177</td>\n",
       "      <td>-0.066435</td>\n",
       "      <td>1.022452</td>\n",
       "      <td>-1.087319</td>\n",
       "      <td>-0.217464</td>\n",
       "      <td>0.565768</td>\n",
       "    </tr>\n",
       "  </tbody>\n",
       "</table>\n",
       "</div>"
      ],
      "text/plain": [
       "            C                             D                    \n",
       "          sum      mean       std       sum      mean       std\n",
       "A                                                              \n",
       "bar -1.596660 -0.532220  0.547016 -2.524181 -0.841394  0.119759\n",
       "foo -0.332177 -0.066435  1.022452 -1.087319 -0.217464  0.565768"
      ]
     },
     "execution_count": 71,
     "metadata": {},
     "output_type": "execute_result"
    }
   ],
   "source": [
    "grouped.agg([np.sum, np.mean, np.std])"
   ]
  },
  {
   "cell_type": "code",
   "execution_count": 72,
   "metadata": {
    "collapsed": false
   },
   "outputs": [
    {
     "data": {
      "text/html": [
       "<div>\n",
       "<style scoped>\n",
       "    .dataframe tbody tr th:only-of-type {\n",
       "        vertical-align: middle;\n",
       "    }\n",
       "\n",
       "    .dataframe tbody tr th {\n",
       "        vertical-align: top;\n",
       "    }\n",
       "\n",
       "    .dataframe thead th {\n",
       "        text-align: right;\n",
       "    }\n",
       "</style>\n",
       "<table border=\"1\" class=\"dataframe\">\n",
       "  <thead>\n",
       "    <tr style=\"text-align: right;\">\n",
       "      <th></th>\n",
       "      <th>foo</th>\n",
       "      <th>bar</th>\n",
       "      <th>baz</th>\n",
       "    </tr>\n",
       "    <tr>\n",
       "      <th>A</th>\n",
       "      <th></th>\n",
       "      <th></th>\n",
       "      <th></th>\n",
       "    </tr>\n",
       "  </thead>\n",
       "  <tbody>\n",
       "    <tr>\n",
       "      <th>bar</th>\n",
       "      <td>-1.596660</td>\n",
       "      <td>-0.532220</td>\n",
       "      <td>0.547016</td>\n",
       "    </tr>\n",
       "    <tr>\n",
       "      <th>foo</th>\n",
       "      <td>-0.332177</td>\n",
       "      <td>-0.066435</td>\n",
       "      <td>1.022452</td>\n",
       "    </tr>\n",
       "  </tbody>\n",
       "</table>\n",
       "</div>"
      ],
      "text/plain": [
       "          foo       bar       baz\n",
       "A                                \n",
       "bar -1.596660 -0.532220  0.547016\n",
       "foo -0.332177 -0.066435  1.022452"
      ]
     },
     "execution_count": 72,
     "metadata": {},
     "output_type": "execute_result"
    }
   ],
   "source": [
    "(grouped['C'].agg([np.sum, np.mean, np.std]).rename(columns={'sum': 'foo','mean': 'bar','std': 'baz'}))"
   ]
  },
  {
   "cell_type": "code",
   "execution_count": 73,
   "metadata": {
    "collapsed": false
   },
   "outputs": [
    {
     "data": {
      "text/html": [
       "<div>\n",
       "<style scoped>\n",
       "    .dataframe tbody tr th:only-of-type {\n",
       "        vertical-align: middle;\n",
       "    }\n",
       "\n",
       "    .dataframe tbody tr th {\n",
       "        vertical-align: top;\n",
       "    }\n",
       "\n",
       "    .dataframe thead tr th {\n",
       "        text-align: left;\n",
       "    }\n",
       "\n",
       "    .dataframe thead tr:last-of-type th {\n",
       "        text-align: right;\n",
       "    }\n",
       "</style>\n",
       "<table border=\"1\" class=\"dataframe\">\n",
       "  <thead>\n",
       "    <tr>\n",
       "      <th></th>\n",
       "      <th colspan=\"3\" halign=\"left\">C</th>\n",
       "      <th colspan=\"3\" halign=\"left\">D</th>\n",
       "    </tr>\n",
       "    <tr>\n",
       "      <th></th>\n",
       "      <th>foo</th>\n",
       "      <th>bar</th>\n",
       "      <th>baz</th>\n",
       "      <th>foo</th>\n",
       "      <th>bar</th>\n",
       "      <th>baz</th>\n",
       "    </tr>\n",
       "    <tr>\n",
       "      <th>A</th>\n",
       "      <th></th>\n",
       "      <th></th>\n",
       "      <th></th>\n",
       "      <th></th>\n",
       "      <th></th>\n",
       "      <th></th>\n",
       "    </tr>\n",
       "  </thead>\n",
       "  <tbody>\n",
       "    <tr>\n",
       "      <th>bar</th>\n",
       "      <td>-1.596660</td>\n",
       "      <td>-0.532220</td>\n",
       "      <td>0.547016</td>\n",
       "      <td>-2.524181</td>\n",
       "      <td>-0.841394</td>\n",
       "      <td>0.119759</td>\n",
       "    </tr>\n",
       "    <tr>\n",
       "      <th>foo</th>\n",
       "      <td>-0.332177</td>\n",
       "      <td>-0.066435</td>\n",
       "      <td>1.022452</td>\n",
       "      <td>-1.087319</td>\n",
       "      <td>-0.217464</td>\n",
       "      <td>0.565768</td>\n",
       "    </tr>\n",
       "  </tbody>\n",
       "</table>\n",
       "</div>"
      ],
      "text/plain": [
       "            C                             D                    \n",
       "          foo       bar       baz       foo       bar       baz\n",
       "A                                                              \n",
       "bar -1.596660 -0.532220  0.547016 -2.524181 -0.841394  0.119759\n",
       "foo -0.332177 -0.066435  1.022452 -1.087319 -0.217464  0.565768"
      ]
     },
     "execution_count": 73,
     "metadata": {},
     "output_type": "execute_result"
    }
   ],
   "source": [
    "(grouped.agg([np.sum, np.mean, np.std]).rename(columns={'sum': 'foo','mean': 'bar','std': 'baz'}))"
   ]
  },
  {
   "cell_type": "markdown",
   "metadata": {},
   "source": [
    "## 16.4.2 Applying different functions to DataFrame columns"
   ]
  },
  {
   "cell_type": "code",
   "execution_count": 74,
   "metadata": {
    "collapsed": false
   },
   "outputs": [
    {
     "data": {
      "text/html": [
       "<div>\n",
       "<style scoped>\n",
       "    .dataframe tbody tr th:only-of-type {\n",
       "        vertical-align: middle;\n",
       "    }\n",
       "\n",
       "    .dataframe tbody tr th {\n",
       "        vertical-align: top;\n",
       "    }\n",
       "\n",
       "    .dataframe thead th {\n",
       "        text-align: right;\n",
       "    }\n",
       "</style>\n",
       "<table border=\"1\" class=\"dataframe\">\n",
       "  <thead>\n",
       "    <tr style=\"text-align: right;\">\n",
       "      <th></th>\n",
       "      <th>D</th>\n",
       "      <th>C</th>\n",
       "    </tr>\n",
       "    <tr>\n",
       "      <th>A</th>\n",
       "      <th></th>\n",
       "      <th></th>\n",
       "    </tr>\n",
       "  </thead>\n",
       "  <tbody>\n",
       "    <tr>\n",
       "      <th>bar</th>\n",
       "      <td>0.119759</td>\n",
       "      <td>-1.596660</td>\n",
       "    </tr>\n",
       "    <tr>\n",
       "      <th>foo</th>\n",
       "      <td>0.565768</td>\n",
       "      <td>-0.332177</td>\n",
       "    </tr>\n",
       "  </tbody>\n",
       "</table>\n",
       "</div>"
      ],
      "text/plain": [
       "            D         C\n",
       "A                      \n",
       "bar  0.119759 -1.596660\n",
       "foo  0.565768 -0.332177"
      ]
     },
     "execution_count": 74,
     "metadata": {},
     "output_type": "execute_result"
    }
   ],
   "source": [
    "grouped.agg({'C' : np.sum,'D' : lambda x: np.std(x, ddof=1)})"
   ]
  },
  {
   "cell_type": "code",
   "execution_count": 75,
   "metadata": {
    "collapsed": false
   },
   "outputs": [
    {
     "data": {
      "text/html": [
       "<div>\n",
       "<style scoped>\n",
       "    .dataframe tbody tr th:only-of-type {\n",
       "        vertical-align: middle;\n",
       "    }\n",
       "\n",
       "    .dataframe tbody tr th {\n",
       "        vertical-align: top;\n",
       "    }\n",
       "\n",
       "    .dataframe thead th {\n",
       "        text-align: right;\n",
       "    }\n",
       "</style>\n",
       "<table border=\"1\" class=\"dataframe\">\n",
       "  <thead>\n",
       "    <tr style=\"text-align: right;\">\n",
       "      <th></th>\n",
       "      <th>D</th>\n",
       "      <th>C</th>\n",
       "    </tr>\n",
       "    <tr>\n",
       "      <th>A</th>\n",
       "      <th></th>\n",
       "      <th></th>\n",
       "    </tr>\n",
       "  </thead>\n",
       "  <tbody>\n",
       "    <tr>\n",
       "      <th>bar</th>\n",
       "      <td>0.119759</td>\n",
       "      <td>-1.596660</td>\n",
       "    </tr>\n",
       "    <tr>\n",
       "      <th>foo</th>\n",
       "      <td>0.565768</td>\n",
       "      <td>-0.332177</td>\n",
       "    </tr>\n",
       "  </tbody>\n",
       "</table>\n",
       "</div>"
      ],
      "text/plain": [
       "            D         C\n",
       "A                      \n",
       "bar  0.119759 -1.596660\n",
       "foo  0.565768 -0.332177"
      ]
     },
     "execution_count": 75,
     "metadata": {},
     "output_type": "execute_result"
    }
   ],
   "source": [
    "grouped.agg({'C' : 'sum', 'D' : 'std'})"
   ]
  },
  {
   "cell_type": "code",
   "execution_count": 76,
   "metadata": {
    "collapsed": false
   },
   "outputs": [
    {
     "data": {
      "text/html": [
       "<div>\n",
       "<style scoped>\n",
       "    .dataframe tbody tr th:only-of-type {\n",
       "        vertical-align: middle;\n",
       "    }\n",
       "\n",
       "    .dataframe tbody tr th {\n",
       "        vertical-align: top;\n",
       "    }\n",
       "\n",
       "    .dataframe thead th {\n",
       "        text-align: right;\n",
       "    }\n",
       "</style>\n",
       "<table border=\"1\" class=\"dataframe\">\n",
       "  <thead>\n",
       "    <tr style=\"text-align: right;\">\n",
       "      <th></th>\n",
       "      <th>D</th>\n",
       "      <th>C</th>\n",
       "    </tr>\n",
       "    <tr>\n",
       "      <th>A</th>\n",
       "      <th></th>\n",
       "      <th></th>\n",
       "    </tr>\n",
       "  </thead>\n",
       "  <tbody>\n",
       "    <tr>\n",
       "      <th>bar</th>\n",
       "      <td>0.119759</td>\n",
       "      <td>-0.532220</td>\n",
       "    </tr>\n",
       "    <tr>\n",
       "      <th>foo</th>\n",
       "      <td>0.565768</td>\n",
       "      <td>-0.066435</td>\n",
       "    </tr>\n",
       "  </tbody>\n",
       "</table>\n",
       "</div>"
      ],
      "text/plain": [
       "            D         C\n",
       "A                      \n",
       "bar  0.119759 -0.532220\n",
       "foo  0.565768 -0.066435"
      ]
     },
     "execution_count": 76,
     "metadata": {},
     "output_type": "execute_result"
    }
   ],
   "source": [
    "grouped.agg({'D': 'std', 'C': 'mean'})"
   ]
  },
  {
   "cell_type": "code",
   "execution_count": 78,
   "metadata": {
    "collapsed": false
   },
   "outputs": [
    {
     "ename": "NameError",
     "evalue": "name 'OrderedDict' is not defined",
     "output_type": "error",
     "traceback": [
      "\u001b[0;31m---------------------------------------------------------------------------\u001b[0m",
      "\u001b[0;31mNameError\u001b[0m                                 Traceback (most recent call last)",
      "\u001b[0;32m<ipython-input-78-9e672eb45ac6>\u001b[0m in \u001b[0;36m<module>\u001b[0;34m()\u001b[0m\n\u001b[0;32m----> 1\u001b[0;31m \u001b[0mgrouped\u001b[0m\u001b[1;33m.\u001b[0m\u001b[0magg\u001b[0m\u001b[1;33m(\u001b[0m\u001b[0mOrderedDict\u001b[0m\u001b[1;33m(\u001b[0m\u001b[1;33m[\u001b[0m\u001b[1;33m(\u001b[0m\u001b[1;34m'D'\u001b[0m\u001b[1;33m,\u001b[0m \u001b[1;34m'std'\u001b[0m\u001b[1;33m)\u001b[0m\u001b[1;33m,\u001b[0m \u001b[1;33m(\u001b[0m\u001b[1;34m'C'\u001b[0m\u001b[1;33m,\u001b[0m \u001b[1;34m'mean'\u001b[0m\u001b[1;33m)\u001b[0m\u001b[1;33m]\u001b[0m\u001b[1;33m)\u001b[0m\u001b[1;33m)\u001b[0m\u001b[1;33m\u001b[0m\u001b[0m\n\u001b[0m",
      "\u001b[0;31mNameError\u001b[0m: name 'OrderedDict' is not defined"
     ]
    }
   ],
   "source": [
    "grouped.agg(OrderedDict([('D', 'std'), ('C', 'mean')]))"
   ]
  },
  {
   "cell_type": "markdown",
   "metadata": {},
   "source": [
    "## 16.4.3 Cython-optimized aggregation functions"
   ]
  },
  {
   "cell_type": "code",
   "execution_count": 79,
   "metadata": {
    "collapsed": false
   },
   "outputs": [
    {
     "data": {
      "text/html": [
       "<div>\n",
       "<style scoped>\n",
       "    .dataframe tbody tr th:only-of-type {\n",
       "        vertical-align: middle;\n",
       "    }\n",
       "\n",
       "    .dataframe tbody tr th {\n",
       "        vertical-align: top;\n",
       "    }\n",
       "\n",
       "    .dataframe thead th {\n",
       "        text-align: right;\n",
       "    }\n",
       "</style>\n",
       "<table border=\"1\" class=\"dataframe\">\n",
       "  <thead>\n",
       "    <tr style=\"text-align: right;\">\n",
       "      <th></th>\n",
       "      <th>C</th>\n",
       "      <th>D</th>\n",
       "    </tr>\n",
       "    <tr>\n",
       "      <th>A</th>\n",
       "      <th></th>\n",
       "      <th></th>\n",
       "    </tr>\n",
       "  </thead>\n",
       "  <tbody>\n",
       "    <tr>\n",
       "      <th>bar</th>\n",
       "      <td>-1.596660</td>\n",
       "      <td>-2.524181</td>\n",
       "    </tr>\n",
       "    <tr>\n",
       "      <th>foo</th>\n",
       "      <td>-0.332177</td>\n",
       "      <td>-1.087319</td>\n",
       "    </tr>\n",
       "  </tbody>\n",
       "</table>\n",
       "</div>"
      ],
      "text/plain": [
       "            C         D\n",
       "A                      \n",
       "bar -1.596660 -2.524181\n",
       "foo -0.332177 -1.087319"
      ]
     },
     "execution_count": 79,
     "metadata": {},
     "output_type": "execute_result"
    }
   ],
   "source": [
    "df.groupby('A').sum()"
   ]
  },
  {
   "cell_type": "code",
   "execution_count": 80,
   "metadata": {
    "collapsed": false
   },
   "outputs": [
    {
     "data": {
      "text/html": [
       "<div>\n",
       "<style scoped>\n",
       "    .dataframe tbody tr th:only-of-type {\n",
       "        vertical-align: middle;\n",
       "    }\n",
       "\n",
       "    .dataframe tbody tr th {\n",
       "        vertical-align: top;\n",
       "    }\n",
       "\n",
       "    .dataframe thead th {\n",
       "        text-align: right;\n",
       "    }\n",
       "</style>\n",
       "<table border=\"1\" class=\"dataframe\">\n",
       "  <thead>\n",
       "    <tr style=\"text-align: right;\">\n",
       "      <th></th>\n",
       "      <th></th>\n",
       "      <th>C</th>\n",
       "      <th>D</th>\n",
       "    </tr>\n",
       "    <tr>\n",
       "      <th>A</th>\n",
       "      <th>B</th>\n",
       "      <th></th>\n",
       "      <th></th>\n",
       "    </tr>\n",
       "  </thead>\n",
       "  <tbody>\n",
       "    <tr>\n",
       "      <th rowspan=\"3\" valign=\"top\">bar</th>\n",
       "      <th>one</th>\n",
       "      <td>-0.830092</td>\n",
       "      <td>-0.756952</td>\n",
       "    </tr>\n",
       "    <tr>\n",
       "      <th>three</th>\n",
       "      <td>-0.865654</td>\n",
       "      <td>-0.788776</td>\n",
       "    </tr>\n",
       "    <tr>\n",
       "      <th>two</th>\n",
       "      <td>0.099086</td>\n",
       "      <td>-0.978453</td>\n",
       "    </tr>\n",
       "    <tr>\n",
       "      <th rowspan=\"3\" valign=\"top\">foo</th>\n",
       "      <th>one</th>\n",
       "      <td>-0.366529</td>\n",
       "      <td>0.188075</td>\n",
       "    </tr>\n",
       "    <tr>\n",
       "      <th>three</th>\n",
       "      <td>-1.171082</td>\n",
       "      <td>-0.545103</td>\n",
       "    </tr>\n",
       "    <tr>\n",
       "      <th>two</th>\n",
       "      <td>0.785981</td>\n",
       "      <td>-0.459183</td>\n",
       "    </tr>\n",
       "  </tbody>\n",
       "</table>\n",
       "</div>"
      ],
      "text/plain": [
       "                  C         D\n",
       "A   B                        \n",
       "bar one   -0.830092 -0.756952\n",
       "    three -0.865654 -0.788776\n",
       "    two    0.099086 -0.978453\n",
       "foo one   -0.366529  0.188075\n",
       "    three -1.171082 -0.545103\n",
       "    two    0.785981 -0.459183"
      ]
     },
     "execution_count": 80,
     "metadata": {},
     "output_type": "execute_result"
    }
   ],
   "source": [
    "df.groupby(['A', 'B']).mean()"
   ]
  },
  {
   "cell_type": "markdown",
   "metadata": {},
   "source": [
    "# 16.5 Transformation"
   ]
  },
  {
   "cell_type": "code",
   "execution_count": 94,
   "metadata": {
    "collapsed": true
   },
   "outputs": [
    {
     "data": {
      "text/plain": [
       "1999-10-01    3.895040\n",
       "1999-10-02   -1.794884\n",
       "1999-10-03   -0.549336\n",
       "1999-10-04    1.175662\n",
       "1999-10-05    7.012307\n",
       "1999-10-06   -1.570899\n",
       "1999-10-07    0.449620\n",
       "1999-10-08    3.875036\n",
       "1999-10-09    0.126549\n",
       "1999-10-10    4.224443\n",
       "1999-10-11   -0.074740\n",
       "1999-10-12    2.181963\n",
       "1999-10-13    2.648256\n",
       "1999-10-14   -0.455911\n",
       "1999-10-15    2.462448\n",
       "1999-10-16   -0.285014\n",
       "1999-10-17   -0.914814\n",
       "1999-10-18    0.366802\n",
       "1999-10-19    0.484768\n",
       "1999-10-20    0.776665\n",
       "1999-10-21   -5.350077\n",
       "1999-10-22    0.180112\n",
       "1999-10-23    0.292692\n",
       "1999-10-24   -3.719334\n",
       "1999-10-25   -0.726607\n",
       "1999-10-26    2.423192\n",
       "1999-10-27    0.865185\n",
       "1999-10-28    1.622921\n",
       "1999-10-29   -2.299035\n",
       "1999-10-30   -0.606634\n",
       "                ...   \n",
       "2002-09-05    0.341872\n",
       "2002-09-06   -1.607443\n",
       "2002-09-07    0.455075\n",
       "2002-09-08    1.602278\n",
       "2002-09-09   -0.216314\n",
       "2002-09-10   -0.414417\n",
       "2002-09-11    0.294726\n",
       "2002-09-12    0.199825\n",
       "2002-09-13   -1.309530\n",
       "2002-09-14    1.831611\n",
       "2002-09-15    1.508550\n",
       "2002-09-16   -0.716191\n",
       "2002-09-17   -4.069087\n",
       "2002-09-18    2.400581\n",
       "2002-09-19    1.595236\n",
       "2002-09-20   -1.897323\n",
       "2002-09-21    1.440077\n",
       "2002-09-22   -3.853513\n",
       "2002-09-23    1.316474\n",
       "2002-09-24   -4.049592\n",
       "2002-09-25   -0.768826\n",
       "2002-09-26    2.210771\n",
       "2002-09-27   -1.205534\n",
       "2002-09-28   -1.011766\n",
       "2002-09-29    0.432340\n",
       "2002-09-30    0.107469\n",
       "2002-10-01    2.510181\n",
       "2002-10-02   -1.281254\n",
       "2002-10-03    0.034451\n",
       "2002-10-04   -3.144342\n",
       "Freq: D, Length: 1100, dtype: float64"
      ]
     },
     "execution_count": 94,
     "metadata": {},
     "output_type": "execute_result"
    }
   ],
   "source": [
    "index = pd.date_range('10/1/1999', periods=1100)\n",
    "ts = pd.Series(np.random.normal(0.5, 2, 1100), index)\n",
    "ts"
   ]
  },
  {
   "cell_type": "code",
   "execution_count": 95,
   "metadata": {
    "collapsed": false
   },
   "outputs": [
    {
     "data": {
      "text/plain": [
       "2000-01-08    0.691459\n",
       "2000-01-09    0.663604\n",
       "2000-01-10    0.677626\n",
       "2000-01-11    0.691533\n",
       "2000-01-12    0.679053\n",
       "Freq: D, dtype: float64"
      ]
     },
     "execution_count": 95,
     "metadata": {},
     "output_type": "execute_result"
    }
   ],
   "source": [
    "ts = ts.rolling(window=100,min_periods=100).mean().dropna()\n",
    "ts.head()"
   ]
  },
  {
   "cell_type": "code",
   "execution_count": 96,
   "metadata": {
    "collapsed": false
   },
   "outputs": [
    {
     "data": {
      "text/plain": [
       "2002-09-30    0.312472\n",
       "2002-10-01    0.300708\n",
       "2002-10-02    0.283550\n",
       "2002-10-03    0.267483\n",
       "2002-10-04    0.281221\n",
       "Freq: D, dtype: float64"
      ]
     },
     "execution_count": 96,
     "metadata": {},
     "output_type": "execute_result"
    }
   ],
   "source": [
    "ts.tail()"
   ]
  },
  {
   "cell_type": "code",
   "execution_count": 97,
   "metadata": {
    "collapsed": true
   },
   "outputs": [],
   "source": [
    "key = lambda x: x.year\n",
    "zscore = lambda x: (x - x.mean()) / x.std()"
   ]
  },
  {
   "cell_type": "code",
   "execution_count": 98,
   "metadata": {
    "collapsed": true
   },
   "outputs": [
    {
     "data": {
      "text/plain": [
       "2000-01-08    1.978952\n",
       "2000-01-09    1.805767\n",
       "2000-01-10    1.892947\n",
       "2000-01-11    1.979412\n",
       "2000-01-12    1.901820\n",
       "2000-01-13    1.196683\n",
       "2000-01-14    1.463856\n",
       "2000-01-15    1.510692\n",
       "2000-01-16    1.382519\n",
       "2000-01-17    1.167964\n",
       "2000-01-18    1.069720\n",
       "2000-01-19    0.909008\n",
       "2000-01-20    0.908138\n",
       "2000-01-21    0.788057\n",
       "2000-01-22    0.957387\n",
       "2000-01-23    0.925121\n",
       "2000-01-24    0.851451\n",
       "2000-01-25    0.688959\n",
       "2000-01-26    0.937283\n",
       "2000-01-27    0.789538\n",
       "2000-01-28    0.956699\n",
       "2000-01-29    1.315865\n",
       "2000-01-30    1.498927\n",
       "2000-01-31    1.523367\n",
       "2000-02-01    1.883411\n",
       "2000-02-02    2.123618\n",
       "2000-02-03    1.943752\n",
       "2000-02-04    1.779760\n",
       "2000-02-05    1.781678\n",
       "2000-02-06    2.020606\n",
       "                ...   \n",
       "2002-09-05    1.588590\n",
       "2002-09-06    1.452934\n",
       "2002-09-07    1.614431\n",
       "2002-09-08    1.605148\n",
       "2002-09-09    1.494452\n",
       "2002-09-10    1.359194\n",
       "2002-09-11    1.318504\n",
       "2002-09-12    1.267912\n",
       "2002-09-13    1.019576\n",
       "2002-09-14    1.116757\n",
       "2002-09-15    1.106239\n",
       "2002-09-16    0.996973\n",
       "2002-09-17    0.661531\n",
       "2002-09-18    0.531250\n",
       "2002-09-19    0.398679\n",
       "2002-09-20    0.513161\n",
       "2002-09-21    0.306738\n",
       "2002-09-22   -0.136785\n",
       "2002-09-23   -0.031068\n",
       "2002-09-24   -0.271677\n",
       "2002-09-25   -0.318890\n",
       "2002-09-26   -0.318157\n",
       "2002-09-27   -0.444920\n",
       "2002-09-28   -0.603798\n",
       "2002-09-29   -0.622521\n",
       "2002-09-30   -0.598372\n",
       "2002-10-01   -0.660057\n",
       "2002-10-02   -0.750029\n",
       "2002-10-03   -0.834275\n",
       "2002-10-04   -0.762241\n",
       "Freq: D, Length: 1001, dtype: float64"
      ]
     },
     "execution_count": 98,
     "metadata": {},
     "output_type": "execute_result"
    }
   ],
   "source": [
    "transformed = ts.groupby(key).transform(zscore)\n",
    "transformed"
   ]
  },
  {
   "cell_type": "code",
   "execution_count": 99,
   "metadata": {
    "collapsed": true
   },
   "outputs": [],
   "source": [
    "grouped = ts.groupby(key)"
   ]
  },
  {
   "cell_type": "code",
   "execution_count": 100,
   "metadata": {
    "collapsed": false
   },
   "outputs": [
    {
     "data": {
      "text/plain": [
       "2000    0.373170\n",
       "2001    0.265318\n",
       "2002    0.426585\n",
       "dtype: float64"
      ]
     },
     "execution_count": 100,
     "metadata": {},
     "output_type": "execute_result"
    }
   ],
   "source": [
    "grouped.mean()"
   ]
  },
  {
   "cell_type": "code",
   "execution_count": 101,
   "metadata": {
    "collapsed": false
   },
   "outputs": [
    {
     "data": {
      "text/plain": [
       "2000    0.160837\n",
       "2001    0.252933\n",
       "2002    0.190707\n",
       "dtype: float64"
      ]
     },
     "execution_count": 101,
     "metadata": {},
     "output_type": "execute_result"
    }
   ],
   "source": [
    "grouped.std()"
   ]
  },
  {
   "cell_type": "code",
   "execution_count": 102,
   "metadata": {
    "collapsed": true
   },
   "outputs": [],
   "source": [
    "grouped_trans = transformed.groupby(key)"
   ]
  },
  {
   "cell_type": "code",
   "execution_count": 103,
   "metadata": {
    "collapsed": false
   },
   "outputs": [
    {
     "data": {
      "text/plain": [
       "2000    1.0\n",
       "2001    1.0\n",
       "2002    1.0\n",
       "dtype: float64"
      ]
     },
     "execution_count": 103,
     "metadata": {},
     "output_type": "execute_result"
    }
   ],
   "source": [
    "grouped_trans.std()"
   ]
  },
  {
   "cell_type": "code",
   "execution_count": 107,
   "metadata": {
    "collapsed": false
   },
   "outputs": [
    {
     "data": {
      "text/plain": [
       "<matplotlib.axes._subplots.AxesSubplot at 0xe8352b0>"
      ]
     },
     "execution_count": 107,
     "metadata": {},
     "output_type": "execute_result"
    },
    {
     "data": {
      "image/png": "[encoded data removed]",
      "text/plain": [
       "<matplotlib.figure.Figure at 0xf595320>"
      ]
     },
     "metadata": {},
     "output_type": "display_data"
    }
   ],
   "source": [
    "compare = pd.DataFrame({'Original': ts, 'Transformed': transformed})\n",
    "compare.plot()"
   ]
  },
  {
   "cell_type": "code",
   "execution_count": 108,
   "metadata": {
    "collapsed": true
   },
   "outputs": [],
   "source": [
    "data_range = lambda x: x.max() - x.min()"
   ]
  },
  {
   "cell_type": "code",
   "execution_count": 109,
   "metadata": {
    "collapsed": true
   },
   "outputs": [
    {
     "data": {
      "text/plain": [
       "2000-01-08    0.673745\n",
       "2000-01-09    0.673745\n",
       "2000-01-10    0.673745\n",
       "2000-01-11    0.673745\n",
       "2000-01-12    0.673745\n",
       "2000-01-13    0.673745\n",
       "2000-01-14    0.673745\n",
       "2000-01-15    0.673745\n",
       "2000-01-16    0.673745\n",
       "2000-01-17    0.673745\n",
       "2000-01-18    0.673745\n",
       "2000-01-19    0.673745\n",
       "2000-01-20    0.673745\n",
       "2000-01-21    0.673745\n",
       "2000-01-22    0.673745\n",
       "2000-01-23    0.673745\n",
       "2000-01-24    0.673745\n",
       "2000-01-25    0.673745\n",
       "2000-01-26    0.673745\n",
       "2000-01-27    0.673745\n",
       "2000-01-28    0.673745\n",
       "2000-01-29    0.673745\n",
       "2000-01-30    0.673745\n",
       "2000-01-31    0.673745\n",
       "2000-02-01    0.673745\n",
       "2000-02-02    0.673745\n",
       "2000-02-03    0.673745\n",
       "2000-02-04    0.673745\n",
       "2000-02-05    0.673745\n",
       "2000-02-06    0.673745\n",
       "                ...   \n",
       "2002-09-05    0.799322\n",
       "2002-09-06    0.799322\n",
       "2002-09-07    0.799322\n",
       "2002-09-08    0.799322\n",
       "2002-09-09    0.799322\n",
       "2002-09-10    0.799322\n",
       "2002-09-11    0.799322\n",
       "2002-09-12    0.799322\n",
       "2002-09-13    0.799322\n",
       "2002-09-14    0.799322\n",
       "2002-09-15    0.799322\n",
       "2002-09-16    0.799322\n",
       "2002-09-17    0.799322\n",
       "2002-09-18    0.799322\n",
       "2002-09-19    0.799322\n",
       "2002-09-20    0.799322\n",
       "2002-09-21    0.799322\n",
       "2002-09-22    0.799322\n",
       "2002-09-23    0.799322\n",
       "2002-09-24    0.799322\n",
       "2002-09-25    0.799322\n",
       "2002-09-26    0.799322\n",
       "2002-09-27    0.799322\n",
       "2002-09-28    0.799322\n",
       "2002-09-29    0.799322\n",
       "2002-09-30    0.799322\n",
       "2002-10-01    0.799322\n",
       "2002-10-02    0.799322\n",
       "2002-10-03    0.799322\n",
       "2002-10-04    0.799322\n",
       "Freq: D, Length: 1001, dtype: float64"
      ]
     },
     "execution_count": 109,
     "metadata": {},
     "output_type": "execute_result"
    }
   ],
   "source": [
    "ts.groupby(key).transform(data_range)"
   ]
  },
  {
   "cell_type": "code",
   "execution_count": 110,
   "metadata": {
    "collapsed": true
   },
   "outputs": [
    {
     "data": {
      "text/plain": [
       "2000-01-08    0.673745\n",
       "2000-01-09    0.673745\n",
       "2000-01-10    0.673745\n",
       "2000-01-11    0.673745\n",
       "2000-01-12    0.673745\n",
       "2000-01-13    0.673745\n",
       "2000-01-14    0.673745\n",
       "2000-01-15    0.673745\n",
       "2000-01-16    0.673745\n",
       "2000-01-17    0.673745\n",
       "2000-01-18    0.673745\n",
       "2000-01-19    0.673745\n",
       "2000-01-20    0.673745\n",
       "2000-01-21    0.673745\n",
       "2000-01-22    0.673745\n",
       "2000-01-23    0.673745\n",
       "2000-01-24    0.673745\n",
       "2000-01-25    0.673745\n",
       "2000-01-26    0.673745\n",
       "2000-01-27    0.673745\n",
       "2000-01-28    0.673745\n",
       "2000-01-29    0.673745\n",
       "2000-01-30    0.673745\n",
       "2000-01-31    0.673745\n",
       "2000-02-01    0.673745\n",
       "2000-02-02    0.673745\n",
       "2000-02-03    0.673745\n",
       "2000-02-04    0.673745\n",
       "2000-02-05    0.673745\n",
       "2000-02-06    0.673745\n",
       "                ...   \n",
       "2002-09-05    0.799322\n",
       "2002-09-06    0.799322\n",
       "2002-09-07    0.799322\n",
       "2002-09-08    0.799322\n",
       "2002-09-09    0.799322\n",
       "2002-09-10    0.799322\n",
       "2002-09-11    0.799322\n",
       "2002-09-12    0.799322\n",
       "2002-09-13    0.799322\n",
       "2002-09-14    0.799322\n",
       "2002-09-15    0.799322\n",
       "2002-09-16    0.799322\n",
       "2002-09-17    0.799322\n",
       "2002-09-18    0.799322\n",
       "2002-09-19    0.799322\n",
       "2002-09-20    0.799322\n",
       "2002-09-21    0.799322\n",
       "2002-09-22    0.799322\n",
       "2002-09-23    0.799322\n",
       "2002-09-24    0.799322\n",
       "2002-09-25    0.799322\n",
       "2002-09-26    0.799322\n",
       "2002-09-27    0.799322\n",
       "2002-09-28    0.799322\n",
       "2002-09-29    0.799322\n",
       "2002-09-30    0.799322\n",
       "2002-10-01    0.799322\n",
       "2002-10-02    0.799322\n",
       "2002-10-03    0.799322\n",
       "2002-10-04    0.799322\n",
       "Freq: D, Length: 1001, dtype: float64"
      ]
     },
     "execution_count": 110,
     "metadata": {},
     "output_type": "execute_result"
    }
   ],
   "source": [
    "ts.groupby(key).transform('max') - ts.groupby(key).transform('min')"
   ]
  },
  {
   "cell_type": "markdown",
   "metadata": {},
   "source": [
    "Another common data transform is to replace missing data with the group mean."
   ]
  },
  {
   "cell_type": "code",
   "execution_count": 126,
   "metadata": {
    "collapsed": true
   },
   "outputs": [
    {
     "data": {
      "text/html": [
       "<div>\n",
       "<style scoped>\n",
       "    .dataframe tbody tr th:only-of-type {\n",
       "        vertical-align: middle;\n",
       "    }\n",
       "\n",
       "    .dataframe tbody tr th {\n",
       "        vertical-align: top;\n",
       "    }\n",
       "\n",
       "    .dataframe thead th {\n",
       "        text-align: right;\n",
       "    }\n",
       "</style>\n",
       "<table border=\"1\" class=\"dataframe\">\n",
       "  <thead>\n",
       "    <tr style=\"text-align: right;\">\n",
       "      <th></th>\n",
       "      <th>A</th>\n",
       "      <th>B</th>\n",
       "      <th>C</th>\n",
       "    </tr>\n",
       "  </thead>\n",
       "  <tbody>\n",
       "    <tr>\n",
       "      <th>0</th>\n",
       "      <td>0.828127</td>\n",
       "      <td>-0.110294</td>\n",
       "      <td>0.035183</td>\n",
       "    </tr>\n",
       "    <tr>\n",
       "      <th>1</th>\n",
       "      <td>1.027962</td>\n",
       "      <td>-0.060075</td>\n",
       "      <td>-0.458134</td>\n",
       "    </tr>\n",
       "    <tr>\n",
       "      <th>2</th>\n",
       "      <td>-0.004339</td>\n",
       "      <td>0.005199</td>\n",
       "      <td>-0.842601</td>\n",
       "    </tr>\n",
       "    <tr>\n",
       "      <th>3</th>\n",
       "      <td>-0.081081</td>\n",
       "      <td>-0.607193</td>\n",
       "      <td>-1.168593</td>\n",
       "    </tr>\n",
       "    <tr>\n",
       "      <th>4</th>\n",
       "      <td>1.058312</td>\n",
       "      <td>-1.303463</td>\n",
       "      <td>-1.633475</td>\n",
       "    </tr>\n",
       "    <tr>\n",
       "      <th>5</th>\n",
       "      <td>0.247164</td>\n",
       "      <td>0.706189</td>\n",
       "      <td>-0.499013</td>\n",
       "    </tr>\n",
       "    <tr>\n",
       "      <th>6</th>\n",
       "      <td>0.835416</td>\n",
       "      <td>-1.240551</td>\n",
       "      <td>-0.705808</td>\n",
       "    </tr>\n",
       "    <tr>\n",
       "      <th>7</th>\n",
       "      <td>0.922992</td>\n",
       "      <td>-1.361350</td>\n",
       "      <td>-2.774647</td>\n",
       "    </tr>\n",
       "    <tr>\n",
       "      <th>8</th>\n",
       "      <td>0.442373</td>\n",
       "      <td>-1.421477</td>\n",
       "      <td>-1.532760</td>\n",
       "    </tr>\n",
       "    <tr>\n",
       "      <th>9</th>\n",
       "      <td>-1.218626</td>\n",
       "      <td>-1.069070</td>\n",
       "      <td>-0.111141</td>\n",
       "    </tr>\n",
       "    <tr>\n",
       "      <th>10</th>\n",
       "      <td>-0.539695</td>\n",
       "      <td>1.605281</td>\n",
       "      <td>1.009351</td>\n",
       "    </tr>\n",
       "    <tr>\n",
       "      <th>11</th>\n",
       "      <td>0.652668</td>\n",
       "      <td>-0.779819</td>\n",
       "      <td>-0.300812</td>\n",
       "    </tr>\n",
       "    <tr>\n",
       "      <th>12</th>\n",
       "      <td>1.248701</td>\n",
       "      <td>0.334853</td>\n",
       "      <td>-0.608131</td>\n",
       "    </tr>\n",
       "    <tr>\n",
       "      <th>13</th>\n",
       "      <td>1.288052</td>\n",
       "      <td>-0.745468</td>\n",
       "      <td>-0.084383</td>\n",
       "    </tr>\n",
       "    <tr>\n",
       "      <th>14</th>\n",
       "      <td>0.898373</td>\n",
       "      <td>0.737381</td>\n",
       "      <td>-0.603305</td>\n",
       "    </tr>\n",
       "    <tr>\n",
       "      <th>15</th>\n",
       "      <td>0.021726</td>\n",
       "      <td>-1.075966</td>\n",
       "      <td>2.478926</td>\n",
       "    </tr>\n",
       "    <tr>\n",
       "      <th>16</th>\n",
       "      <td>0.037722</td>\n",
       "      <td>1.730717</td>\n",
       "      <td>0.509116</td>\n",
       "    </tr>\n",
       "    <tr>\n",
       "      <th>17</th>\n",
       "      <td>1.266556</td>\n",
       "      <td>1.597435</td>\n",
       "      <td>-0.947602</td>\n",
       "    </tr>\n",
       "    <tr>\n",
       "      <th>18</th>\n",
       "      <td>-0.487010</td>\n",
       "      <td>1.019425</td>\n",
       "      <td>-1.595519</td>\n",
       "    </tr>\n",
       "    <tr>\n",
       "      <th>19</th>\n",
       "      <td>-0.371871</td>\n",
       "      <td>-0.076881</td>\n",
       "      <td>-0.406905</td>\n",
       "    </tr>\n",
       "    <tr>\n",
       "      <th>20</th>\n",
       "      <td>0.885168</td>\n",
       "      <td>1.484506</td>\n",
       "      <td>0.504318</td>\n",
       "    </tr>\n",
       "    <tr>\n",
       "      <th>21</th>\n",
       "      <td>1.565723</td>\n",
       "      <td>-0.679566</td>\n",
       "      <td>-0.383199</td>\n",
       "    </tr>\n",
       "    <tr>\n",
       "      <th>22</th>\n",
       "      <td>-0.548021</td>\n",
       "      <td>-3.406284</td>\n",
       "      <td>-1.112583</td>\n",
       "    </tr>\n",
       "    <tr>\n",
       "      <th>23</th>\n",
       "      <td>-0.308757</td>\n",
       "      <td>0.370648</td>\n",
       "      <td>-1.516904</td>\n",
       "    </tr>\n",
       "    <tr>\n",
       "      <th>24</th>\n",
       "      <td>-1.056791</td>\n",
       "      <td>0.516554</td>\n",
       "      <td>-0.167072</td>\n",
       "    </tr>\n",
       "    <tr>\n",
       "      <th>25</th>\n",
       "      <td>0.550842</td>\n",
       "      <td>0.387992</td>\n",
       "      <td>0.771594</td>\n",
       "    </tr>\n",
       "    <tr>\n",
       "      <th>26</th>\n",
       "      <td>0.321925</td>\n",
       "      <td>1.569165</td>\n",
       "      <td>-1.024612</td>\n",
       "    </tr>\n",
       "    <tr>\n",
       "      <th>27</th>\n",
       "      <td>0.736870</td>\n",
       "      <td>-1.172039</td>\n",
       "      <td>-0.451927</td>\n",
       "    </tr>\n",
       "    <tr>\n",
       "      <th>28</th>\n",
       "      <td>1.212018</td>\n",
       "      <td>-0.866973</td>\n",
       "      <td>-1.208125</td>\n",
       "    </tr>\n",
       "    <tr>\n",
       "      <th>29</th>\n",
       "      <td>-0.948226</td>\n",
       "      <td>-1.032819</td>\n",
       "      <td>-0.093462</td>\n",
       "    </tr>\n",
       "    <tr>\n",
       "      <th>...</th>\n",
       "      <td>...</td>\n",
       "      <td>...</td>\n",
       "      <td>...</td>\n",
       "    </tr>\n",
       "    <tr>\n",
       "      <th>970</th>\n",
       "      <td>1.881078</td>\n",
       "      <td>-0.781257</td>\n",
       "      <td>-2.361841</td>\n",
       "    </tr>\n",
       "    <tr>\n",
       "      <th>971</th>\n",
       "      <td>0.542197</td>\n",
       "      <td>-0.906827</td>\n",
       "      <td>0.047851</td>\n",
       "    </tr>\n",
       "    <tr>\n",
       "      <th>972</th>\n",
       "      <td>-0.040906</td>\n",
       "      <td>0.342534</td>\n",
       "      <td>0.141210</td>\n",
       "    </tr>\n",
       "    <tr>\n",
       "      <th>973</th>\n",
       "      <td>0.064292</td>\n",
       "      <td>0.818153</td>\n",
       "      <td>0.253456</td>\n",
       "    </tr>\n",
       "    <tr>\n",
       "      <th>974</th>\n",
       "      <td>-0.051890</td>\n",
       "      <td>2.050634</td>\n",
       "      <td>0.600088</td>\n",
       "    </tr>\n",
       "    <tr>\n",
       "      <th>975</th>\n",
       "      <td>-0.206901</td>\n",
       "      <td>-0.295143</td>\n",
       "      <td>-0.699548</td>\n",
       "    </tr>\n",
       "    <tr>\n",
       "      <th>976</th>\n",
       "      <td>-0.095685</td>\n",
       "      <td>1.010718</td>\n",
       "      <td>-0.351998</td>\n",
       "    </tr>\n",
       "    <tr>\n",
       "      <th>977</th>\n",
       "      <td>-0.963164</td>\n",
       "      <td>0.514926</td>\n",
       "      <td>1.307137</td>\n",
       "    </tr>\n",
       "    <tr>\n",
       "      <th>978</th>\n",
       "      <td>-0.331447</td>\n",
       "      <td>0.024692</td>\n",
       "      <td>0.987817</td>\n",
       "    </tr>\n",
       "    <tr>\n",
       "      <th>979</th>\n",
       "      <td>0.363296</td>\n",
       "      <td>0.055889</td>\n",
       "      <td>0.222069</td>\n",
       "    </tr>\n",
       "    <tr>\n",
       "      <th>980</th>\n",
       "      <td>-2.330593</td>\n",
       "      <td>-0.623006</td>\n",
       "      <td>0.740125</td>\n",
       "    </tr>\n",
       "    <tr>\n",
       "      <th>981</th>\n",
       "      <td>-1.709674</td>\n",
       "      <td>0.537182</td>\n",
       "      <td>-0.728226</td>\n",
       "    </tr>\n",
       "    <tr>\n",
       "      <th>982</th>\n",
       "      <td>-1.999581</td>\n",
       "      <td>1.024241</td>\n",
       "      <td>0.389662</td>\n",
       "    </tr>\n",
       "    <tr>\n",
       "      <th>983</th>\n",
       "      <td>-0.101936</td>\n",
       "      <td>-0.487496</td>\n",
       "      <td>1.349537</td>\n",
       "    </tr>\n",
       "    <tr>\n",
       "      <th>984</th>\n",
       "      <td>-0.960504</td>\n",
       "      <td>-1.075182</td>\n",
       "      <td>0.400736</td>\n",
       "    </tr>\n",
       "    <tr>\n",
       "      <th>985</th>\n",
       "      <td>-1.738227</td>\n",
       "      <td>-0.003839</td>\n",
       "      <td>2.204468</td>\n",
       "    </tr>\n",
       "    <tr>\n",
       "      <th>986</th>\n",
       "      <td>0.253496</td>\n",
       "      <td>-1.034156</td>\n",
       "      <td>-0.519874</td>\n",
       "    </tr>\n",
       "    <tr>\n",
       "      <th>987</th>\n",
       "      <td>-0.397488</td>\n",
       "      <td>-0.439153</td>\n",
       "      <td>-0.284092</td>\n",
       "    </tr>\n",
       "    <tr>\n",
       "      <th>988</th>\n",
       "      <td>1.839780</td>\n",
       "      <td>0.460715</td>\n",
       "      <td>-0.537275</td>\n",
       "    </tr>\n",
       "    <tr>\n",
       "      <th>989</th>\n",
       "      <td>-1.391903</td>\n",
       "      <td>-0.832412</td>\n",
       "      <td>-0.697537</td>\n",
       "    </tr>\n",
       "    <tr>\n",
       "      <th>990</th>\n",
       "      <td>0.111827</td>\n",
       "      <td>0.871810</td>\n",
       "      <td>-2.185444</td>\n",
       "    </tr>\n",
       "    <tr>\n",
       "      <th>991</th>\n",
       "      <td>-0.480684</td>\n",
       "      <td>0.179963</td>\n",
       "      <td>0.845224</td>\n",
       "    </tr>\n",
       "    <tr>\n",
       "      <th>992</th>\n",
       "      <td>0.825410</td>\n",
       "      <td>-0.723115</td>\n",
       "      <td>0.932190</td>\n",
       "    </tr>\n",
       "    <tr>\n",
       "      <th>993</th>\n",
       "      <td>0.979648</td>\n",
       "      <td>0.758937</td>\n",
       "      <td>1.579080</td>\n",
       "    </tr>\n",
       "    <tr>\n",
       "      <th>994</th>\n",
       "      <td>1.652681</td>\n",
       "      <td>-1.966458</td>\n",
       "      <td>-0.437036</td>\n",
       "    </tr>\n",
       "    <tr>\n",
       "      <th>995</th>\n",
       "      <td>-1.078268</td>\n",
       "      <td>-0.203733</td>\n",
       "      <td>0.288298</td>\n",
       "    </tr>\n",
       "    <tr>\n",
       "      <th>996</th>\n",
       "      <td>0.217226</td>\n",
       "      <td>-0.209543</td>\n",
       "      <td>-0.128268</td>\n",
       "    </tr>\n",
       "    <tr>\n",
       "      <th>997</th>\n",
       "      <td>1.177620</td>\n",
       "      <td>0.471514</td>\n",
       "      <td>-1.479206</td>\n",
       "    </tr>\n",
       "    <tr>\n",
       "      <th>998</th>\n",
       "      <td>-0.416937</td>\n",
       "      <td>0.720835</td>\n",
       "      <td>1.069728</td>\n",
       "    </tr>\n",
       "    <tr>\n",
       "      <th>999</th>\n",
       "      <td>-2.292125</td>\n",
       "      <td>-0.042686</td>\n",
       "      <td>0.270454</td>\n",
       "    </tr>\n",
       "  </tbody>\n",
       "</table>\n",
       "<p>1000 rows × 3 columns</p>\n",
       "</div>"
      ],
      "text/plain": [
       "            A         B         C\n",
       "0    0.828127 -0.110294  0.035183\n",
       "1    1.027962 -0.060075 -0.458134\n",
       "2   -0.004339  0.005199 -0.842601\n",
       "3   -0.081081 -0.607193 -1.168593\n",
       "4    1.058312 -1.303463 -1.633475\n",
       "5    0.247164  0.706189 -0.499013\n",
       "6    0.835416 -1.240551 -0.705808\n",
       "7    0.922992 -1.361350 -2.774647\n",
       "8    0.442373 -1.421477 -1.532760\n",
       "9   -1.218626 -1.069070 -0.111141\n",
       "10  -0.539695  1.605281  1.009351\n",
       "11   0.652668 -0.779819 -0.300812\n",
       "12   1.248701  0.334853 -0.608131\n",
       "13   1.288052 -0.745468 -0.084383\n",
       "14   0.898373  0.737381 -0.603305\n",
       "15   0.021726 -1.075966  2.478926\n",
       "16   0.037722  1.730717  0.509116\n",
       "17   1.266556  1.597435 -0.947602\n",
       "18  -0.487010  1.019425 -1.595519\n",
       "19  -0.371871 -0.076881 -0.406905\n",
       "20   0.885168  1.484506  0.504318\n",
       "21   1.565723 -0.679566 -0.383199\n",
       "22  -0.548021 -3.406284 -1.112583\n",
       "23  -0.308757  0.370648 -1.516904\n",
       "24  -1.056791  0.516554 -0.167072\n",
       "25   0.550842  0.387992  0.771594\n",
       "26   0.321925  1.569165 -1.024612\n",
       "27   0.736870 -1.172039 -0.451927\n",
       "28   1.212018 -0.866973 -1.208125\n",
       "29  -0.948226 -1.032819 -0.093462\n",
       "..        ...       ...       ...\n",
       "970  1.881078 -0.781257 -2.361841\n",
       "971  0.542197 -0.906827  0.047851\n",
       "972 -0.040906  0.342534  0.141210\n",
       "973  0.064292  0.818153  0.253456\n",
       "974 -0.051890  2.050634  0.600088\n",
       "975 -0.206901 -0.295143 -0.699548\n",
       "976 -0.095685  1.010718 -0.351998\n",
       "977 -0.963164  0.514926  1.307137\n",
       "978 -0.331447  0.024692  0.987817\n",
       "979  0.363296  0.055889  0.222069\n",
       "980 -2.330593 -0.623006  0.740125\n",
       "981 -1.709674  0.537182 -0.728226\n",
       "982 -1.999581  1.024241  0.389662\n",
       "983 -0.101936 -0.487496  1.349537\n",
       "984 -0.960504 -1.075182  0.400736\n",
       "985 -1.738227 -0.003839  2.204468\n",
       "986  0.253496 -1.034156 -0.519874\n",
       "987 -0.397488 -0.439153 -0.284092\n",
       "988  1.839780  0.460715 -0.537275\n",
       "989 -1.391903 -0.832412 -0.697537\n",
       "990  0.111827  0.871810 -2.185444\n",
       "991 -0.480684  0.179963  0.845224\n",
       "992  0.825410 -0.723115  0.932190\n",
       "993  0.979648  0.758937  1.579080\n",
       "994  1.652681 -1.966458 -0.437036\n",
       "995 -1.078268 -0.203733  0.288298\n",
       "996  0.217226 -0.209543 -0.128268\n",
       "997  1.177620  0.471514 -1.479206\n",
       "998 -0.416937  0.720835  1.069728\n",
       "999 -2.292125 -0.042686  0.270454\n",
       "\n",
       "[1000 rows x 3 columns]"
      ]
     },
     "execution_count": 126,
     "metadata": {},
     "output_type": "execute_result"
    }
   ],
   "source": [
    "data_df=pd.DataFrame(np.random.randn(3000).reshape(1000,3),columns=['A','B','C'])\n",
    "data_df"
   ]
  },
  {
   "cell_type": "code",
   "execution_count": 130,
   "metadata": {
    "collapsed": true
   },
   "outputs": [
    {
     "data": {
      "text/plain": [
       "array([2, 2, 0, 1, 3, 3, 3, 0, 3, 3, 0, 0, 0, 3, 1, 3, 1, 3, 1, 3, 0, 2,\n",
       "       1, 2, 0, 1, 3, 0, 0, 1, 3, 0, 0, 0, 2, 3, 0, 2, 0, 3, 0, 1, 1, 0,\n",
       "       0, 0, 3, 0, 0, 1, 0, 1, 2, 0, 1, 1, 2, 3, 0, 1, 3, 2, 2, 2, 3, 0,\n",
       "       2, 3, 0, 3, 0, 2, 1, 0, 0, 1, 2, 0, 2, 1, 0, 2, 0, 0, 0, 0, 3, 1,\n",
       "       1, 2, 1, 2, 3, 3, 1, 2, 3, 0, 3, 1, 1, 2, 1, 1, 2, 1, 2, 2, 2, 0,\n",
       "       1, 3, 2, 0, 3, 2, 1, 0, 2, 0, 1, 2, 1, 1, 1, 3, 3, 3, 3, 3, 3, 2,\n",
       "       3, 2, 1, 1, 3, 0, 0, 1, 1, 1, 3, 0, 2, 0, 3, 0, 3, 1, 2, 3, 1, 0,\n",
       "       1, 3, 0, 1, 2, 1, 0, 1, 0, 2, 3, 0, 3, 1, 1, 2, 2, 1, 3, 2, 1, 1,\n",
       "       3, 2, 0, 1, 3, 2, 2, 3, 3, 3, 2, 2, 2, 3, 1, 0, 1, 0, 0, 2, 0, 2,\n",
       "       2, 2, 1, 2, 2, 0, 0, 1, 2, 1, 0, 0, 3, 2, 3, 3, 3, 3, 1, 0, 2, 3,\n",
       "       3, 0, 2, 3, 2, 1, 2, 2, 3, 0, 0, 0, 1, 3, 3, 2, 1, 0, 3, 1, 1, 3,\n",
       "       3, 0, 3, 3, 0, 2, 3, 0, 0, 0, 3, 3, 3, 3, 0, 1, 1, 0, 3, 0, 3, 3,\n",
       "       2, 2, 1, 0, 1, 2, 3, 2, 1, 0, 0, 3, 2, 3, 2, 1, 2, 1, 1, 1, 2, 3,\n",
       "       0, 3, 2, 2, 2, 2, 3, 2, 0, 0, 2, 1, 2, 2, 1, 3, 2, 0, 2, 2, 2, 2,\n",
       "       1, 1, 0, 3, 0, 3, 0, 3, 2, 0, 3, 1, 0, 2, 3, 0, 2, 3, 0, 2, 0, 1,\n",
       "       1, 3, 2, 3, 1, 1, 3, 3, 0, 1, 2, 2, 2, 1, 1, 1, 3, 3, 3, 1, 3, 3,\n",
       "       2, 3, 3, 3, 2, 0, 0, 0, 3, 0, 2, 2, 1, 1, 3, 1, 2, 2, 0, 2, 0, 3,\n",
       "       1, 1, 2, 0, 0, 3, 1, 2, 1, 3, 2, 1, 1, 3, 1, 1, 3, 1, 2, 1, 3, 0,\n",
       "       1, 2, 3, 1, 0, 1, 3, 0, 2, 3, 3, 2, 1, 3, 2, 0, 2, 3, 2, 1, 0, 2,\n",
       "       1, 3, 3, 1, 3, 3, 3, 2, 1, 0, 1, 2, 0, 0, 2, 2, 1, 1, 0, 0, 3, 0,\n",
       "       3, 0, 0, 1, 2, 2, 3, 2, 0, 3, 0, 0, 1, 3, 0, 2, 0, 1, 3, 1, 2, 0,\n",
       "       0, 1, 2, 1, 0, 0, 2, 3, 2, 1, 3, 2, 3, 0, 1, 3, 0, 0, 2, 2, 0, 2,\n",
       "       0, 1, 2, 0, 2, 0, 2, 0, 1, 0, 0, 1, 0, 0, 1, 1, 0, 3, 3, 1, 1, 3,\n",
       "       0, 0, 2, 0, 3, 0, 0, 2, 1, 3, 2, 0, 2, 2, 3, 0, 0, 2, 2, 0, 2, 3,\n",
       "       0, 3, 3, 0, 1, 0, 1, 2, 2, 1, 2, 3, 1, 3, 0, 0, 2, 3, 2, 2, 0, 1,\n",
       "       3, 3, 3, 3, 0, 2, 2, 0, 3, 2, 0, 3, 0, 2, 3, 3, 2, 1, 3, 2, 2, 1,\n",
       "       3, 2, 1, 1, 1, 3, 2, 2, 1, 3, 1, 2, 3, 2, 2, 0, 0, 2, 1, 1, 2, 2,\n",
       "       3, 0, 2, 0, 3, 3, 3, 0, 0, 3, 1, 2, 1, 3, 2, 3, 2, 3, 3, 3, 1, 3,\n",
       "       3, 3, 3, 1, 3, 1, 0, 1, 3, 3, 3, 3, 2, 3, 3, 0, 1, 0, 0, 3, 3, 1,\n",
       "       1, 0, 2, 3, 3, 0, 0, 1, 2, 3, 3, 0, 3, 1, 3, 3, 1, 2, 1, 1, 0, 0,\n",
       "       1, 1, 1, 0, 3, 1, 3, 0, 0, 0, 1, 3, 2, 1, 2, 3, 3, 3, 3, 1, 2, 3,\n",
       "       1, 3, 1, 1, 2, 1, 3, 2, 2, 3, 1, 0, 3, 1, 2, 1, 1, 3, 3, 2, 1, 3,\n",
       "       1, 1, 2, 3, 3, 0, 1, 0, 2, 0, 3, 0, 3, 1, 1, 1, 2, 0, 2, 3, 3, 1,\n",
       "       3, 3, 1, 1, 0, 3, 3, 2, 0, 1, 2, 0, 1, 1, 2, 2, 0, 3, 0, 2, 3, 0,\n",
       "       0, 3, 1, 0, 0, 3, 0, 0, 1, 2, 1, 2, 0, 0, 3, 3, 1, 3, 2, 3, 2, 3,\n",
       "       0, 0, 2, 3, 1, 1, 2, 0, 0, 3, 3, 3, 0, 1, 1, 1, 3, 2, 0, 2, 3, 1,\n",
       "       2, 1, 3, 1, 0, 0, 1, 2, 3, 2, 2, 1, 0, 2, 1, 3, 3, 0, 2, 2, 2, 2,\n",
       "       1, 1, 2, 0, 1, 2, 1, 3, 2, 1, 2, 0, 1, 0, 3, 0, 2, 3, 3, 1, 3, 2,\n",
       "       3, 0, 0, 0, 0, 1, 0, 0, 1, 1, 0, 1, 0, 3, 1, 0, 1, 1, 3, 1, 0, 3,\n",
       "       1, 2, 0, 3, 2, 3, 0, 3, 0, 2, 2, 1, 3, 0, 0, 1, 1, 3, 1, 2, 3, 1,\n",
       "       0, 2, 2, 1, 3, 3, 1, 2, 3, 0, 2, 2, 2, 0, 2, 3, 3, 2, 1, 0, 2, 0,\n",
       "       2, 2, 3, 3, 2, 3, 2, 3, 3, 1, 1, 1, 1, 1, 2, 2, 3, 3, 2, 0, 3, 3,\n",
       "       3, 3, 1, 0, 3, 2, 0, 2, 0, 3, 3, 3, 1, 0, 3, 1, 2, 2, 0, 0, 3, 3,\n",
       "       3, 3, 1, 3, 1, 1, 1, 1, 1, 1, 2, 0, 3, 0, 0, 3, 0, 0, 0, 2, 0, 0,\n",
       "       1, 0, 3, 2, 0, 1, 0, 1, 2, 3, 1, 1, 2, 0, 3, 1, 0, 2, 1, 2, 1, 2,\n",
       "       3, 3, 3, 0, 2, 1, 0, 2, 1, 1])"
      ]
     },
     "execution_count": 130,
     "metadata": {},
     "output_type": "execute_result"
    }
   ],
   "source": [
    "countries = np.array(['US', 'UK', 'GR', 'JP'])\n",
    "np.random.randint(0, 4, 1000)"
   ]
  },
  {
   "cell_type": "code",
   "execution_count": 141,
   "metadata": {
    "collapsed": true
   },
   "outputs": [
    {
     "data": {
      "text/plain": [
       "array(['US', 'GR', 'JP', 'US', 'GR', 'UK', 'US', 'GR', 'UK', 'GR', 'UK',\n",
       "       'GR', 'GR', 'UK', 'UK', 'US', 'US', 'JP', 'US', 'JP', 'GR', 'GR',\n",
       "       'US', 'JP', 'US', 'UK', 'JP', 'JP', 'JP', 'US', 'GR', 'UK', 'JP',\n",
       "       'UK', 'UK', 'US', 'GR', 'JP', 'JP', 'US', 'JP', 'UK', 'UK', 'JP',\n",
       "       'JP', 'JP', 'US', 'GR', 'US', 'US', 'US', 'JP', 'GR', 'JP', 'US',\n",
       "       'UK', 'US', 'JP', 'JP', 'GR', 'UK', 'GR', 'GR', 'JP', 'GR', 'GR',\n",
       "       'GR', 'GR', 'GR', 'UK', 'JP', 'US', 'UK', 'UK', 'US', 'JP', 'JP',\n",
       "       'UK', 'US', 'US', 'US', 'US', 'US', 'UK', 'GR', 'UK', 'JP', 'US',\n",
       "       'GR', 'UK', 'GR', 'US', 'JP', 'JP', 'US', 'JP', 'US', 'US', 'GR',\n",
       "       'JP', 'GR', 'UK', 'US', 'JP', 'UK', 'JP', 'JP', 'GR', 'US', 'US',\n",
       "       'JP', 'GR', 'UK', 'JP', 'UK', 'GR', 'UK', 'GR', 'JP', 'GR', 'GR',\n",
       "       'JP', 'US', 'JP', 'US', 'UK', 'GR', 'JP', 'UK', 'JP', 'GR', 'UK',\n",
       "       'JP', 'JP', 'US', 'GR', 'US', 'US', 'JP', 'GR', 'GR', 'JP', 'US',\n",
       "       'US', 'US', 'US', 'US', 'JP', 'GR', 'UK', 'US', 'US', 'JP', 'JP',\n",
       "       'US', 'US', 'JP', 'GR', 'JP', 'JP', 'UK', 'UK', 'GR', 'US', 'UK',\n",
       "       'US', 'US', 'US', 'JP', 'UK', 'US', 'US', 'JP', 'UK', 'JP', 'UK',\n",
       "       'US', 'GR', 'UK', 'UK', 'GR', 'UK', 'GR', 'GR', 'JP', 'JP', 'UK',\n",
       "       'GR', 'US', 'JP', 'JP', 'UK', 'UK', 'UK', 'GR', 'US', 'US', 'JP',\n",
       "       'GR', 'JP', 'UK', 'JP', 'GR', 'UK', 'UK', 'UK', 'GR', 'JP', 'JP',\n",
       "       'GR', 'US', 'JP', 'US', 'US', 'GR', 'JP', 'JP', 'UK', 'JP', 'JP',\n",
       "       'GR', 'US', 'UK', 'GR', 'GR', 'US', 'UK', 'JP', 'GR', 'UK', 'GR',\n",
       "       'GR', 'GR', 'GR', 'US', 'GR', 'GR', 'JP', 'JP', 'GR', 'UK', 'GR',\n",
       "       'JP', 'US', 'JP', 'JP', 'GR', 'US', 'US', 'GR', 'GR', 'GR', 'UK',\n",
       "       'US', 'GR', 'JP', 'GR', 'UK', 'GR', 'GR', 'UK', 'GR', 'US', 'US',\n",
       "       'JP', 'US', 'JP', 'UK', 'JP', 'GR', 'UK', 'UK', 'JP', 'UK', 'US',\n",
       "       'UK', 'UK', 'JP', 'GR', 'UK', 'US', 'UK', 'GR', 'US', 'GR', 'GR',\n",
       "       'UK', 'UK', 'UK', 'GR', 'US', 'US', 'GR', 'JP', 'JP', 'JP', 'UK',\n",
       "       'GR', 'GR', 'JP', 'GR', 'JP', 'US', 'UK', 'JP', 'UK', 'UK', 'UK',\n",
       "       'JP', 'JP', 'UK', 'US', 'GR', 'JP', 'UK', 'GR', 'GR', 'GR', 'UK',\n",
       "       'GR', 'GR', 'UK', 'US', 'GR', 'GR', 'JP', 'GR', 'GR', 'GR', 'US',\n",
       "       'JP', 'GR', 'US', 'JP', 'US', 'JP', 'US', 'JP', 'US', 'US', 'GR',\n",
       "       'US', 'JP', 'US', 'JP', 'UK', 'GR', 'UK', 'UK', 'GR', 'US', 'US',\n",
       "       'UK', 'US', 'UK', 'US', 'GR', 'UK', 'GR', 'US', 'GR', 'US', 'US',\n",
       "       'US', 'JP', 'UK', 'UK', 'UK', 'US', 'US', 'UK', 'JP', 'GR', 'GR',\n",
       "       'GR', 'US', 'US', 'GR', 'GR', 'US', 'GR', 'US', 'UK', 'GR', 'JP',\n",
       "       'JP', 'JP', 'US', 'US', 'JP', 'US', 'JP', 'UK', 'US', 'GR', 'GR',\n",
       "       'US', 'JP', 'US', 'GR', 'GR', 'JP', 'US', 'JP', 'US', 'GR', 'US',\n",
       "       'US', 'GR', 'GR', 'UK', 'JP', 'GR', 'US', 'JP', 'UK', 'UK', 'GR',\n",
       "       'GR', 'US', 'JP', 'JP', 'US', 'JP', 'UK', 'UK', 'JP', 'JP', 'GR',\n",
       "       'JP', 'UK', 'UK', 'GR', 'US', 'UK', 'JP', 'US', 'UK', 'GR', 'GR',\n",
       "       'JP', 'GR', 'GR', 'JP', 'GR', 'US', 'UK', 'UK', 'US', 'US', 'UK',\n",
       "       'JP', 'GR', 'US', 'UK', 'US', 'US', 'US', 'GR', 'UK', 'US', 'JP',\n",
       "       'UK', 'UK', 'JP', 'JP', 'JP', 'JP', 'UK', 'UK', 'GR', 'US', 'JP',\n",
       "       'US', 'GR', 'GR', 'UK', 'GR', 'UK', 'US', 'UK', 'JP', 'GR', 'UK',\n",
       "       'JP', 'GR', 'GR', 'US', 'JP', 'JP', 'GR', 'JP', 'JP', 'US', 'JP',\n",
       "       'JP', 'GR', 'JP', 'GR', 'GR', 'GR', 'US', 'US', 'UK', 'US', 'UK',\n",
       "       'US', 'JP', 'US', 'GR', 'US', 'JP', 'JP', 'US', 'UK', 'UK', 'JP',\n",
       "       'UK', 'GR', 'GR', 'GR', 'UK', 'JP', 'US', 'UK', 'UK', 'UK', 'UK',\n",
       "       'UK', 'GR', 'UK', 'UK', 'US', 'GR', 'GR', 'US', 'US', 'JP', 'JP',\n",
       "       'UK', 'JP', 'JP', 'UK', 'UK', 'UK', 'JP', 'UK', 'UK', 'UK', 'US',\n",
       "       'UK', 'JP', 'US', 'US', 'US', 'US', 'UK', 'UK', 'JP', 'US', 'JP',\n",
       "       'UK', 'US', 'JP', 'JP', 'UK', 'UK', 'GR', 'GR', 'GR', 'US', 'US',\n",
       "       'GR', 'GR', 'JP', 'UK', 'GR', 'UK', 'US', 'US', 'UK', 'UK', 'UK',\n",
       "       'US', 'US', 'JP', 'GR', 'UK', 'JP', 'UK', 'UK', 'GR', 'UK', 'UK',\n",
       "       'GR', 'JP', 'US', 'JP', 'GR', 'US', 'JP', 'US', 'GR', 'UK', 'JP',\n",
       "       'GR', 'US', 'UK', 'UK', 'GR', 'JP', 'GR', 'GR', 'GR', 'US', 'UK',\n",
       "       'US', 'US', 'JP', 'GR', 'GR', 'GR', 'GR', 'UK', 'GR', 'GR', 'UK',\n",
       "       'JP', 'GR', 'JP', 'JP', 'US', 'UK', 'UK', 'UK', 'GR', 'US', 'GR',\n",
       "       'GR', 'JP', 'US', 'UK', 'UK', 'GR', 'US', 'US', 'GR', 'JP', 'GR',\n",
       "       'GR', 'GR', 'JP', 'US', 'UK', 'US', 'UK', 'UK', 'US', 'GR', 'UK',\n",
       "       'JP', 'US', 'GR', 'US', 'JP', 'UK', 'GR', 'US', 'JP', 'GR', 'UK',\n",
       "       'JP', 'US', 'UK', 'UK', 'GR', 'JP', 'GR', 'GR', 'US', 'UK', 'JP',\n",
       "       'GR', 'UK', 'US', 'GR', 'JP', 'US', 'UK', 'GR', 'UK', 'JP', 'US',\n",
       "       'GR', 'JP', 'GR', 'JP', 'US', 'GR', 'JP', 'JP', 'JP', 'GR', 'US',\n",
       "       'GR', 'US', 'JP', 'JP', 'GR', 'JP', 'JP', 'GR', 'GR', 'UK', 'JP',\n",
       "       'US', 'JP', 'GR', 'US', 'US', 'JP', 'US', 'US', 'JP', 'JP', 'GR',\n",
       "       'GR', 'GR', 'GR', 'GR', 'JP', 'GR', 'UK', 'GR', 'US', 'GR', 'UK',\n",
       "       'UK', 'GR', 'JP', 'US', 'JP', 'US', 'UK', 'GR', 'US', 'GR', 'GR',\n",
       "       'UK', 'US', 'UK', 'JP', 'GR', 'GR', 'GR', 'UK', 'US', 'UK', 'UK',\n",
       "       'GR', 'US', 'GR', 'UK', 'US', 'JP', 'GR', 'GR', 'GR', 'GR', 'JP',\n",
       "       'UK', 'UK', 'US', 'JP', 'UK', 'UK', 'UK', 'JP', 'US', 'UK', 'GR',\n",
       "       'US', 'US', 'UK', 'US', 'GR', 'US', 'JP', 'US', 'UK', 'UK', 'US',\n",
       "       'JP', 'GR', 'US', 'GR', 'JP', 'US', 'UK', 'JP', 'GR', 'JP', 'UK',\n",
       "       'JP', 'JP', 'JP', 'UK', 'US', 'UK', 'JP', 'GR', 'US', 'JP', 'UK',\n",
       "       'US', 'JP', 'US', 'GR', 'JP', 'US', 'GR', 'GR', 'GR', 'UK', 'GR',\n",
       "       'GR', 'JP', 'GR', 'GR', 'GR', 'JP', 'GR', 'US', 'JP', 'US', 'UK',\n",
       "       'GR', 'GR', 'UK', 'JP', 'GR', 'JP', 'UK', 'US', 'US', 'GR', 'JP',\n",
       "       'US', 'UK', 'UK', 'US', 'UK', 'US', 'JP', 'GR', 'UK', 'GR', 'US',\n",
       "       'GR', 'JP', 'GR', 'GR', 'GR', 'US', 'US', 'UK', 'GR', 'GR', 'US',\n",
       "       'JP', 'US', 'UK', 'US', 'GR', 'GR', 'GR', 'US', 'JP', 'JP', 'GR',\n",
       "       'JP', 'GR', 'GR', 'GR', 'UK', 'UK', 'GR', 'GR', 'JP', 'JP', 'US',\n",
       "       'US', 'US', 'UK', 'GR', 'UK', 'UK', 'US', 'GR', 'JP', 'UK', 'JP',\n",
       "       'JP', 'JP', 'GR', 'JP', 'GR', 'UK', 'JP', 'US', 'GR', 'JP', 'UK',\n",
       "       'JP', 'JP', 'UK', 'JP', 'GR', 'GR', 'GR', 'UK', 'UK', 'GR', 'US',\n",
       "       'US', 'UK', 'UK', 'GR', 'UK', 'GR', 'GR', 'GR', 'GR', 'UK', 'US',\n",
       "       'US', 'UK', 'US', 'UK', 'GR', 'GR', 'JP', 'GR', 'JP', 'UK', 'GR',\n",
       "       'GR', 'JP', 'US', 'GR', 'UK', 'GR', 'JP', 'GR', 'UK', 'JP', 'US',\n",
       "       'GR', 'UK', 'US', 'JP', 'UK', 'GR', 'US', 'JP', 'US', 'UK', 'UK',\n",
       "       'UK', 'JP', 'US', 'UK', 'JP', 'US', 'JP', 'UK', 'JP', 'GR', 'UK',\n",
       "       'JP', 'US', 'GR', 'US', 'US', 'UK', 'UK', 'JP', 'GR', 'JP', 'UK',\n",
       "       'GR', 'JP', 'GR', 'GR', 'UK', 'GR', 'JP', 'JP', 'US', 'GR'],\n",
       "      dtype='<U2')"
      ]
     },
     "execution_count": 141,
     "metadata": {},
     "output_type": "execute_result"
    }
   ],
   "source": [
    "key = countries[np.random.randint(0, 4, 1000)]\n",
    "key"
   ]
  },
  {
   "cell_type": "code",
   "execution_count": 140,
   "metadata": {
    "collapsed": false
   },
   "outputs": [
    {
     "data": {
      "text/plain": [
       "{'GR': Int64Index([  5,  18,  26,  32,  33,  38,  45,  51,  56,  60,\n",
       "             ...\n",
       "             945, 949, 950, 961, 964, 973, 974, 979, 985, 994],\n",
       "            dtype='int64', length=235),\n",
       " 'JP': Int64Index([  1,   3,   6,  10,  11,  13,  20,  23,  27,  36,\n",
       "             ...\n",
       "             958, 975, 978, 980, 983, 986, 987, 988, 990, 998],\n",
       "            dtype='int64', length=251),\n",
       " 'UK': Int64Index([  4,   7,   8,   9,  14,  16,  17,  19,  21,  30,\n",
       "             ...\n",
       "             952, 960, 962, 963, 968, 972, 981, 982, 984, 993],\n",
       "            dtype='int64', length=250),\n",
       " 'US': Int64Index([  0,   2,  12,  15,  22,  24,  25,  28,  29,  35,\n",
       "             ...\n",
       "             971, 976, 977, 989, 991, 992, 995, 996, 997, 999],\n",
       "            dtype='int64', length=264)}"
      ]
     },
     "execution_count": 140,
     "metadata": {},
     "output_type": "execute_result"
    }
   ],
   "source": [
    "grouped = data_df.groupby(key)\n",
    "grouped.groups"
   ]
  },
  {
   "cell_type": "markdown",
   "metadata": {},
   "source": [
    "表示将data_df随机分成四类，这四类为countries"
   ]
  },
  {
   "cell_type": "code",
   "execution_count": 121,
   "metadata": {
    "collapsed": false
   },
   "outputs": [
    {
     "data": {
      "text/html": [
       "<div>\n",
       "<style scoped>\n",
       "    .dataframe tbody tr th:only-of-type {\n",
       "        vertical-align: middle;\n",
       "    }\n",
       "\n",
       "    .dataframe tbody tr th {\n",
       "        vertical-align: top;\n",
       "    }\n",
       "\n",
       "    .dataframe thead th {\n",
       "        text-align: right;\n",
       "    }\n",
       "</style>\n",
       "<table border=\"1\" class=\"dataframe\">\n",
       "  <thead>\n",
       "    <tr style=\"text-align: right;\">\n",
       "      <th></th>\n",
       "      <th>A</th>\n",
       "      <th>B</th>\n",
       "      <th>C</th>\n",
       "    </tr>\n",
       "  </thead>\n",
       "  <tbody>\n",
       "    <tr>\n",
       "      <th>GR</th>\n",
       "      <td>271</td>\n",
       "      <td>271</td>\n",
       "      <td>271</td>\n",
       "    </tr>\n",
       "    <tr>\n",
       "      <th>JP</th>\n",
       "      <td>256</td>\n",
       "      <td>256</td>\n",
       "      <td>256</td>\n",
       "    </tr>\n",
       "    <tr>\n",
       "      <th>UK</th>\n",
       "      <td>239</td>\n",
       "      <td>239</td>\n",
       "      <td>239</td>\n",
       "    </tr>\n",
       "    <tr>\n",
       "      <th>US</th>\n",
       "      <td>234</td>\n",
       "      <td>234</td>\n",
       "      <td>234</td>\n",
       "    </tr>\n",
       "  </tbody>\n",
       "</table>\n",
       "</div>"
      ],
      "text/plain": [
       "      A    B    C\n",
       "GR  271  271  271\n",
       "JP  256  256  256\n",
       "UK  239  239  239\n",
       "US  234  234  234"
      ]
     },
     "execution_count": 121,
     "metadata": {},
     "output_type": "execute_result"
    }
   ],
   "source": [
    "grouped.count()"
   ]
  },
  {
   "cell_type": "code",
   "execution_count": 122,
   "metadata": {
    "collapsed": true
   },
   "outputs": [],
   "source": [
    "f = lambda x: x.fillna(x.mean())"
   ]
  },
  {
   "cell_type": "code",
   "execution_count": 144,
   "metadata": {
    "collapsed": true
   },
   "outputs": [
    {
     "data": {
      "text/html": [
       "<div>\n",
       "<style scoped>\n",
       "    .dataframe tbody tr th:only-of-type {\n",
       "        vertical-align: middle;\n",
       "    }\n",
       "\n",
       "    .dataframe tbody tr th {\n",
       "        vertical-align: top;\n",
       "    }\n",
       "\n",
       "    .dataframe thead th {\n",
       "        text-align: right;\n",
       "    }\n",
       "</style>\n",
       "<table border=\"1\" class=\"dataframe\">\n",
       "  <thead>\n",
       "    <tr style=\"text-align: right;\">\n",
       "      <th></th>\n",
       "      <th>A</th>\n",
       "      <th>B</th>\n",
       "      <th>C</th>\n",
       "    </tr>\n",
       "  </thead>\n",
       "  <tbody>\n",
       "    <tr>\n",
       "      <th>0</th>\n",
       "      <td>0.828127</td>\n",
       "      <td>-0.110294</td>\n",
       "      <td>0.035183</td>\n",
       "    </tr>\n",
       "    <tr>\n",
       "      <th>1</th>\n",
       "      <td>1.027962</td>\n",
       "      <td>-0.060075</td>\n",
       "      <td>-0.458134</td>\n",
       "    </tr>\n",
       "    <tr>\n",
       "      <th>2</th>\n",
       "      <td>-0.004339</td>\n",
       "      <td>0.005199</td>\n",
       "      <td>-0.842601</td>\n",
       "    </tr>\n",
       "    <tr>\n",
       "      <th>3</th>\n",
       "      <td>-0.081081</td>\n",
       "      <td>-0.607193</td>\n",
       "      <td>-1.168593</td>\n",
       "    </tr>\n",
       "    <tr>\n",
       "      <th>4</th>\n",
       "      <td>1.058312</td>\n",
       "      <td>-1.303463</td>\n",
       "      <td>-1.633475</td>\n",
       "    </tr>\n",
       "    <tr>\n",
       "      <th>5</th>\n",
       "      <td>0.247164</td>\n",
       "      <td>0.706189</td>\n",
       "      <td>-0.499013</td>\n",
       "    </tr>\n",
       "    <tr>\n",
       "      <th>6</th>\n",
       "      <td>0.835416</td>\n",
       "      <td>-1.240551</td>\n",
       "      <td>-0.705808</td>\n",
       "    </tr>\n",
       "    <tr>\n",
       "      <th>7</th>\n",
       "      <td>0.922992</td>\n",
       "      <td>-1.361350</td>\n",
       "      <td>-2.774647</td>\n",
       "    </tr>\n",
       "    <tr>\n",
       "      <th>8</th>\n",
       "      <td>0.442373</td>\n",
       "      <td>-1.421477</td>\n",
       "      <td>-1.532760</td>\n",
       "    </tr>\n",
       "    <tr>\n",
       "      <th>9</th>\n",
       "      <td>-1.218626</td>\n",
       "      <td>-1.069070</td>\n",
       "      <td>-0.111141</td>\n",
       "    </tr>\n",
       "    <tr>\n",
       "      <th>10</th>\n",
       "      <td>-0.539695</td>\n",
       "      <td>1.605281</td>\n",
       "      <td>1.009351</td>\n",
       "    </tr>\n",
       "    <tr>\n",
       "      <th>11</th>\n",
       "      <td>0.652668</td>\n",
       "      <td>-0.779819</td>\n",
       "      <td>-0.300812</td>\n",
       "    </tr>\n",
       "    <tr>\n",
       "      <th>12</th>\n",
       "      <td>1.248701</td>\n",
       "      <td>0.334853</td>\n",
       "      <td>-0.608131</td>\n",
       "    </tr>\n",
       "    <tr>\n",
       "      <th>13</th>\n",
       "      <td>1.288052</td>\n",
       "      <td>-0.745468</td>\n",
       "      <td>-0.084383</td>\n",
       "    </tr>\n",
       "    <tr>\n",
       "      <th>14</th>\n",
       "      <td>0.898373</td>\n",
       "      <td>0.737381</td>\n",
       "      <td>-0.603305</td>\n",
       "    </tr>\n",
       "    <tr>\n",
       "      <th>15</th>\n",
       "      <td>0.021726</td>\n",
       "      <td>-1.075966</td>\n",
       "      <td>2.478926</td>\n",
       "    </tr>\n",
       "    <tr>\n",
       "      <th>16</th>\n",
       "      <td>0.037722</td>\n",
       "      <td>1.730717</td>\n",
       "      <td>0.509116</td>\n",
       "    </tr>\n",
       "    <tr>\n",
       "      <th>17</th>\n",
       "      <td>1.266556</td>\n",
       "      <td>1.597435</td>\n",
       "      <td>-0.947602</td>\n",
       "    </tr>\n",
       "    <tr>\n",
       "      <th>18</th>\n",
       "      <td>-0.487010</td>\n",
       "      <td>1.019425</td>\n",
       "      <td>-1.595519</td>\n",
       "    </tr>\n",
       "    <tr>\n",
       "      <th>19</th>\n",
       "      <td>-0.371871</td>\n",
       "      <td>-0.076881</td>\n",
       "      <td>-0.406905</td>\n",
       "    </tr>\n",
       "    <tr>\n",
       "      <th>20</th>\n",
       "      <td>0.885168</td>\n",
       "      <td>1.484506</td>\n",
       "      <td>0.504318</td>\n",
       "    </tr>\n",
       "    <tr>\n",
       "      <th>21</th>\n",
       "      <td>1.565723</td>\n",
       "      <td>-0.679566</td>\n",
       "      <td>-0.383199</td>\n",
       "    </tr>\n",
       "    <tr>\n",
       "      <th>22</th>\n",
       "      <td>-0.548021</td>\n",
       "      <td>-3.406284</td>\n",
       "      <td>-1.112583</td>\n",
       "    </tr>\n",
       "    <tr>\n",
       "      <th>23</th>\n",
       "      <td>-0.308757</td>\n",
       "      <td>0.370648</td>\n",
       "      <td>-1.516904</td>\n",
       "    </tr>\n",
       "    <tr>\n",
       "      <th>24</th>\n",
       "      <td>-1.056791</td>\n",
       "      <td>0.516554</td>\n",
       "      <td>-0.167072</td>\n",
       "    </tr>\n",
       "    <tr>\n",
       "      <th>25</th>\n",
       "      <td>0.550842</td>\n",
       "      <td>0.387992</td>\n",
       "      <td>0.771594</td>\n",
       "    </tr>\n",
       "    <tr>\n",
       "      <th>26</th>\n",
       "      <td>0.321925</td>\n",
       "      <td>1.569165</td>\n",
       "      <td>-1.024612</td>\n",
       "    </tr>\n",
       "    <tr>\n",
       "      <th>27</th>\n",
       "      <td>0.736870</td>\n",
       "      <td>-1.172039</td>\n",
       "      <td>-0.451927</td>\n",
       "    </tr>\n",
       "    <tr>\n",
       "      <th>28</th>\n",
       "      <td>1.212018</td>\n",
       "      <td>-0.866973</td>\n",
       "      <td>-1.208125</td>\n",
       "    </tr>\n",
       "    <tr>\n",
       "      <th>29</th>\n",
       "      <td>-0.948226</td>\n",
       "      <td>-1.032819</td>\n",
       "      <td>-0.093462</td>\n",
       "    </tr>\n",
       "    <tr>\n",
       "      <th>...</th>\n",
       "      <td>...</td>\n",
       "      <td>...</td>\n",
       "      <td>...</td>\n",
       "    </tr>\n",
       "    <tr>\n",
       "      <th>970</th>\n",
       "      <td>1.881078</td>\n",
       "      <td>-0.781257</td>\n",
       "      <td>-2.361841</td>\n",
       "    </tr>\n",
       "    <tr>\n",
       "      <th>971</th>\n",
       "      <td>0.542197</td>\n",
       "      <td>-0.906827</td>\n",
       "      <td>0.047851</td>\n",
       "    </tr>\n",
       "    <tr>\n",
       "      <th>972</th>\n",
       "      <td>-0.040906</td>\n",
       "      <td>0.342534</td>\n",
       "      <td>0.141210</td>\n",
       "    </tr>\n",
       "    <tr>\n",
       "      <th>973</th>\n",
       "      <td>0.064292</td>\n",
       "      <td>0.818153</td>\n",
       "      <td>0.253456</td>\n",
       "    </tr>\n",
       "    <tr>\n",
       "      <th>974</th>\n",
       "      <td>-0.051890</td>\n",
       "      <td>2.050634</td>\n",
       "      <td>0.600088</td>\n",
       "    </tr>\n",
       "    <tr>\n",
       "      <th>975</th>\n",
       "      <td>-0.206901</td>\n",
       "      <td>-0.295143</td>\n",
       "      <td>-0.699548</td>\n",
       "    </tr>\n",
       "    <tr>\n",
       "      <th>976</th>\n",
       "      <td>-0.095685</td>\n",
       "      <td>1.010718</td>\n",
       "      <td>-0.351998</td>\n",
       "    </tr>\n",
       "    <tr>\n",
       "      <th>977</th>\n",
       "      <td>-0.963164</td>\n",
       "      <td>0.514926</td>\n",
       "      <td>1.307137</td>\n",
       "    </tr>\n",
       "    <tr>\n",
       "      <th>978</th>\n",
       "      <td>-0.331447</td>\n",
       "      <td>0.024692</td>\n",
       "      <td>0.987817</td>\n",
       "    </tr>\n",
       "    <tr>\n",
       "      <th>979</th>\n",
       "      <td>0.363296</td>\n",
       "      <td>0.055889</td>\n",
       "      <td>0.222069</td>\n",
       "    </tr>\n",
       "    <tr>\n",
       "      <th>980</th>\n",
       "      <td>-2.330593</td>\n",
       "      <td>-0.623006</td>\n",
       "      <td>0.740125</td>\n",
       "    </tr>\n",
       "    <tr>\n",
       "      <th>981</th>\n",
       "      <td>-1.709674</td>\n",
       "      <td>0.537182</td>\n",
       "      <td>-0.728226</td>\n",
       "    </tr>\n",
       "    <tr>\n",
       "      <th>982</th>\n",
       "      <td>-1.999581</td>\n",
       "      <td>1.024241</td>\n",
       "      <td>0.389662</td>\n",
       "    </tr>\n",
       "    <tr>\n",
       "      <th>983</th>\n",
       "      <td>-0.101936</td>\n",
       "      <td>-0.487496</td>\n",
       "      <td>1.349537</td>\n",
       "    </tr>\n",
       "    <tr>\n",
       "      <th>984</th>\n",
       "      <td>-0.960504</td>\n",
       "      <td>-1.075182</td>\n",
       "      <td>0.400736</td>\n",
       "    </tr>\n",
       "    <tr>\n",
       "      <th>985</th>\n",
       "      <td>-1.738227</td>\n",
       "      <td>-0.003839</td>\n",
       "      <td>2.204468</td>\n",
       "    </tr>\n",
       "    <tr>\n",
       "      <th>986</th>\n",
       "      <td>0.253496</td>\n",
       "      <td>-1.034156</td>\n",
       "      <td>-0.519874</td>\n",
       "    </tr>\n",
       "    <tr>\n",
       "      <th>987</th>\n",
       "      <td>-0.397488</td>\n",
       "      <td>-0.439153</td>\n",
       "      <td>-0.284092</td>\n",
       "    </tr>\n",
       "    <tr>\n",
       "      <th>988</th>\n",
       "      <td>1.839780</td>\n",
       "      <td>0.460715</td>\n",
       "      <td>-0.537275</td>\n",
       "    </tr>\n",
       "    <tr>\n",
       "      <th>989</th>\n",
       "      <td>-1.391903</td>\n",
       "      <td>-0.832412</td>\n",
       "      <td>-0.697537</td>\n",
       "    </tr>\n",
       "    <tr>\n",
       "      <th>990</th>\n",
       "      <td>0.111827</td>\n",
       "      <td>0.871810</td>\n",
       "      <td>-2.185444</td>\n",
       "    </tr>\n",
       "    <tr>\n",
       "      <th>991</th>\n",
       "      <td>-0.480684</td>\n",
       "      <td>0.179963</td>\n",
       "      <td>0.845224</td>\n",
       "    </tr>\n",
       "    <tr>\n",
       "      <th>992</th>\n",
       "      <td>0.825410</td>\n",
       "      <td>-0.723115</td>\n",
       "      <td>0.932190</td>\n",
       "    </tr>\n",
       "    <tr>\n",
       "      <th>993</th>\n",
       "      <td>0.979648</td>\n",
       "      <td>0.758937</td>\n",
       "      <td>1.579080</td>\n",
       "    </tr>\n",
       "    <tr>\n",
       "      <th>994</th>\n",
       "      <td>1.652681</td>\n",
       "      <td>-1.966458</td>\n",
       "      <td>-0.437036</td>\n",
       "    </tr>\n",
       "    <tr>\n",
       "      <th>995</th>\n",
       "      <td>-1.078268</td>\n",
       "      <td>-0.203733</td>\n",
       "      <td>0.288298</td>\n",
       "    </tr>\n",
       "    <tr>\n",
       "      <th>996</th>\n",
       "      <td>0.217226</td>\n",
       "      <td>-0.209543</td>\n",
       "      <td>-0.128268</td>\n",
       "    </tr>\n",
       "    <tr>\n",
       "      <th>997</th>\n",
       "      <td>1.177620</td>\n",
       "      <td>0.471514</td>\n",
       "      <td>-1.479206</td>\n",
       "    </tr>\n",
       "    <tr>\n",
       "      <th>998</th>\n",
       "      <td>-0.416937</td>\n",
       "      <td>0.720835</td>\n",
       "      <td>1.069728</td>\n",
       "    </tr>\n",
       "    <tr>\n",
       "      <th>999</th>\n",
       "      <td>-2.292125</td>\n",
       "      <td>-0.042686</td>\n",
       "      <td>0.270454</td>\n",
       "    </tr>\n",
       "  </tbody>\n",
       "</table>\n",
       "<p>1000 rows × 3 columns</p>\n",
       "</div>"
      ],
      "text/plain": [
       "            A         B         C\n",
       "0    0.828127 -0.110294  0.035183\n",
       "1    1.027962 -0.060075 -0.458134\n",
       "2   -0.004339  0.005199 -0.842601\n",
       "3   -0.081081 -0.607193 -1.168593\n",
       "4    1.058312 -1.303463 -1.633475\n",
       "5    0.247164  0.706189 -0.499013\n",
       "6    0.835416 -1.240551 -0.705808\n",
       "7    0.922992 -1.361350 -2.774647\n",
       "8    0.442373 -1.421477 -1.532760\n",
       "9   -1.218626 -1.069070 -0.111141\n",
       "10  -0.539695  1.605281  1.009351\n",
       "11   0.652668 -0.779819 -0.300812\n",
       "12   1.248701  0.334853 -0.608131\n",
       "13   1.288052 -0.745468 -0.084383\n",
       "14   0.898373  0.737381 -0.603305\n",
       "15   0.021726 -1.075966  2.478926\n",
       "16   0.037722  1.730717  0.509116\n",
       "17   1.266556  1.597435 -0.947602\n",
       "18  -0.487010  1.019425 -1.595519\n",
       "19  -0.371871 -0.076881 -0.406905\n",
       "20   0.885168  1.484506  0.504318\n",
       "21   1.565723 -0.679566 -0.383199\n",
       "22  -0.548021 -3.406284 -1.112583\n",
       "23  -0.308757  0.370648 -1.516904\n",
       "24  -1.056791  0.516554 -0.167072\n",
       "25   0.550842  0.387992  0.771594\n",
       "26   0.321925  1.569165 -1.024612\n",
       "27   0.736870 -1.172039 -0.451927\n",
       "28   1.212018 -0.866973 -1.208125\n",
       "29  -0.948226 -1.032819 -0.093462\n",
       "..        ...       ...       ...\n",
       "970  1.881078 -0.781257 -2.361841\n",
       "971  0.542197 -0.906827  0.047851\n",
       "972 -0.040906  0.342534  0.141210\n",
       "973  0.064292  0.818153  0.253456\n",
       "974 -0.051890  2.050634  0.600088\n",
       "975 -0.206901 -0.295143 -0.699548\n",
       "976 -0.095685  1.010718 -0.351998\n",
       "977 -0.963164  0.514926  1.307137\n",
       "978 -0.331447  0.024692  0.987817\n",
       "979  0.363296  0.055889  0.222069\n",
       "980 -2.330593 -0.623006  0.740125\n",
       "981 -1.709674  0.537182 -0.728226\n",
       "982 -1.999581  1.024241  0.389662\n",
       "983 -0.101936 -0.487496  1.349537\n",
       "984 -0.960504 -1.075182  0.400736\n",
       "985 -1.738227 -0.003839  2.204468\n",
       "986  0.253496 -1.034156 -0.519874\n",
       "987 -0.397488 -0.439153 -0.284092\n",
       "988  1.839780  0.460715 -0.537275\n",
       "989 -1.391903 -0.832412 -0.697537\n",
       "990  0.111827  0.871810 -2.185444\n",
       "991 -0.480684  0.179963  0.845224\n",
       "992  0.825410 -0.723115  0.932190\n",
       "993  0.979648  0.758937  1.579080\n",
       "994  1.652681 -1.966458 -0.437036\n",
       "995 -1.078268 -0.203733  0.288298\n",
       "996  0.217226 -0.209543 -0.128268\n",
       "997  1.177620  0.471514 -1.479206\n",
       "998 -0.416937  0.720835  1.069728\n",
       "999 -2.292125 -0.042686  0.270454\n",
       "\n",
       "[1000 rows x 3 columns]"
      ]
     },
     "execution_count": 144,
     "metadata": {},
     "output_type": "execute_result"
    }
   ],
   "source": [
    "transformed = grouped.transform(f)\n",
    "transformed"
   ]
  },
  {
   "cell_type": "markdown",
   "metadata": {},
   "source": [
    "显然，对grouped执行transform后返回的结果和原dataframe是同构的"
   ]
  },
  {
   "cell_type": "code",
   "execution_count": 145,
   "metadata": {
    "collapsed": true
   },
   "outputs": [],
   "source": [
    "grouped_trans = transformed.groupby(key)"
   ]
  },
  {
   "cell_type": "code",
   "execution_count": 146,
   "metadata": {
    "collapsed": false
   },
   "outputs": [
    {
     "data": {
      "text/html": [
       "<div>\n",
       "<style scoped>\n",
       "    .dataframe tbody tr th:only-of-type {\n",
       "        vertical-align: middle;\n",
       "    }\n",
       "\n",
       "    .dataframe tbody tr th {\n",
       "        vertical-align: top;\n",
       "    }\n",
       "\n",
       "    .dataframe thead th {\n",
       "        text-align: right;\n",
       "    }\n",
       "</style>\n",
       "<table border=\"1\" class=\"dataframe\">\n",
       "  <thead>\n",
       "    <tr style=\"text-align: right;\">\n",
       "      <th></th>\n",
       "      <th>A</th>\n",
       "      <th>B</th>\n",
       "      <th>C</th>\n",
       "    </tr>\n",
       "  </thead>\n",
       "  <tbody>\n",
       "    <tr>\n",
       "      <th>GR</th>\n",
       "      <td>-0.108906</td>\n",
       "      <td>0.024802</td>\n",
       "      <td>0.078695</td>\n",
       "    </tr>\n",
       "    <tr>\n",
       "      <th>JP</th>\n",
       "      <td>-0.051437</td>\n",
       "      <td>-0.070116</td>\n",
       "      <td>-0.013017</td>\n",
       "    </tr>\n",
       "    <tr>\n",
       "      <th>UK</th>\n",
       "      <td>-0.040967</td>\n",
       "      <td>0.042542</td>\n",
       "      <td>-0.029417</td>\n",
       "    </tr>\n",
       "    <tr>\n",
       "      <th>US</th>\n",
       "      <td>-0.045908</td>\n",
       "      <td>0.014057</td>\n",
       "      <td>-0.026218</td>\n",
       "    </tr>\n",
       "  </tbody>\n",
       "</table>\n",
       "</div>"
      ],
      "text/plain": [
       "           A         B         C\n",
       "GR -0.108906  0.024802  0.078695\n",
       "JP -0.051437 -0.070116 -0.013017\n",
       "UK -0.040967  0.042542 -0.029417\n",
       "US -0.045908  0.014057 -0.026218"
      ]
     },
     "execution_count": 146,
     "metadata": {},
     "output_type": "execute_result"
    }
   ],
   "source": [
    "grouped.mean()"
   ]
  },
  {
   "cell_type": "code",
   "execution_count": 147,
   "metadata": {
    "collapsed": false
   },
   "outputs": [
    {
     "data": {
      "text/html": [
       "<div>\n",
       "<style scoped>\n",
       "    .dataframe tbody tr th:only-of-type {\n",
       "        vertical-align: middle;\n",
       "    }\n",
       "\n",
       "    .dataframe tbody tr th {\n",
       "        vertical-align: top;\n",
       "    }\n",
       "\n",
       "    .dataframe thead th {\n",
       "        text-align: right;\n",
       "    }\n",
       "</style>\n",
       "<table border=\"1\" class=\"dataframe\">\n",
       "  <thead>\n",
       "    <tr style=\"text-align: right;\">\n",
       "      <th></th>\n",
       "      <th>A</th>\n",
       "      <th>B</th>\n",
       "      <th>C</th>\n",
       "    </tr>\n",
       "  </thead>\n",
       "  <tbody>\n",
       "    <tr>\n",
       "      <th>GR</th>\n",
       "      <td>-0.083690</td>\n",
       "      <td>-0.037037</td>\n",
       "      <td>0.044591</td>\n",
       "    </tr>\n",
       "    <tr>\n",
       "      <th>JP</th>\n",
       "      <td>0.019203</td>\n",
       "      <td>0.054376</td>\n",
       "      <td>0.009359</td>\n",
       "    </tr>\n",
       "    <tr>\n",
       "      <th>UK</th>\n",
       "      <td>-0.052340</td>\n",
       "      <td>-0.055207</td>\n",
       "      <td>-0.075634</td>\n",
       "    </tr>\n",
       "    <tr>\n",
       "      <th>US</th>\n",
       "      <td>-0.122903</td>\n",
       "      <td>0.053557</td>\n",
       "      <td>0.015501</td>\n",
       "    </tr>\n",
       "  </tbody>\n",
       "</table>\n",
       "</div>"
      ],
      "text/plain": [
       "           A         B         C\n",
       "GR -0.083690 -0.037037  0.044591\n",
       "JP  0.019203  0.054376  0.009359\n",
       "UK -0.052340 -0.055207 -0.075634\n",
       "US -0.122903  0.053557  0.015501"
      ]
     },
     "execution_count": 147,
     "metadata": {},
     "output_type": "execute_result"
    }
   ],
   "source": [
    "grouped_trans.mean()"
   ]
  },
  {
   "cell_type": "code",
   "execution_count": 148,
   "metadata": {
    "collapsed": false
   },
   "outputs": [
    {
     "data": {
      "text/html": [
       "<div>\n",
       "<style scoped>\n",
       "    .dataframe tbody tr th:only-of-type {\n",
       "        vertical-align: middle;\n",
       "    }\n",
       "\n",
       "    .dataframe tbody tr th {\n",
       "        vertical-align: top;\n",
       "    }\n",
       "\n",
       "    .dataframe thead th {\n",
       "        text-align: right;\n",
       "    }\n",
       "</style>\n",
       "<table border=\"1\" class=\"dataframe\">\n",
       "  <thead>\n",
       "    <tr style=\"text-align: right;\">\n",
       "      <th></th>\n",
       "      <th>A</th>\n",
       "      <th>B</th>\n",
       "      <th>C</th>\n",
       "    </tr>\n",
       "  </thead>\n",
       "  <tbody>\n",
       "    <tr>\n",
       "      <th>GR</th>\n",
       "      <td>235</td>\n",
       "      <td>235</td>\n",
       "      <td>235</td>\n",
       "    </tr>\n",
       "    <tr>\n",
       "      <th>JP</th>\n",
       "      <td>251</td>\n",
       "      <td>251</td>\n",
       "      <td>251</td>\n",
       "    </tr>\n",
       "    <tr>\n",
       "      <th>UK</th>\n",
       "      <td>250</td>\n",
       "      <td>250</td>\n",
       "      <td>250</td>\n",
       "    </tr>\n",
       "    <tr>\n",
       "      <th>US</th>\n",
       "      <td>264</td>\n",
       "      <td>264</td>\n",
       "      <td>264</td>\n",
       "    </tr>\n",
       "  </tbody>\n",
       "</table>\n",
       "</div>"
      ],
      "text/plain": [
       "      A    B    C\n",
       "GR  235  235  235\n",
       "JP  251  251  251\n",
       "UK  250  250  250\n",
       "US  264  264  264"
      ]
     },
     "execution_count": 148,
     "metadata": {},
     "output_type": "execute_result"
    }
   ],
   "source": [
    "grouped.count()"
   ]
  },
  {
   "cell_type": "code",
   "execution_count": 149,
   "metadata": {
    "collapsed": false
   },
   "outputs": [
    {
     "data": {
      "text/html": [
       "<div>\n",
       "<style scoped>\n",
       "    .dataframe tbody tr th:only-of-type {\n",
       "        vertical-align: middle;\n",
       "    }\n",
       "\n",
       "    .dataframe tbody tr th {\n",
       "        vertical-align: top;\n",
       "    }\n",
       "\n",
       "    .dataframe thead th {\n",
       "        text-align: right;\n",
       "    }\n",
       "</style>\n",
       "<table border=\"1\" class=\"dataframe\">\n",
       "  <thead>\n",
       "    <tr style=\"text-align: right;\">\n",
       "      <th></th>\n",
       "      <th>A</th>\n",
       "      <th>B</th>\n",
       "      <th>C</th>\n",
       "    </tr>\n",
       "  </thead>\n",
       "  <tbody>\n",
       "    <tr>\n",
       "      <th>GR</th>\n",
       "      <td>284</td>\n",
       "      <td>284</td>\n",
       "      <td>284</td>\n",
       "    </tr>\n",
       "    <tr>\n",
       "      <th>JP</th>\n",
       "      <td>242</td>\n",
       "      <td>242</td>\n",
       "      <td>242</td>\n",
       "    </tr>\n",
       "    <tr>\n",
       "      <th>UK</th>\n",
       "      <td>234</td>\n",
       "      <td>234</td>\n",
       "      <td>234</td>\n",
       "    </tr>\n",
       "    <tr>\n",
       "      <th>US</th>\n",
       "      <td>240</td>\n",
       "      <td>240</td>\n",
       "      <td>240</td>\n",
       "    </tr>\n",
       "  </tbody>\n",
       "</table>\n",
       "</div>"
      ],
      "text/plain": [
       "      A    B    C\n",
       "GR  284  284  284\n",
       "JP  242  242  242\n",
       "UK  234  234  234\n",
       "US  240  240  240"
      ]
     },
     "execution_count": 149,
     "metadata": {},
     "output_type": "execute_result"
    }
   ],
   "source": [
    "grouped_trans.count()"
   ]
  },
  {
   "cell_type": "code",
   "execution_count": 150,
   "metadata": {
    "collapsed": false
   },
   "outputs": [
    {
     "data": {
      "text/plain": [
       "GR    284\n",
       "JP    242\n",
       "UK    234\n",
       "US    240\n",
       "dtype: int64"
      ]
     },
     "execution_count": 150,
     "metadata": {},
     "output_type": "execute_result"
    }
   ],
   "source": [
    "grouped_trans.size()"
   ]
  },
  {
   "cell_type": "code",
   "execution_count": 151,
   "metadata": {
    "collapsed": true
   },
   "outputs": [
    {
     "data": {
      "text/html": [
       "<div>\n",
       "<style scoped>\n",
       "    .dataframe tbody tr th:only-of-type {\n",
       "        vertical-align: middle;\n",
       "    }\n",
       "\n",
       "    .dataframe tbody tr th {\n",
       "        vertical-align: top;\n",
       "    }\n",
       "\n",
       "    .dataframe thead th {\n",
       "        text-align: right;\n",
       "    }\n",
       "</style>\n",
       "<table border=\"1\" class=\"dataframe\">\n",
       "  <thead>\n",
       "    <tr style=\"text-align: right;\">\n",
       "      <th></th>\n",
       "      <th>None</th>\n",
       "      <th>A</th>\n",
       "      <th>B</th>\n",
       "      <th>C</th>\n",
       "    </tr>\n",
       "  </thead>\n",
       "  <tbody>\n",
       "    <tr>\n",
       "      <th>0</th>\n",
       "      <td>US</td>\n",
       "      <td>0.828127</td>\n",
       "      <td>-0.110294</td>\n",
       "      <td>0.035183</td>\n",
       "    </tr>\n",
       "    <tr>\n",
       "      <th>1</th>\n",
       "      <td>JP</td>\n",
       "      <td>1.027962</td>\n",
       "      <td>-0.060075</td>\n",
       "      <td>-0.458134</td>\n",
       "    </tr>\n",
       "    <tr>\n",
       "      <th>2</th>\n",
       "      <td>US</td>\n",
       "      <td>-0.004339</td>\n",
       "      <td>0.005199</td>\n",
       "      <td>-0.842601</td>\n",
       "    </tr>\n",
       "    <tr>\n",
       "      <th>3</th>\n",
       "      <td>JP</td>\n",
       "      <td>-0.081081</td>\n",
       "      <td>-0.607193</td>\n",
       "      <td>-1.168593</td>\n",
       "    </tr>\n",
       "    <tr>\n",
       "      <th>4</th>\n",
       "      <td>UK</td>\n",
       "      <td>1.058312</td>\n",
       "      <td>-1.303463</td>\n",
       "      <td>-1.633475</td>\n",
       "    </tr>\n",
       "    <tr>\n",
       "      <th>5</th>\n",
       "      <td>GR</td>\n",
       "      <td>0.247164</td>\n",
       "      <td>0.706189</td>\n",
       "      <td>-0.499013</td>\n",
       "    </tr>\n",
       "    <tr>\n",
       "      <th>6</th>\n",
       "      <td>JP</td>\n",
       "      <td>0.835416</td>\n",
       "      <td>-1.240551</td>\n",
       "      <td>-0.705808</td>\n",
       "    </tr>\n",
       "    <tr>\n",
       "      <th>7</th>\n",
       "      <td>UK</td>\n",
       "      <td>0.922992</td>\n",
       "      <td>-1.361350</td>\n",
       "      <td>-2.774647</td>\n",
       "    </tr>\n",
       "    <tr>\n",
       "      <th>8</th>\n",
       "      <td>UK</td>\n",
       "      <td>0.442373</td>\n",
       "      <td>-1.421477</td>\n",
       "      <td>-1.532760</td>\n",
       "    </tr>\n",
       "    <tr>\n",
       "      <th>9</th>\n",
       "      <td>UK</td>\n",
       "      <td>-1.218626</td>\n",
       "      <td>-1.069070</td>\n",
       "      <td>-0.111141</td>\n",
       "    </tr>\n",
       "    <tr>\n",
       "      <th>10</th>\n",
       "      <td>JP</td>\n",
       "      <td>-0.539695</td>\n",
       "      <td>1.605281</td>\n",
       "      <td>1.009351</td>\n",
       "    </tr>\n",
       "    <tr>\n",
       "      <th>11</th>\n",
       "      <td>JP</td>\n",
       "      <td>0.652668</td>\n",
       "      <td>-0.779819</td>\n",
       "      <td>-0.300812</td>\n",
       "    </tr>\n",
       "    <tr>\n",
       "      <th>12</th>\n",
       "      <td>US</td>\n",
       "      <td>1.248701</td>\n",
       "      <td>0.334853</td>\n",
       "      <td>-0.608131</td>\n",
       "    </tr>\n",
       "    <tr>\n",
       "      <th>13</th>\n",
       "      <td>JP</td>\n",
       "      <td>1.288052</td>\n",
       "      <td>-0.745468</td>\n",
       "      <td>-0.084383</td>\n",
       "    </tr>\n",
       "    <tr>\n",
       "      <th>14</th>\n",
       "      <td>UK</td>\n",
       "      <td>0.898373</td>\n",
       "      <td>0.737381</td>\n",
       "      <td>-0.603305</td>\n",
       "    </tr>\n",
       "    <tr>\n",
       "      <th>15</th>\n",
       "      <td>US</td>\n",
       "      <td>0.021726</td>\n",
       "      <td>-1.075966</td>\n",
       "      <td>2.478926</td>\n",
       "    </tr>\n",
       "    <tr>\n",
       "      <th>16</th>\n",
       "      <td>UK</td>\n",
       "      <td>0.037722</td>\n",
       "      <td>1.730717</td>\n",
       "      <td>0.509116</td>\n",
       "    </tr>\n",
       "    <tr>\n",
       "      <th>17</th>\n",
       "      <td>UK</td>\n",
       "      <td>1.266556</td>\n",
       "      <td>1.597435</td>\n",
       "      <td>-0.947602</td>\n",
       "    </tr>\n",
       "    <tr>\n",
       "      <th>18</th>\n",
       "      <td>GR</td>\n",
       "      <td>-0.487010</td>\n",
       "      <td>1.019425</td>\n",
       "      <td>-1.595519</td>\n",
       "    </tr>\n",
       "    <tr>\n",
       "      <th>19</th>\n",
       "      <td>UK</td>\n",
       "      <td>-0.371871</td>\n",
       "      <td>-0.076881</td>\n",
       "      <td>-0.406905</td>\n",
       "    </tr>\n",
       "    <tr>\n",
       "      <th>20</th>\n",
       "      <td>JP</td>\n",
       "      <td>0.885168</td>\n",
       "      <td>1.484506</td>\n",
       "      <td>0.504318</td>\n",
       "    </tr>\n",
       "    <tr>\n",
       "      <th>21</th>\n",
       "      <td>UK</td>\n",
       "      <td>1.565723</td>\n",
       "      <td>-0.679566</td>\n",
       "      <td>-0.383199</td>\n",
       "    </tr>\n",
       "    <tr>\n",
       "      <th>22</th>\n",
       "      <td>US</td>\n",
       "      <td>-0.548021</td>\n",
       "      <td>-3.406284</td>\n",
       "      <td>-1.112583</td>\n",
       "    </tr>\n",
       "    <tr>\n",
       "      <th>23</th>\n",
       "      <td>JP</td>\n",
       "      <td>-0.308757</td>\n",
       "      <td>0.370648</td>\n",
       "      <td>-1.516904</td>\n",
       "    </tr>\n",
       "    <tr>\n",
       "      <th>24</th>\n",
       "      <td>US</td>\n",
       "      <td>-1.056791</td>\n",
       "      <td>0.516554</td>\n",
       "      <td>-0.167072</td>\n",
       "    </tr>\n",
       "    <tr>\n",
       "      <th>25</th>\n",
       "      <td>US</td>\n",
       "      <td>0.550842</td>\n",
       "      <td>0.387992</td>\n",
       "      <td>0.771594</td>\n",
       "    </tr>\n",
       "    <tr>\n",
       "      <th>26</th>\n",
       "      <td>GR</td>\n",
       "      <td>0.321925</td>\n",
       "      <td>1.569165</td>\n",
       "      <td>-1.024612</td>\n",
       "    </tr>\n",
       "    <tr>\n",
       "      <th>27</th>\n",
       "      <td>JP</td>\n",
       "      <td>0.736870</td>\n",
       "      <td>-1.172039</td>\n",
       "      <td>-0.451927</td>\n",
       "    </tr>\n",
       "    <tr>\n",
       "      <th>28</th>\n",
       "      <td>US</td>\n",
       "      <td>1.212018</td>\n",
       "      <td>-0.866973</td>\n",
       "      <td>-1.208125</td>\n",
       "    </tr>\n",
       "    <tr>\n",
       "      <th>29</th>\n",
       "      <td>US</td>\n",
       "      <td>-0.948226</td>\n",
       "      <td>-1.032819</td>\n",
       "      <td>-0.093462</td>\n",
       "    </tr>\n",
       "    <tr>\n",
       "      <th>...</th>\n",
       "      <td>...</td>\n",
       "      <td>...</td>\n",
       "      <td>...</td>\n",
       "      <td>...</td>\n",
       "    </tr>\n",
       "    <tr>\n",
       "      <th>970</th>\n",
       "      <td>US</td>\n",
       "      <td>1.881078</td>\n",
       "      <td>-0.781257</td>\n",
       "      <td>-2.361841</td>\n",
       "    </tr>\n",
       "    <tr>\n",
       "      <th>971</th>\n",
       "      <td>US</td>\n",
       "      <td>0.542197</td>\n",
       "      <td>-0.906827</td>\n",
       "      <td>0.047851</td>\n",
       "    </tr>\n",
       "    <tr>\n",
       "      <th>972</th>\n",
       "      <td>UK</td>\n",
       "      <td>-0.040906</td>\n",
       "      <td>0.342534</td>\n",
       "      <td>0.141210</td>\n",
       "    </tr>\n",
       "    <tr>\n",
       "      <th>973</th>\n",
       "      <td>GR</td>\n",
       "      <td>0.064292</td>\n",
       "      <td>0.818153</td>\n",
       "      <td>0.253456</td>\n",
       "    </tr>\n",
       "    <tr>\n",
       "      <th>974</th>\n",
       "      <td>GR</td>\n",
       "      <td>-0.051890</td>\n",
       "      <td>2.050634</td>\n",
       "      <td>0.600088</td>\n",
       "    </tr>\n",
       "    <tr>\n",
       "      <th>975</th>\n",
       "      <td>JP</td>\n",
       "      <td>-0.206901</td>\n",
       "      <td>-0.295143</td>\n",
       "      <td>-0.699548</td>\n",
       "    </tr>\n",
       "    <tr>\n",
       "      <th>976</th>\n",
       "      <td>US</td>\n",
       "      <td>-0.095685</td>\n",
       "      <td>1.010718</td>\n",
       "      <td>-0.351998</td>\n",
       "    </tr>\n",
       "    <tr>\n",
       "      <th>977</th>\n",
       "      <td>US</td>\n",
       "      <td>-0.963164</td>\n",
       "      <td>0.514926</td>\n",
       "      <td>1.307137</td>\n",
       "    </tr>\n",
       "    <tr>\n",
       "      <th>978</th>\n",
       "      <td>JP</td>\n",
       "      <td>-0.331447</td>\n",
       "      <td>0.024692</td>\n",
       "      <td>0.987817</td>\n",
       "    </tr>\n",
       "    <tr>\n",
       "      <th>979</th>\n",
       "      <td>GR</td>\n",
       "      <td>0.363296</td>\n",
       "      <td>0.055889</td>\n",
       "      <td>0.222069</td>\n",
       "    </tr>\n",
       "    <tr>\n",
       "      <th>980</th>\n",
       "      <td>JP</td>\n",
       "      <td>-2.330593</td>\n",
       "      <td>-0.623006</td>\n",
       "      <td>0.740125</td>\n",
       "    </tr>\n",
       "    <tr>\n",
       "      <th>981</th>\n",
       "      <td>UK</td>\n",
       "      <td>-1.709674</td>\n",
       "      <td>0.537182</td>\n",
       "      <td>-0.728226</td>\n",
       "    </tr>\n",
       "    <tr>\n",
       "      <th>982</th>\n",
       "      <td>UK</td>\n",
       "      <td>-1.999581</td>\n",
       "      <td>1.024241</td>\n",
       "      <td>0.389662</td>\n",
       "    </tr>\n",
       "    <tr>\n",
       "      <th>983</th>\n",
       "      <td>JP</td>\n",
       "      <td>-0.101936</td>\n",
       "      <td>-0.487496</td>\n",
       "      <td>1.349537</td>\n",
       "    </tr>\n",
       "    <tr>\n",
       "      <th>984</th>\n",
       "      <td>UK</td>\n",
       "      <td>-0.960504</td>\n",
       "      <td>-1.075182</td>\n",
       "      <td>0.400736</td>\n",
       "    </tr>\n",
       "    <tr>\n",
       "      <th>985</th>\n",
       "      <td>GR</td>\n",
       "      <td>-1.738227</td>\n",
       "      <td>-0.003839</td>\n",
       "      <td>2.204468</td>\n",
       "    </tr>\n",
       "    <tr>\n",
       "      <th>986</th>\n",
       "      <td>JP</td>\n",
       "      <td>0.253496</td>\n",
       "      <td>-1.034156</td>\n",
       "      <td>-0.519874</td>\n",
       "    </tr>\n",
       "    <tr>\n",
       "      <th>987</th>\n",
       "      <td>JP</td>\n",
       "      <td>-0.397488</td>\n",
       "      <td>-0.439153</td>\n",
       "      <td>-0.284092</td>\n",
       "    </tr>\n",
       "    <tr>\n",
       "      <th>988</th>\n",
       "      <td>JP</td>\n",
       "      <td>1.839780</td>\n",
       "      <td>0.460715</td>\n",
       "      <td>-0.537275</td>\n",
       "    </tr>\n",
       "    <tr>\n",
       "      <th>989</th>\n",
       "      <td>US</td>\n",
       "      <td>-1.391903</td>\n",
       "      <td>-0.832412</td>\n",
       "      <td>-0.697537</td>\n",
       "    </tr>\n",
       "    <tr>\n",
       "      <th>990</th>\n",
       "      <td>JP</td>\n",
       "      <td>0.111827</td>\n",
       "      <td>0.871810</td>\n",
       "      <td>-2.185444</td>\n",
       "    </tr>\n",
       "    <tr>\n",
       "      <th>991</th>\n",
       "      <td>US</td>\n",
       "      <td>-0.480684</td>\n",
       "      <td>0.179963</td>\n",
       "      <td>0.845224</td>\n",
       "    </tr>\n",
       "    <tr>\n",
       "      <th>992</th>\n",
       "      <td>US</td>\n",
       "      <td>0.825410</td>\n",
       "      <td>-0.723115</td>\n",
       "      <td>0.932190</td>\n",
       "    </tr>\n",
       "    <tr>\n",
       "      <th>993</th>\n",
       "      <td>UK</td>\n",
       "      <td>0.979648</td>\n",
       "      <td>0.758937</td>\n",
       "      <td>1.579080</td>\n",
       "    </tr>\n",
       "    <tr>\n",
       "      <th>994</th>\n",
       "      <td>GR</td>\n",
       "      <td>1.652681</td>\n",
       "      <td>-1.966458</td>\n",
       "      <td>-0.437036</td>\n",
       "    </tr>\n",
       "    <tr>\n",
       "      <th>995</th>\n",
       "      <td>US</td>\n",
       "      <td>-1.078268</td>\n",
       "      <td>-0.203733</td>\n",
       "      <td>0.288298</td>\n",
       "    </tr>\n",
       "    <tr>\n",
       "      <th>996</th>\n",
       "      <td>US</td>\n",
       "      <td>0.217226</td>\n",
       "      <td>-0.209543</td>\n",
       "      <td>-0.128268</td>\n",
       "    </tr>\n",
       "    <tr>\n",
       "      <th>997</th>\n",
       "      <td>US</td>\n",
       "      <td>1.177620</td>\n",
       "      <td>0.471514</td>\n",
       "      <td>-1.479206</td>\n",
       "    </tr>\n",
       "    <tr>\n",
       "      <th>998</th>\n",
       "      <td>JP</td>\n",
       "      <td>-0.416937</td>\n",
       "      <td>0.720835</td>\n",
       "      <td>1.069728</td>\n",
       "    </tr>\n",
       "    <tr>\n",
       "      <th>999</th>\n",
       "      <td>US</td>\n",
       "      <td>-2.292125</td>\n",
       "      <td>-0.042686</td>\n",
       "      <td>0.270454</td>\n",
       "    </tr>\n",
       "  </tbody>\n",
       "</table>\n",
       "<p>1000 rows × 4 columns</p>\n",
       "</div>"
      ],
      "text/plain": [
       "    NaN         A         B         C\n",
       "0    US  0.828127 -0.110294  0.035183\n",
       "1    JP  1.027962 -0.060075 -0.458134\n",
       "2    US -0.004339  0.005199 -0.842601\n",
       "3    JP -0.081081 -0.607193 -1.168593\n",
       "4    UK  1.058312 -1.303463 -1.633475\n",
       "5    GR  0.247164  0.706189 -0.499013\n",
       "6    JP  0.835416 -1.240551 -0.705808\n",
       "7    UK  0.922992 -1.361350 -2.774647\n",
       "8    UK  0.442373 -1.421477 -1.532760\n",
       "9    UK -1.218626 -1.069070 -0.111141\n",
       "10   JP -0.539695  1.605281  1.009351\n",
       "11   JP  0.652668 -0.779819 -0.300812\n",
       "12   US  1.248701  0.334853 -0.608131\n",
       "13   JP  1.288052 -0.745468 -0.084383\n",
       "14   UK  0.898373  0.737381 -0.603305\n",
       "15   US  0.021726 -1.075966  2.478926\n",
       "16   UK  0.037722  1.730717  0.509116\n",
       "17   UK  1.266556  1.597435 -0.947602\n",
       "18   GR -0.487010  1.019425 -1.595519\n",
       "19   UK -0.371871 -0.076881 -0.406905\n",
       "20   JP  0.885168  1.484506  0.504318\n",
       "21   UK  1.565723 -0.679566 -0.383199\n",
       "22   US -0.548021 -3.406284 -1.112583\n",
       "23   JP -0.308757  0.370648 -1.516904\n",
       "24   US -1.056791  0.516554 -0.167072\n",
       "25   US  0.550842  0.387992  0.771594\n",
       "26   GR  0.321925  1.569165 -1.024612\n",
       "27   JP  0.736870 -1.172039 -0.451927\n",
       "28   US  1.212018 -0.866973 -1.208125\n",
       "29   US -0.948226 -1.032819 -0.093462\n",
       "..   ..       ...       ...       ...\n",
       "970  US  1.881078 -0.781257 -2.361841\n",
       "971  US  0.542197 -0.906827  0.047851\n",
       "972  UK -0.040906  0.342534  0.141210\n",
       "973  GR  0.064292  0.818153  0.253456\n",
       "974  GR -0.051890  2.050634  0.600088\n",
       "975  JP -0.206901 -0.295143 -0.699548\n",
       "976  US -0.095685  1.010718 -0.351998\n",
       "977  US -0.963164  0.514926  1.307137\n",
       "978  JP -0.331447  0.024692  0.987817\n",
       "979  GR  0.363296  0.055889  0.222069\n",
       "980  JP -2.330593 -0.623006  0.740125\n",
       "981  UK -1.709674  0.537182 -0.728226\n",
       "982  UK -1.999581  1.024241  0.389662\n",
       "983  JP -0.101936 -0.487496  1.349537\n",
       "984  UK -0.960504 -1.075182  0.400736\n",
       "985  GR -1.738227 -0.003839  2.204468\n",
       "986  JP  0.253496 -1.034156 -0.519874\n",
       "987  JP -0.397488 -0.439153 -0.284092\n",
       "988  JP  1.839780  0.460715 -0.537275\n",
       "989  US -1.391903 -0.832412 -0.697537\n",
       "990  JP  0.111827  0.871810 -2.185444\n",
       "991  US -0.480684  0.179963  0.845224\n",
       "992  US  0.825410 -0.723115  0.932190\n",
       "993  UK  0.979648  0.758937  1.579080\n",
       "994  GR  1.652681 -1.966458 -0.437036\n",
       "995  US -1.078268 -0.203733  0.288298\n",
       "996  US  0.217226 -0.209543 -0.128268\n",
       "997  US  1.177620  0.471514 -1.479206\n",
       "998  JP -0.416937  0.720835  1.069728\n",
       "999  US -2.292125 -0.042686  0.270454\n",
       "\n",
       "[1000 rows x 4 columns]"
      ]
     },
     "execution_count": 151,
     "metadata": {},
     "output_type": "execute_result"
    }
   ],
   "source": [
    "grouped.ffill()"
   ]
  },
  {
   "cell_type": "markdown",
   "metadata": {},
   "source": [
    "## 16.5.1 New syntax to window and resample operations"
   ]
  },
  {
   "cell_type": "code",
   "execution_count": 17,
   "metadata": {
    "collapsed": false,
    "scrolled": true
   },
   "outputs": [
    {
     "data": {
      "text/html": [
       "<div>\n",
       "<style scoped>\n",
       "    .dataframe tbody tr th:only-of-type {\n",
       "        vertical-align: middle;\n",
       "    }\n",
       "\n",
       "    .dataframe tbody tr th {\n",
       "        vertical-align: top;\n",
       "    }\n",
       "\n",
       "    .dataframe thead th {\n",
       "        text-align: right;\n",
       "    }\n",
       "</style>\n",
       "<table border=\"1\" class=\"dataframe\">\n",
       "  <thead>\n",
       "    <tr style=\"text-align: right;\">\n",
       "      <th></th>\n",
       "      <th>A</th>\n",
       "      <th>B</th>\n",
       "    </tr>\n",
       "  </thead>\n",
       "  <tbody>\n",
       "    <tr>\n",
       "      <th>0</th>\n",
       "      <td>1</td>\n",
       "      <td>0</td>\n",
       "    </tr>\n",
       "    <tr>\n",
       "      <th>1</th>\n",
       "      <td>1</td>\n",
       "      <td>1</td>\n",
       "    </tr>\n",
       "    <tr>\n",
       "      <th>2</th>\n",
       "      <td>1</td>\n",
       "      <td>2</td>\n",
       "    </tr>\n",
       "    <tr>\n",
       "      <th>3</th>\n",
       "      <td>1</td>\n",
       "      <td>3</td>\n",
       "    </tr>\n",
       "    <tr>\n",
       "      <th>4</th>\n",
       "      <td>1</td>\n",
       "      <td>4</td>\n",
       "    </tr>\n",
       "    <tr>\n",
       "      <th>5</th>\n",
       "      <td>1</td>\n",
       "      <td>5</td>\n",
       "    </tr>\n",
       "    <tr>\n",
       "      <th>6</th>\n",
       "      <td>1</td>\n",
       "      <td>6</td>\n",
       "    </tr>\n",
       "    <tr>\n",
       "      <th>7</th>\n",
       "      <td>1</td>\n",
       "      <td>7</td>\n",
       "    </tr>\n",
       "    <tr>\n",
       "      <th>8</th>\n",
       "      <td>1</td>\n",
       "      <td>8</td>\n",
       "    </tr>\n",
       "    <tr>\n",
       "      <th>9</th>\n",
       "      <td>1</td>\n",
       "      <td>9</td>\n",
       "    </tr>\n",
       "    <tr>\n",
       "      <th>10</th>\n",
       "      <td>5</td>\n",
       "      <td>10</td>\n",
       "    </tr>\n",
       "    <tr>\n",
       "      <th>11</th>\n",
       "      <td>5</td>\n",
       "      <td>11</td>\n",
       "    </tr>\n",
       "    <tr>\n",
       "      <th>12</th>\n",
       "      <td>5</td>\n",
       "      <td>12</td>\n",
       "    </tr>\n",
       "    <tr>\n",
       "      <th>13</th>\n",
       "      <td>5</td>\n",
       "      <td>13</td>\n",
       "    </tr>\n",
       "    <tr>\n",
       "      <th>14</th>\n",
       "      <td>5</td>\n",
       "      <td>14</td>\n",
       "    </tr>\n",
       "    <tr>\n",
       "      <th>15</th>\n",
       "      <td>5</td>\n",
       "      <td>15</td>\n",
       "    </tr>\n",
       "    <tr>\n",
       "      <th>16</th>\n",
       "      <td>5</td>\n",
       "      <td>16</td>\n",
       "    </tr>\n",
       "    <tr>\n",
       "      <th>17</th>\n",
       "      <td>5</td>\n",
       "      <td>17</td>\n",
       "    </tr>\n",
       "    <tr>\n",
       "      <th>18</th>\n",
       "      <td>5</td>\n",
       "      <td>18</td>\n",
       "    </tr>\n",
       "    <tr>\n",
       "      <th>19</th>\n",
       "      <td>5</td>\n",
       "      <td>19</td>\n",
       "    </tr>\n",
       "  </tbody>\n",
       "</table>\n",
       "</div>"
      ],
      "text/plain": [
       "    A   B\n",
       "0   1   0\n",
       "1   1   1\n",
       "2   1   2\n",
       "3   1   3\n",
       "4   1   4\n",
       "5   1   5\n",
       "6   1   6\n",
       "7   1   7\n",
       "8   1   8\n",
       "9   1   9\n",
       "10  5  10\n",
       "11  5  11\n",
       "12  5  12\n",
       "13  5  13\n",
       "14  5  14\n",
       "15  5  15\n",
       "16  5  16\n",
       "17  5  17\n",
       "18  5  18\n",
       "19  5  19"
      ]
     },
     "execution_count": 17,
     "metadata": {},
     "output_type": "execute_result"
    }
   ],
   "source": [
    "df_re = pd.DataFrame({'A': [1]*10 + [5]*10,'B': np.arange(20)})\n",
    "df_re"
   ]
  },
  {
   "cell_type": "code",
   "execution_count": 18,
   "metadata": {
    "collapsed": false
   },
   "outputs": [
    {
     "data": {
      "text/plain": [
       "A    \n",
       "1  0      NaN\n",
       "   1      NaN\n",
       "   2      NaN\n",
       "   3      1.5\n",
       "   4      2.5\n",
       "   5      3.5\n",
       "   6      4.5\n",
       "   7      5.5\n",
       "   8      6.5\n",
       "   9      7.5\n",
       "5  10     NaN\n",
       "   11     NaN\n",
       "   12     NaN\n",
       "   13    11.5\n",
       "   14    12.5\n",
       "   15    13.5\n",
       "   16    14.5\n",
       "   17    15.5\n",
       "   18    16.5\n",
       "   19    17.5\n",
       "Name: B, dtype: float64"
      ]
     },
     "execution_count": 18,
     "metadata": {},
     "output_type": "execute_result"
    }
   ],
   "source": [
    "df_re.groupby('A').rolling(4).B.mean()"
   ]
  },
  {
   "cell_type": "code",
   "execution_count": 22,
   "metadata": {
    "collapsed": false
   },
   "outputs": [
    {
     "data": {
      "text/plain": [
       "MultiIndex(levels=[[1, 5], [0, 1, 2, 3, 4, 5, 6, 7, 8, 9, 10, 11, 12, 13, 14, 15, 16, 17, 18, 19]],\n",
       "           labels=[[0, 0, 0, 0, 0, 0, 0, 0, 0, 0, 1, 1, 1, 1, 1, 1, 1, 1, 1, 1], [0, 1, 2, 3, 4, 5, 6, 7, 8, 9, 10, 11, 12, 13, 14, 15, 16, 17, 18, 19]],\n",
       "           names=['A', None])"
      ]
     },
     "execution_count": 22,
     "metadata": {},
     "output_type": "execute_result"
    }
   ],
   "source": [
    "result=df_re.groupby('A').rolling(2).B.sum()\n",
    "\n",
    "result.index"
   ]
  },
  {
   "cell_type": "code",
   "execution_count": 155,
   "metadata": {
    "collapsed": true
   },
   "outputs": [
    {
     "data": {
      "text/html": [
       "<div>\n",
       "<style scoped>\n",
       "    .dataframe tbody tr th:only-of-type {\n",
       "        vertical-align: middle;\n",
       "    }\n",
       "\n",
       "    .dataframe tbody tr th {\n",
       "        vertical-align: top;\n",
       "    }\n",
       "\n",
       "    .dataframe thead th {\n",
       "        text-align: right;\n",
       "    }\n",
       "</style>\n",
       "<table border=\"1\" class=\"dataframe\">\n",
       "  <thead>\n",
       "    <tr style=\"text-align: right;\">\n",
       "      <th></th>\n",
       "      <th></th>\n",
       "      <th>A</th>\n",
       "      <th>B</th>\n",
       "    </tr>\n",
       "    <tr>\n",
       "      <th>A</th>\n",
       "      <th></th>\n",
       "      <th></th>\n",
       "      <th></th>\n",
       "    </tr>\n",
       "  </thead>\n",
       "  <tbody>\n",
       "    <tr>\n",
       "      <th rowspan=\"10\" valign=\"top\">1</th>\n",
       "      <th>0</th>\n",
       "      <td>1.0</td>\n",
       "      <td>0.0</td>\n",
       "    </tr>\n",
       "    <tr>\n",
       "      <th>1</th>\n",
       "      <td>2.0</td>\n",
       "      <td>1.0</td>\n",
       "    </tr>\n",
       "    <tr>\n",
       "      <th>2</th>\n",
       "      <td>3.0</td>\n",
       "      <td>3.0</td>\n",
       "    </tr>\n",
       "    <tr>\n",
       "      <th>3</th>\n",
       "      <td>4.0</td>\n",
       "      <td>6.0</td>\n",
       "    </tr>\n",
       "    <tr>\n",
       "      <th>4</th>\n",
       "      <td>5.0</td>\n",
       "      <td>10.0</td>\n",
       "    </tr>\n",
       "    <tr>\n",
       "      <th>5</th>\n",
       "      <td>6.0</td>\n",
       "      <td>15.0</td>\n",
       "    </tr>\n",
       "    <tr>\n",
       "      <th>6</th>\n",
       "      <td>7.0</td>\n",
       "      <td>21.0</td>\n",
       "    </tr>\n",
       "    <tr>\n",
       "      <th>7</th>\n",
       "      <td>8.0</td>\n",
       "      <td>28.0</td>\n",
       "    </tr>\n",
       "    <tr>\n",
       "      <th>8</th>\n",
       "      <td>9.0</td>\n",
       "      <td>36.0</td>\n",
       "    </tr>\n",
       "    <tr>\n",
       "      <th>9</th>\n",
       "      <td>10.0</td>\n",
       "      <td>45.0</td>\n",
       "    </tr>\n",
       "    <tr>\n",
       "      <th rowspan=\"10\" valign=\"top\">5</th>\n",
       "      <th>10</th>\n",
       "      <td>5.0</td>\n",
       "      <td>10.0</td>\n",
       "    </tr>\n",
       "    <tr>\n",
       "      <th>11</th>\n",
       "      <td>10.0</td>\n",
       "      <td>21.0</td>\n",
       "    </tr>\n",
       "    <tr>\n",
       "      <th>12</th>\n",
       "      <td>15.0</td>\n",
       "      <td>33.0</td>\n",
       "    </tr>\n",
       "    <tr>\n",
       "      <th>13</th>\n",
       "      <td>20.0</td>\n",
       "      <td>46.0</td>\n",
       "    </tr>\n",
       "    <tr>\n",
       "      <th>14</th>\n",
       "      <td>25.0</td>\n",
       "      <td>60.0</td>\n",
       "    </tr>\n",
       "    <tr>\n",
       "      <th>15</th>\n",
       "      <td>30.0</td>\n",
       "      <td>75.0</td>\n",
       "    </tr>\n",
       "    <tr>\n",
       "      <th>16</th>\n",
       "      <td>35.0</td>\n",
       "      <td>91.0</td>\n",
       "    </tr>\n",
       "    <tr>\n",
       "      <th>17</th>\n",
       "      <td>40.0</td>\n",
       "      <td>108.0</td>\n",
       "    </tr>\n",
       "    <tr>\n",
       "      <th>18</th>\n",
       "      <td>45.0</td>\n",
       "      <td>126.0</td>\n",
       "    </tr>\n",
       "    <tr>\n",
       "      <th>19</th>\n",
       "      <td>50.0</td>\n",
       "      <td>145.0</td>\n",
       "    </tr>\n",
       "  </tbody>\n",
       "</table>\n",
       "</div>"
      ],
      "text/plain": [
       "         A      B\n",
       "A                \n",
       "1 0    1.0    0.0\n",
       "  1    2.0    1.0\n",
       "  2    3.0    3.0\n",
       "  3    4.0    6.0\n",
       "  4    5.0   10.0\n",
       "  5    6.0   15.0\n",
       "  6    7.0   21.0\n",
       "  7    8.0   28.0\n",
       "  8    9.0   36.0\n",
       "  9   10.0   45.0\n",
       "5 10   5.0   10.0\n",
       "  11  10.0   21.0\n",
       "  12  15.0   33.0\n",
       "  13  20.0   46.0\n",
       "  14  25.0   60.0\n",
       "  15  30.0   75.0\n",
       "  16  35.0   91.0\n",
       "  17  40.0  108.0\n",
       "  18  45.0  126.0\n",
       "  19  50.0  145.0"
      ]
     },
     "execution_count": 155,
     "metadata": {},
     "output_type": "execute_result"
    }
   ],
   "source": [
    "df_re.groupby('A').expanding().sum()"
   ]
  },
  {
   "cell_type": "code",
   "execution_count": 3,
   "metadata": {
    "collapsed": false
   },
   "outputs": [
    {
     "data": {
      "text/html": [
       "<div>\n",
       "<style scoped>\n",
       "    .dataframe tbody tr th:only-of-type {\n",
       "        vertical-align: middle;\n",
       "    }\n",
       "\n",
       "    .dataframe tbody tr th {\n",
       "        vertical-align: top;\n",
       "    }\n",
       "\n",
       "    .dataframe thead th {\n",
       "        text-align: right;\n",
       "    }\n",
       "</style>\n",
       "<table border=\"1\" class=\"dataframe\">\n",
       "  <thead>\n",
       "    <tr style=\"text-align: right;\">\n",
       "      <th></th>\n",
       "      <th>group</th>\n",
       "      <th>val</th>\n",
       "    </tr>\n",
       "    <tr>\n",
       "      <th>date</th>\n",
       "      <th></th>\n",
       "      <th></th>\n",
       "    </tr>\n",
       "  </thead>\n",
       "  <tbody>\n",
       "    <tr>\n",
       "      <th>2016-01-03</th>\n",
       "      <td>1</td>\n",
       "      <td>5</td>\n",
       "    </tr>\n",
       "    <tr>\n",
       "      <th>2016-01-10</th>\n",
       "      <td>1</td>\n",
       "      <td>6</td>\n",
       "    </tr>\n",
       "    <tr>\n",
       "      <th>2016-01-17</th>\n",
       "      <td>2</td>\n",
       "      <td>7</td>\n",
       "    </tr>\n",
       "    <tr>\n",
       "      <th>2016-01-24</th>\n",
       "      <td>2</td>\n",
       "      <td>8</td>\n",
       "    </tr>\n",
       "  </tbody>\n",
       "</table>\n",
       "</div>"
      ],
      "text/plain": [
       "            group  val\n",
       "date                  \n",
       "2016-01-03      1    5\n",
       "2016-01-10      1    6\n",
       "2016-01-17      2    7\n",
       "2016-01-24      2    8"
      ]
     },
     "execution_count": 3,
     "metadata": {},
     "output_type": "execute_result"
    }
   ],
   "source": [
    "df_re = pd.DataFrame({'date': pd.date_range(start='2016-01-01',periods=4,freq='W'),\n",
    "                      'group': [1, 1, 2, 2],\n",
    "                      'val': [5, 6, 7, 8]}).set_index('date')\n",
    "df_re"
   ]
  },
  {
   "cell_type": "code",
   "execution_count": 4,
   "metadata": {
    "collapsed": false
   },
   "outputs": [
    {
     "data": {
      "text/html": [
       "<div>\n",
       "<style scoped>\n",
       "    .dataframe tbody tr th:only-of-type {\n",
       "        vertical-align: middle;\n",
       "    }\n",
       "\n",
       "    .dataframe tbody tr th {\n",
       "        vertical-align: top;\n",
       "    }\n",
       "\n",
       "    .dataframe thead th {\n",
       "        text-align: right;\n",
       "    }\n",
       "</style>\n",
       "<table border=\"1\" class=\"dataframe\">\n",
       "  <thead>\n",
       "    <tr style=\"text-align: right;\">\n",
       "      <th></th>\n",
       "      <th></th>\n",
       "      <th>group</th>\n",
       "      <th>val</th>\n",
       "    </tr>\n",
       "    <tr>\n",
       "      <th>group</th>\n",
       "      <th>date</th>\n",
       "      <th></th>\n",
       "      <th></th>\n",
       "    </tr>\n",
       "  </thead>\n",
       "  <tbody>\n",
       "    <tr>\n",
       "      <th rowspan=\"8\" valign=\"top\">1</th>\n",
       "      <th>2016-01-03</th>\n",
       "      <td>1</td>\n",
       "      <td>5</td>\n",
       "    </tr>\n",
       "    <tr>\n",
       "      <th>2016-01-04</th>\n",
       "      <td>1</td>\n",
       "      <td>5</td>\n",
       "    </tr>\n",
       "    <tr>\n",
       "      <th>2016-01-05</th>\n",
       "      <td>1</td>\n",
       "      <td>5</td>\n",
       "    </tr>\n",
       "    <tr>\n",
       "      <th>2016-01-06</th>\n",
       "      <td>1</td>\n",
       "      <td>5</td>\n",
       "    </tr>\n",
       "    <tr>\n",
       "      <th>2016-01-07</th>\n",
       "      <td>1</td>\n",
       "      <td>5</td>\n",
       "    </tr>\n",
       "    <tr>\n",
       "      <th>2016-01-08</th>\n",
       "      <td>1</td>\n",
       "      <td>5</td>\n",
       "    </tr>\n",
       "    <tr>\n",
       "      <th>2016-01-09</th>\n",
       "      <td>1</td>\n",
       "      <td>5</td>\n",
       "    </tr>\n",
       "    <tr>\n",
       "      <th>2016-01-10</th>\n",
       "      <td>1</td>\n",
       "      <td>6</td>\n",
       "    </tr>\n",
       "    <tr>\n",
       "      <th rowspan=\"8\" valign=\"top\">2</th>\n",
       "      <th>2016-01-17</th>\n",
       "      <td>2</td>\n",
       "      <td>7</td>\n",
       "    </tr>\n",
       "    <tr>\n",
       "      <th>2016-01-18</th>\n",
       "      <td>2</td>\n",
       "      <td>7</td>\n",
       "    </tr>\n",
       "    <tr>\n",
       "      <th>2016-01-19</th>\n",
       "      <td>2</td>\n",
       "      <td>7</td>\n",
       "    </tr>\n",
       "    <tr>\n",
       "      <th>2016-01-20</th>\n",
       "      <td>2</td>\n",
       "      <td>7</td>\n",
       "    </tr>\n",
       "    <tr>\n",
       "      <th>2016-01-21</th>\n",
       "      <td>2</td>\n",
       "      <td>7</td>\n",
       "    </tr>\n",
       "    <tr>\n",
       "      <th>2016-01-22</th>\n",
       "      <td>2</td>\n",
       "      <td>7</td>\n",
       "    </tr>\n",
       "    <tr>\n",
       "      <th>2016-01-23</th>\n",
       "      <td>2</td>\n",
       "      <td>7</td>\n",
       "    </tr>\n",
       "    <tr>\n",
       "      <th>2016-01-24</th>\n",
       "      <td>2</td>\n",
       "      <td>8</td>\n",
       "    </tr>\n",
       "  </tbody>\n",
       "</table>\n",
       "</div>"
      ],
      "text/plain": [
       "                  group  val\n",
       "group date                  \n",
       "1     2016-01-03      1    5\n",
       "      2016-01-04      1    5\n",
       "      2016-01-05      1    5\n",
       "      2016-01-06      1    5\n",
       "      2016-01-07      1    5\n",
       "      2016-01-08      1    5\n",
       "      2016-01-09      1    5\n",
       "      2016-01-10      1    6\n",
       "2     2016-01-17      2    7\n",
       "      2016-01-18      2    7\n",
       "      2016-01-19      2    7\n",
       "      2016-01-20      2    7\n",
       "      2016-01-21      2    7\n",
       "      2016-01-22      2    7\n",
       "      2016-01-23      2    7\n",
       "      2016-01-24      2    8"
      ]
     },
     "execution_count": 4,
     "metadata": {},
     "output_type": "execute_result"
    }
   ],
   "source": [
    "df_re.groupby('group').resample('1D').ffill()"
   ]
  },
  {
   "cell_type": "markdown",
   "metadata": {},
   "source": [
    "# 16.6 Filtration"
   ]
  },
  {
   "cell_type": "code",
   "execution_count": 6,
   "metadata": {
    "collapsed": false
   },
   "outputs": [
    {
     "data": {
      "text/plain": [
       "{1: Int64Index([0, 1], dtype='int64'),\n",
       " 2: Int64Index([2], dtype='int64'),\n",
       " 3: Int64Index([3, 4, 5], dtype='int64')}"
      ]
     },
     "execution_count": 6,
     "metadata": {},
     "output_type": "execute_result"
    }
   ],
   "source": [
    "sf = pd.Series([1, 1, 2, 3, 3, 3])\n",
    "sf_grouped=sf.groupby(sf)\n",
    "sf_grouped.groups"
   ]
  },
  {
   "cell_type": "code",
   "execution_count": 7,
   "metadata": {
    "collapsed": false
   },
   "outputs": [
    {
     "data": {
      "text/plain": [
       "3    3\n",
       "4    3\n",
       "5    3\n",
       "dtype: int64"
      ]
     },
     "execution_count": 7,
     "metadata": {},
     "output_type": "execute_result"
    }
   ],
   "source": [
    "sf.groupby(sf).filter(lambda x: x.sum() > 2)"
   ]
  },
  {
   "cell_type": "code",
   "execution_count": 12,
   "metadata": {
    "collapsed": false
   },
   "outputs": [
    {
     "data": {
      "text/html": [
       "<div>\n",
       "<style scoped>\n",
       "    .dataframe tbody tr th:only-of-type {\n",
       "        vertical-align: middle;\n",
       "    }\n",
       "\n",
       "    .dataframe tbody tr th {\n",
       "        vertical-align: top;\n",
       "    }\n",
       "\n",
       "    .dataframe thead th {\n",
       "        text-align: right;\n",
       "    }\n",
       "</style>\n",
       "<table border=\"1\" class=\"dataframe\">\n",
       "  <thead>\n",
       "    <tr style=\"text-align: right;\">\n",
       "      <th></th>\n",
       "      <th>A</th>\n",
       "      <th>B</th>\n",
       "    </tr>\n",
       "  </thead>\n",
       "  <tbody>\n",
       "    <tr>\n",
       "      <th>0</th>\n",
       "      <td>0</td>\n",
       "      <td>a</td>\n",
       "    </tr>\n",
       "    <tr>\n",
       "      <th>1</th>\n",
       "      <td>1</td>\n",
       "      <td>a</td>\n",
       "    </tr>\n",
       "    <tr>\n",
       "      <th>2</th>\n",
       "      <td>2</td>\n",
       "      <td>b</td>\n",
       "    </tr>\n",
       "    <tr>\n",
       "      <th>3</th>\n",
       "      <td>3</td>\n",
       "      <td>b</td>\n",
       "    </tr>\n",
       "    <tr>\n",
       "      <th>4</th>\n",
       "      <td>4</td>\n",
       "      <td>b</td>\n",
       "    </tr>\n",
       "    <tr>\n",
       "      <th>5</th>\n",
       "      <td>5</td>\n",
       "      <td>b</td>\n",
       "    </tr>\n",
       "    <tr>\n",
       "      <th>6</th>\n",
       "      <td>6</td>\n",
       "      <td>c</td>\n",
       "    </tr>\n",
       "    <tr>\n",
       "      <th>7</th>\n",
       "      <td>7</td>\n",
       "      <td>c</td>\n",
       "    </tr>\n",
       "  </tbody>\n",
       "</table>\n",
       "</div>"
      ],
      "text/plain": [
       "   A  B\n",
       "0  0  a\n",
       "1  1  a\n",
       "2  2  b\n",
       "3  3  b\n",
       "4  4  b\n",
       "5  5  b\n",
       "6  6  c\n",
       "7  7  c"
      ]
     },
     "execution_count": 12,
     "metadata": {},
     "output_type": "execute_result"
    }
   ],
   "source": [
    "dff = pd.DataFrame({'A': np.arange(8), 'B': list('aabbbbcc')})\n",
    "dff"
   ]
  },
  {
   "cell_type": "code",
   "execution_count": 13,
   "metadata": {
    "collapsed": false
   },
   "outputs": [
    {
     "data": {
      "text/html": [
       "<div>\n",
       "<style scoped>\n",
       "    .dataframe tbody tr th:only-of-type {\n",
       "        vertical-align: middle;\n",
       "    }\n",
       "\n",
       "    .dataframe tbody tr th {\n",
       "        vertical-align: top;\n",
       "    }\n",
       "\n",
       "    .dataframe thead th {\n",
       "        text-align: right;\n",
       "    }\n",
       "</style>\n",
       "<table border=\"1\" class=\"dataframe\">\n",
       "  <thead>\n",
       "    <tr style=\"text-align: right;\">\n",
       "      <th></th>\n",
       "      <th>A</th>\n",
       "      <th>B</th>\n",
       "    </tr>\n",
       "  </thead>\n",
       "  <tbody>\n",
       "    <tr>\n",
       "      <th>2</th>\n",
       "      <td>2</td>\n",
       "      <td>b</td>\n",
       "    </tr>\n",
       "    <tr>\n",
       "      <th>3</th>\n",
       "      <td>3</td>\n",
       "      <td>b</td>\n",
       "    </tr>\n",
       "    <tr>\n",
       "      <th>4</th>\n",
       "      <td>4</td>\n",
       "      <td>b</td>\n",
       "    </tr>\n",
       "    <tr>\n",
       "      <th>5</th>\n",
       "      <td>5</td>\n",
       "      <td>b</td>\n",
       "    </tr>\n",
       "  </tbody>\n",
       "</table>\n",
       "</div>"
      ],
      "text/plain": [
       "   A  B\n",
       "2  2  b\n",
       "3  3  b\n",
       "4  4  b\n",
       "5  5  b"
      ]
     },
     "execution_count": 13,
     "metadata": {},
     "output_type": "execute_result"
    }
   ],
   "source": [
    "dff.groupby('B').filter(lambda x: len(x) > 2)"
   ]
  },
  {
   "cell_type": "code",
   "execution_count": 10,
   "metadata": {
    "collapsed": false
   },
   "outputs": [
    {
     "data": {
      "text/html": [
       "<div>\n",
       "<style scoped>\n",
       "    .dataframe tbody tr th:only-of-type {\n",
       "        vertical-align: middle;\n",
       "    }\n",
       "\n",
       "    .dataframe tbody tr th {\n",
       "        vertical-align: top;\n",
       "    }\n",
       "\n",
       "    .dataframe thead th {\n",
       "        text-align: right;\n",
       "    }\n",
       "</style>\n",
       "<table border=\"1\" class=\"dataframe\">\n",
       "  <thead>\n",
       "    <tr style=\"text-align: right;\">\n",
       "      <th></th>\n",
       "      <th>A</th>\n",
       "      <th>B</th>\n",
       "    </tr>\n",
       "  </thead>\n",
       "  <tbody>\n",
       "    <tr>\n",
       "      <th>0</th>\n",
       "      <td>NaN</td>\n",
       "      <td>NaN</td>\n",
       "    </tr>\n",
       "    <tr>\n",
       "      <th>1</th>\n",
       "      <td>NaN</td>\n",
       "      <td>NaN</td>\n",
       "    </tr>\n",
       "    <tr>\n",
       "      <th>2</th>\n",
       "      <td>2.0</td>\n",
       "      <td>b</td>\n",
       "    </tr>\n",
       "    <tr>\n",
       "      <th>3</th>\n",
       "      <td>3.0</td>\n",
       "      <td>b</td>\n",
       "    </tr>\n",
       "    <tr>\n",
       "      <th>4</th>\n",
       "      <td>4.0</td>\n",
       "      <td>b</td>\n",
       "    </tr>\n",
       "    <tr>\n",
       "      <th>5</th>\n",
       "      <td>5.0</td>\n",
       "      <td>b</td>\n",
       "    </tr>\n",
       "    <tr>\n",
       "      <th>6</th>\n",
       "      <td>NaN</td>\n",
       "      <td>NaN</td>\n",
       "    </tr>\n",
       "    <tr>\n",
       "      <th>7</th>\n",
       "      <td>NaN</td>\n",
       "      <td>NaN</td>\n",
       "    </tr>\n",
       "  </tbody>\n",
       "</table>\n",
       "</div>"
      ],
      "text/plain": [
       "     A    B\n",
       "0  NaN  NaN\n",
       "1  NaN  NaN\n",
       "2  2.0    b\n",
       "3  3.0    b\n",
       "4  4.0    b\n",
       "5  5.0    b\n",
       "6  NaN  NaN\n",
       "7  NaN  NaN"
      ]
     },
     "execution_count": 10,
     "metadata": {},
     "output_type": "execute_result"
    }
   ],
   "source": [
    "dff.groupby('B').filter(lambda x: len(x) > 2, dropna=False)"
   ]
  },
  {
   "cell_type": "code",
   "execution_count": 15,
   "metadata": {
    "collapsed": false
   },
   "outputs": [
    {
     "data": {
      "text/html": [
       "<div>\n",
       "<style scoped>\n",
       "    .dataframe tbody tr th:only-of-type {\n",
       "        vertical-align: middle;\n",
       "    }\n",
       "\n",
       "    .dataframe tbody tr th {\n",
       "        vertical-align: top;\n",
       "    }\n",
       "\n",
       "    .dataframe thead th {\n",
       "        text-align: right;\n",
       "    }\n",
       "</style>\n",
       "<table border=\"1\" class=\"dataframe\">\n",
       "  <thead>\n",
       "    <tr style=\"text-align: right;\">\n",
       "      <th></th>\n",
       "      <th>A</th>\n",
       "      <th>B</th>\n",
       "      <th>C</th>\n",
       "    </tr>\n",
       "  </thead>\n",
       "  <tbody>\n",
       "    <tr>\n",
       "      <th>2</th>\n",
       "      <td>2</td>\n",
       "      <td>b</td>\n",
       "      <td>2</td>\n",
       "    </tr>\n",
       "    <tr>\n",
       "      <th>3</th>\n",
       "      <td>3</td>\n",
       "      <td>b</td>\n",
       "      <td>3</td>\n",
       "    </tr>\n",
       "    <tr>\n",
       "      <th>4</th>\n",
       "      <td>4</td>\n",
       "      <td>b</td>\n",
       "      <td>4</td>\n",
       "    </tr>\n",
       "    <tr>\n",
       "      <th>5</th>\n",
       "      <td>5</td>\n",
       "      <td>b</td>\n",
       "      <td>5</td>\n",
       "    </tr>\n",
       "  </tbody>\n",
       "</table>\n",
       "</div>"
      ],
      "text/plain": [
       "   A  B  C\n",
       "2  2  b  2\n",
       "3  3  b  3\n",
       "4  4  b  4\n",
       "5  5  b  5"
      ]
     },
     "execution_count": 15,
     "metadata": {},
     "output_type": "execute_result"
    }
   ],
   "source": [
    "dff['C'] = np.arange(8)\n",
    "dff.groupby('B').filter(lambda x: len(x['C']) > 2)"
   ]
  },
  {
   "cell_type": "markdown",
   "metadata": {},
   "source": [
    "# 16.8 Flexible apply"
   ]
  },
  {
   "cell_type": "code",
   "execution_count": 3,
   "metadata": {
    "collapsed": false
   },
   "outputs": [],
   "source": [
    "df = pd.DataFrame({'A':['foo', 'bar','foo', 'bar','foo', 'bar','foo', 'foo'], \n",
    "                   'C': np.arange(8),\n",
    "                   'D': np.arange(8), \n",
    "                   'B': ['one', 'one', 'two', 'three', 'two', 'two', 'one', 'three']})"
   ]
  },
  {
   "cell_type": "code",
   "execution_count": 5,
   "metadata": {
    "collapsed": true
   },
   "outputs": [],
   "source": [
    "grouped = df.groupby('A')"
   ]
  },
  {
   "cell_type": "code",
   "execution_count": 6,
   "metadata": {
    "collapsed": false
   },
   "outputs": [
    {
     "data": {
      "text/plain": [
       "A         \n",
       "bar  count    3.000000\n",
       "     mean     3.000000\n",
       "     std      2.000000\n",
       "     min      1.000000\n",
       "     25%      2.000000\n",
       "     50%      3.000000\n",
       "     75%      4.000000\n",
       "     max      5.000000\n",
       "foo  count    5.000000\n",
       "     mean     3.800000\n",
       "     std      2.863564\n",
       "     min      0.000000\n",
       "     25%      2.000000\n",
       "     50%      4.000000\n",
       "     75%      6.000000\n",
       "     max      7.000000\n",
       "Name: C, dtype: float64"
      ]
     },
     "execution_count": 6,
     "metadata": {},
     "output_type": "execute_result"
    }
   ],
   "source": [
    "grouped['C'].apply(lambda x: x.describe())"
   ]
  },
  {
   "cell_type": "code",
   "execution_count": 7,
   "metadata": {
    "collapsed": true
   },
   "outputs": [],
   "source": [
    "grouped = df.groupby('A')['C']"
   ]
  },
  {
   "cell_type": "code",
   "execution_count": 9,
   "metadata": {
    "collapsed": false
   },
   "outputs": [
    {
     "data": {
      "text/html": [
       "<div>\n",
       "<style scoped>\n",
       "    .dataframe tbody tr th:only-of-type {\n",
       "        vertical-align: middle;\n",
       "    }\n",
       "\n",
       "    .dataframe tbody tr th {\n",
       "        vertical-align: top;\n",
       "    }\n",
       "\n",
       "    .dataframe thead th {\n",
       "        text-align: right;\n",
       "    }\n",
       "</style>\n",
       "<table border=\"1\" class=\"dataframe\">\n",
       "  <thead>\n",
       "    <tr style=\"text-align: right;\">\n",
       "      <th></th>\n",
       "      <th>demeaned</th>\n",
       "      <th>original</th>\n",
       "    </tr>\n",
       "  </thead>\n",
       "  <tbody>\n",
       "    <tr>\n",
       "      <th>0</th>\n",
       "      <td>-3.8</td>\n",
       "      <td>0</td>\n",
       "    </tr>\n",
       "    <tr>\n",
       "      <th>1</th>\n",
       "      <td>-2.0</td>\n",
       "      <td>1</td>\n",
       "    </tr>\n",
       "    <tr>\n",
       "      <th>2</th>\n",
       "      <td>-1.8</td>\n",
       "      <td>2</td>\n",
       "    </tr>\n",
       "    <tr>\n",
       "      <th>3</th>\n",
       "      <td>0.0</td>\n",
       "      <td>3</td>\n",
       "    </tr>\n",
       "    <tr>\n",
       "      <th>4</th>\n",
       "      <td>0.2</td>\n",
       "      <td>4</td>\n",
       "    </tr>\n",
       "    <tr>\n",
       "      <th>5</th>\n",
       "      <td>2.0</td>\n",
       "      <td>5</td>\n",
       "    </tr>\n",
       "    <tr>\n",
       "      <th>6</th>\n",
       "      <td>2.2</td>\n",
       "      <td>6</td>\n",
       "    </tr>\n",
       "    <tr>\n",
       "      <th>7</th>\n",
       "      <td>3.2</td>\n",
       "      <td>7</td>\n",
       "    </tr>\n",
       "  </tbody>\n",
       "</table>\n",
       "</div>"
      ],
      "text/plain": [
       "   demeaned  original\n",
       "0      -3.8         0\n",
       "1      -2.0         1\n",
       "2      -1.8         2\n",
       "3       0.0         3\n",
       "4       0.2         4\n",
       "5       2.0         5\n",
       "6       2.2         6\n",
       "7       3.2         7"
      ]
     },
     "execution_count": 9,
     "metadata": {},
     "output_type": "execute_result"
    }
   ],
   "source": [
    "def f(group):\n",
    "    return pd.DataFrame({'original' : group,\n",
    "                         'demeaned' : group - group.mean()})\n",
    "grouped.apply(f)"
   ]
  }
 ],
 "metadata": {
  "anaconda-cloud": {},
  "kernelspec": {
   "display_name": "Python [conda root]",
   "language": "python",
   "name": "conda-root-py"
  },
  "language_info": {
   "codemirror_mode": {
    "name": "ipython",
    "version": 3
   },
   "file_extension": ".py",
   "mimetype": "text/x-python",
   "name": "python",
   "nbconvert_exporter": "python",
   "pygments_lexer": "ipython3",
   "version": "3.5.2"
  }
 },
 "nbformat": 4,
 "nbformat_minor": 1
}
